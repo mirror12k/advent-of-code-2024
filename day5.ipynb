{
 "cells": [
  {
   "cell_type": "code",
   "execution_count": 1,
   "id": "cbc066b3-52c7-4c9e-a407-cc288b35ac10",
   "metadata": {},
   "outputs": [
    {
     "data": {
      "text/plain": [
       "1"
      ]
     },
     "execution_count": 1,
     "metadata": {},
     "output_type": "execute_result"
    }
   ],
   "source": [
    "#!/usr/bin/env perl\n",
    "use strict;\n",
    "use warnings;\n",
    "use feature qw/ say /;\n",
    "use Data::Dumper;\n",
    "use lib '.';\n",
    "use toolkit;\n",
    "use graphql;\n",
    "use adventofcode;\n",
    "\n",
    "$Data::Dumper::Sortkeys = 1;"
   ]
  },
  {
   "cell_type": "code",
   "execution_count": 2,
   "id": "473a81c6-eb9a-4560-803e-6149545ee784",
   "metadata": {},
   "outputs": [
    {
     "data": {
      "text/plain": [
       "\n",
       "47|53\n",
       "97|13\n",
       "97|61\n",
       "97|47\n",
       "75|29\n",
       "61|13\n",
       "75|53\n",
       "29|13\n",
       "97|29\n",
       "53|29\n",
       "61|53\n",
       "97|53\n",
       "61|29\n",
       "47|13\n",
       "75|47\n",
       "97|75\n",
       "47|61\n",
       "75|61\n",
       "47|29\n",
       "75|13\n",
       "53|13\n",
       "\n",
       "75,47,61,53,29\n",
       "97,61,53,29,13\n",
       "75,29,13\n",
       "75,97,47,61,53\n",
       "61,13,29\n",
       "97,13,75,29,47\n"
      ]
     },
     "execution_count": 2,
     "metadata": {},
     "output_type": "execute_result"
    }
   ],
   "source": [
    "my $practice_input = qq/\n",
    "47|53\n",
    "97|13\n",
    "97|61\n",
    "97|47\n",
    "75|29\n",
    "61|13\n",
    "75|53\n",
    "29|13\n",
    "97|29\n",
    "53|29\n",
    "61|53\n",
    "97|53\n",
    "61|29\n",
    "47|13\n",
    "75|47\n",
    "97|75\n",
    "47|61\n",
    "75|61\n",
    "47|29\n",
    "75|13\n",
    "53|13\n",
    "\n",
    "75,47,61,53,29\n",
    "97,61,53,29,13\n",
    "75,29,13\n",
    "75,97,47,61,53\n",
    "61,13,29\n",
    "97,13,75,29,47\n",
    "/;"
   ]
  },
  {
   "cell_type": "code",
   "execution_count": 3,
   "id": "0a6a30a0-7125-49d7-b230-58296d4b0905",
   "metadata": {},
   "outputs": [
    {
     "name": "stdout",
     "output_type": "stream",
     "text": [
      "$VAR1 = 143;\n",
      "\n"
     ]
    },
    {
     "data": {
      "text/plain": [
       "1"
      ]
     },
     "execution_count": 3,
     "metadata": {},
     "output_type": "execute_result"
    }
   ],
   "source": [
    "sub parse_rules_table {\n",
    "    my ($rules) = @_;\n",
    "    my %table;\n",
    "    foreach ($rules =~ /\\d+\\|\\d+/g) {\n",
    "        my ($page, $before) = split /\\|/;\n",
    "        push @{$table{$page}}, $before;\n",
    "    }\n",
    "    %table;\n",
    "}\n",
    "sub parse_rules_violations_table {\n",
    "    my ($rules) = @_;\n",
    "    my %table;\n",
    "    foreach ($rules =~ /\\d+\\|\\d+/g) {\n",
    "        my ($page, $before) = split /\\|/;\n",
    "        $table{$before}{$page} = 1;\n",
    "    }\n",
    "    %table;\n",
    "}\n",
    "$graphql::graphql_methods{row_after} = sub {\n",
    "        my ($self, $params) = @_;\n",
    "        my @row = @{$self->{arr}[$self->{coord}[0]]};\n",
    "        return [ @row[($self->{coord}[1] + 1) .. $#row] ];\n",
    "    };\n",
    "$graphql::graphql_methods{midvalue} = sub {\n",
    "        my ($self, $params) = @_;\n",
    "        return $self->{value}[int(@{$self->{value}} / 2)];\n",
    "    };\n",
    "\n",
    "sub map_rows {\n",
    "    my ($fun, $arr) = @_;\n",
    "\treturn [ map { $fun->($_) } @$arr ] if (@$arr >= 0 and ref $arr->[0][0] ne 'ARRAY');\n",
    "\treturn [ map map_rows($fun, $_), @$arr ];\n",
    "}\n",
    "\n",
    "sub midvalue { $_[int(@_ / 2)] }\n",
    "\n",
    "sub process_day5_part1 {\n",
    "    my ($input) = @_;\n",
    "\n",
    "    my ($rules, $rows) = split \"\\n\\n\", $input;\n",
    "    my %violations_table = parse_rules_violations_table($rules);\n",
    "\n",
    "    $rows =~ s/,/ /g;\n",
    "        sum grep defined,\n",
    "        @{\n",
    "            map_rows sub { (all { $_->{is_valid} } @$_) ? midvalue(map $_->{value}, @$_) : undef },\n",
    "            map_nd sub { my $val = $_->{value}; $_->{is_valid} = none { exists $violations_table{$val}{$_} } @{$_->{row_after}}; $_ },\n",
    "            map_nd_indexed graphql_query('{ value row_after }'),\n",
    "            parse_2d_string_array($rows)};\n",
    "}\n",
    "\n",
    "say Dumper process_day5_part1($practice_input);"
   ]
  },
  {
   "cell_type": "code",
   "execution_count": 4,
   "id": "dc95c32e-97bd-4822-89b5-e900d32c7d09",
   "metadata": {},
   "outputs": [
    {
     "data": {
      "text/plain": [
       "5268"
      ]
     },
     "execution_count": 4,
     "metadata": {},
     "output_type": "execute_result"
    }
   ],
   "source": [
    "my $input = get_challenge('2024/day/5/input');\n",
    "my $res = process_day5_part1($input);"
   ]
  },
  {
   "cell_type": "code",
   "execution_count": 5,
   "id": "f941c715-7d7f-4741-9237-73515f9848c5",
   "metadata": {},
   "outputs": [],
   "source": [
    "# say post_answer('2024/day/5/answer', 1, $res);"
   ]
  },
  {
   "cell_type": "code",
   "execution_count": 8,
   "id": "700ba66b-c09a-4563-a577-192bde5700c6",
   "metadata": {},
   "outputs": [
    {
     "data": {
      "text/plain": [
       "CODE(0x55f125af4af0)"
      ]
     },
     "execution_count": 8,
     "metadata": {},
     "output_type": "execute_result"
    }
   ],
   "source": [
    "$graphql::graphql_methods{row} = sub {\n",
    "        my ($self, $params) = @_;\n",
    "        my @row = @{$self->{arr}[$self->{coord}[0]]};\n",
    "        return [ @row ];\n",
    "    };"
   ]
  },
  {
   "cell_type": "code",
   "execution_count": 47,
   "id": "a80d6fbe-f5fb-43a1-92c1-28f5c5ed10fb",
   "metadata": {},
   "outputs": [
    {
     "name": "stdout",
     "output_type": "stream",
     "text": [
      "$VAR1 = 123;\n",
      "\n"
     ]
    },
    {
     "data": {
      "text/plain": [
       "1"
      ]
     },
     "execution_count": 47,
     "metadata": {},
     "output_type": "execute_result"
    },
    {
     "ename": "Warning",
     "evalue": "Subroutine process_day5_part2 redefined at reply input line 2.\n",
     "output_type": "error",
     "traceback": [
      "Subroutine process_day5_part2 redefined at reply input line 2.\n"
     ]
    }
   ],
   "source": [
    "\n",
    "sub process_day5_part2 {\n",
    "    my ($input) = @_;\n",
    "\n",
    "    my ($rules, $rows) = split \"\\n\\n\", $input;\n",
    "    my %violations_table = parse_rules_violations_table($rules);\n",
    "\n",
    "    $rows =~ s/,/ /g;\n",
    "        sum grep defined,\n",
    "        @{\n",
    "            map_rows sub { midvalue(@$_) },\n",
    "            map_rows sub { [ sort { exists $violations_table{$a}{$b} ? 1 : -1 } @$_ ] },\n",
    "            map_rows sub { (not all { $_->{is_valid} } @$_) ? midvalue(map $_->{row}, @$_) : undef },\n",
    "            map_nd sub { my $val = $_->{value}; $_->{is_valid} = none { exists $violations_table{$val}{$_} } @{$_->{row_after}}; $_ },\n",
    "            map_nd_indexed graphql_query('{ value row_after row }'),\n",
    "            parse_2d_string_array($rows)};\n",
    "}\n",
    "\n",
    "say Dumper process_day5_part2($practice_input);"
   ]
  },
  {
   "cell_type": "code",
   "execution_count": 50,
   "id": "ec532d38-0191-42dd-80f6-dfc2acf158c1",
   "metadata": {},
   "outputs": [
    {
     "data": {
      "text/plain": [
       "5799"
      ]
     },
     "execution_count": 50,
     "metadata": {},
     "output_type": "execute_result"
    }
   ],
   "source": [
    "my $input = get_challenge('2024/day/5/input');\n",
    "my $res = process_day5_part2($input);"
   ]
  },
  {
   "cell_type": "code",
   "execution_count": 51,
   "id": "4e82856e-5b1d-45e5-bb8f-397a095f8f8b",
   "metadata": {},
   "outputs": [
    {
     "name": "stdout",
     "output_type": "stream",
     "text": [
      "<!DOCTYPE html>\n",
      "<html lang=\"en-us\">\n",
      "<head>\n",
      "<meta charset=\"utf-8\"/>\n",
      "<title>Day 5 - Advent of Code 2024</title>\n",
      "<link rel=\"stylesheet\" type=\"text/css\" href=\"/static/style.css?31\"/>\n",
      "<link rel=\"stylesheet alternate\" type=\"text/css\" href=\"/static/highcontrast.css?1\" title=\"High Contrast\"/>\n",
      "<link rel=\"shortcut icon\" href=\"/favicon.png\"/>\n",
      "<script>window.addEventListener('click', function(e,s,r){if(e.target.nodeName==='CODE'&&e.detail===3){s=window.getSelection();s.removeAllRanges();r=document.createRange();r.selectNodeContents(e.target);s.addRange(r);}});</script>\n",
      "</head><!--\n",
      "\n",
      "\n",
      "\n",
      "\n",
      "Oh, hello!  Funny seeing you here.\n",
      "\n",
      "I appreciate your enthusiasm, but you aren't going to find much down here.\n",
      "There certainly aren't clues to any of the puzzles.  The best surprises don't\n",
      "even appear in the source until you unlock them for real.\n",
      "\n",
      "Please be careful with automated requests; I'm not a massive company, and I can\n",
      "only take so much traffic.  Please be considerate so that everyone gets to play.\n",
      "\n",
      "If you're curious about how Advent of Code works, it's running on some custom\n",
      "Perl code. Other than a few integrations (auth, analytics, social media), I\n",
      "built the whole thing myself, including the design, animations, prose, and all\n",
      "of the puzzles.\n",
      "\n",
      "The puzzles are most of the work; preparing a new calendar and a new set of\n",
      "puzzles each year takes all of my free time for 4-5 months. A lot of effort\n",
      "went into building this thing - I hope you're enjoying playing it as much as I\n",
      "enjoyed making it for you!\n",
      "\n",
      "If you'd like to hang out, I'm @was.tl on Bluesky, @ericwastl@hachyderm.io on\n",
      "Mastodon, and @ericwastl on Twitter.\n",
      "\n",
      "- Eric Wastl\n",
      "\n",
      "\n",
      "\n",
      "\n",
      "\n",
      "\n",
      "\n",
      "\n",
      "\n",
      "\n",
      "\n",
      "\n",
      "\n",
      "\n",
      "\n",
      "\n",
      "\n",
      "\n",
      "\n",
      "\n",
      "\n",
      "\n",
      "\n",
      "\n",
      "\n",
      "\n",
      "\n",
      "\n",
      "\n",
      "\n",
      "\n",
      "\n",
      "\n",
      "\n",
      "\n",
      "\n",
      "\n",
      "\n",
      "\n",
      "\n",
      "\n",
      "\n",
      "\n",
      "\n",
      "\n",
      "\n",
      "\n",
      "\n",
      "\n",
      "\n",
      "-->\n",
      "<body>\n",
      "<header><div><h1 class=\"title-global\"><a href=\"/\">Advent of Code</a></h1><nav><ul><li><a href=\"/2024/about\">[About]</a></li><li><a href=\"/2024/events\">[Events]</a></li><li><a href=\"https://cottonbureau.com/people/advent-of-code\" target=\"_blank\">[Shop]</a></li><li><a href=\"/2024/settings\">[Settings]</a></li><li><a href=\"/2024/auth/logout\">[Log Out]</a></li></ul></nav><div class=\"user\">mirror12k <span class=\"star-count\">10*</span></div></div><div><h1 class=\"title-event\">&nbsp;<span class=\"title-event-wrap\">{&apos;year&apos;:</span><a href=\"/2024\">2024</a><span class=\"title-event-wrap\">}</span></h1><nav><ul><li><a href=\"/2024\">[Calendar]</a></li><li><a href=\"/2024/support\">[AoC++]</a></li><li><a href=\"/2024/sponsors\">[Sponsors]</a></li><li><a href=\"/2024/leaderboard\">[Leaderboard]</a></li><li><a href=\"/2024/stats\">[Stats]</a></li></ul></nav></div></header>\n",
      "\n",
      "<div id=\"sidebar\">\n",
      "<div id=\"sponsor\"><div class=\"quiet\">Our <a href=\"/2024/sponsors\">sponsors</a> help make Advent of Code possible:</div><div class=\"sponsor\"><a href=\"/2024/sponsors/redirect?url=https%3A%2F%2Fwww%2Esplunk%2Ecom%2Fen%5Fus%2Fcareers%2Ehtml\" target=\"_blank\" onclick=\"if(ga)ga('send','event','sponsor','sidebar',this.href);\" rel=\"noopener\">Splunk</a> - Come build a more resilient digital world with us.</div></div>\n",
      "</div><!--/sidebar-->\n",
      "\n",
      "<main>\n",
      "<article><p>That's the right answer!  You are <span class=\"day-success\">one gold star</span> closer to finding the Chief Historian.</p><p>You have completed Day 5! You can <span class=\"share\">[Share<span class=\"share-content\">on\n",
      "  <a href=\"https://bsky.app/intent/compose?text=I+just+completed+%22Print+Queue%22+%2D+Day+5+%2D+Advent+of+Code+2024+%23AdventOfCode+https%3A%2F%2Fadventofcode%2Ecom%2F2024%2Fday%2F5\" target=\"_blank\">Bluesky</a>\n",
      "  <a href=\"https://twitter.com/intent/tweet?text=I+just+completed+%22Print+Queue%22+%2D+Day+5+%2D+Advent+of+Code+2024&amp;url=https%3A%2F%2Fadventofcode%2Ecom%2F2024%2Fday%2F5&amp;related=ericwastl&amp;hashtags=AdventOfCode\" target=\"_blank\">Twitter</a>\n",
      "  <a href=\"javascript:void(0);\" onclick=\"var ms; try{ms=localStorage.getItem('mastodon.server')}finally{} if(typeof ms!=='string')ms=''; ms=prompt('Mastodon Server?',ms); if(typeof ms==='string' && ms.length){this.href='https://'+ms+'/share?text=I+just+completed+%22Print+Queue%22+%2D+Day+5+%2D+Advent+of+Code+2024+%23AdventOfCode+https%3A%2F%2Fadventofcode%2Ecom%2F2024%2Fday%2F5';try{localStorage.setItem('mastodon.server',ms);}finally{}}else{return false;}\" target=\"_blank\">Mastodon</a\n",
      "></span>]</span> this victory or <a href=\"/2024\">[Return to Your Advent Calendar]</a>.</p></article>\n",
      "</main>\n",
      "\n",
      "<!-- ga -->\n",
      "<script>\n",
      "(function(i,s,o,g,r,a,m){i['GoogleAnalyticsObject']=r;i[r]=i[r]||function(){\n",
      "(i[r].q=i[r].q||[]).push(arguments)},i[r].l=1*new Date();a=s.createElement(o),\n",
      "m=s.getElementsByTagName(o)[0];a.async=1;a.src=g;m.parentNode.insertBefore(a,m)\n",
      "})(window,document,'script','//www.google-analytics.com/analytics.js','ga');\n",
      "ga('create', 'UA-69522494-1', 'auto');\n",
      "ga('set', 'anonymizeIp', true);\n",
      "ga('send', 'pageview');\n",
      "</script>\n",
      "<!-- /ga -->\n",
      "</body>\n",
      "</html>\n"
     ]
    },
    {
     "data": {
      "text/plain": [
       "1"
      ]
     },
     "execution_count": 51,
     "metadata": {},
     "output_type": "execute_result"
    }
   ],
   "source": [
    "say post_answer('2024/day/5/answer', 2, $res);"
   ]
  },
  {
   "cell_type": "code",
   "execution_count": null,
   "id": "3daff031-43cc-4d48-8972-fff924f18bb8",
   "metadata": {},
   "outputs": [],
   "source": []
  }
 ],
 "metadata": {
  "kernelspec": {
   "display_name": "IPerl 0.012",
   "language": "perl",
   "name": "iperl"
  },
  "language_info": {
   "file_extension": ".pl",
   "mimetype": "text/x-perl",
   "name": "perl",
   "version": "5.34.0"
  }
 },
 "nbformat": 4,
 "nbformat_minor": 5
}
