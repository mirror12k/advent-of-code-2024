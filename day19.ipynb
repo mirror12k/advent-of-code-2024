{
 "cells": [
  {
   "cell_type": "code",
   "execution_count": 1,
   "id": "b5f664fe-1896-4640-8025-6b1cbca9c05a",
   "metadata": {},
   "outputs": [
    {
     "data": {
      "text/plain": [
       "1"
      ]
     },
     "execution_count": 1,
     "metadata": {},
     "output_type": "execute_result"
    }
   ],
   "source": [
    "#!/usr/bin/env perl\n",
    "use strict;\n",
    "use warnings;\n",
    "use feature qw/ say current_sub state /;\n",
    "use Data::Dumper;\n",
    "use lib '.';\n",
    "use toolkit;\n",
    "use graphql;\n",
    "use adventofcode;\n",
    "\n",
    "$Data::Dumper::Sortkeys = 1;"
   ]
  },
  {
   "cell_type": "code",
   "execution_count": 2,
   "id": "5880a7b7-23c1-4ec4-ad46-82208cd01b50",
   "metadata": {},
   "outputs": [
    {
     "data": {
      "text/plain": [
       "r, wr, b, g, bwu, rb, gb, br\n",
       "\n",
       "brwrr\n",
       "bggr\n",
       "gbbr\n",
       "rrbgbr\n",
       "ubwu\n",
       "bwurrg\n",
       "brgr\n",
       "bbrgwb\n"
      ]
     },
     "execution_count": 2,
     "metadata": {},
     "output_type": "execute_result"
    }
   ],
   "source": [
    "my $practice_input = qq/r, wr, b, g, bwu, rb, gb, br\n",
    "\n",
    "brwrr\n",
    "bggr\n",
    "gbbr\n",
    "rrbgbr\n",
    "ubwu\n",
    "bwurrg\n",
    "brgr\n",
    "bbrgwb\n",
    "/;"
   ]
  },
  {
   "cell_type": "code",
   "execution_count": 3,
   "id": "e3cc9573-af45-4feb-a5b6-6293b1eb1890",
   "metadata": {},
   "outputs": [
    {
     "name": "stdout",
     "output_type": "stream",
     "text": [
      "$VAR1 = 6;\n",
      "\n",
      "confirmed: 6\n",
      "[time] 0 seconds\n"
     ]
    },
    {
     "data": {
      "text/plain": [
       "0"
      ]
     },
     "execution_count": 3,
     "metadata": {},
     "output_type": "execute_result"
    }
   ],
   "source": [
    "sub possible_patterns {\n",
    "    my ($pattern, @subpatterns) = @_;\n",
    "    return [] if $pattern eq '';\n",
    "    return\n",
    "        map { my $segment = $_; map [ $segment, @$_ ], possible_patterns(substr($pattern, length $segment), @subpatterns) }\n",
    "        grep { substr($pattern, 0, length) eq $_ }\n",
    "        @subpatterns;\n",
    "}\n",
    "sub possible_patterns_fast {\n",
    "    my ($pattern, @subpatterns) = @_;\n",
    "    return 1 if $pattern eq '';\n",
    "    return\n",
    "        first sub { my $segment = $_; possible_patterns_fast(substr($pattern, length $segment), @subpatterns) },\n",
    "        grep { substr($pattern, 0, length) eq $_ }\n",
    "        @subpatterns;\n",
    "}\n",
    "\n",
    "sub process_day19_part1 {\n",
    "    my ($input) = @_;\n",
    "    my ($patterns_input, $towels_input) = split \"\\n\\n\", $input;\n",
    "    my @patterns = split ', ', $patterns_input;\n",
    "    my @towels = split \"\\n\", $towels_input;\n",
    "\n",
    "    # my $towel = $towels[0];\n",
    "\n",
    "        scalar\n",
    "        grep { defined $_->[0] }\n",
    "        # grep { @$_ }\n",
    "        map [ possible_patterns_fast($_, @patterns) ],\n",
    "        @towels;\n",
    "}\n",
    "timer sub {\n",
    "    say Dumper process_day19_part1($practice_input);\n",
    "    confirm process_day19_part1($practice_input), 6;\n",
    "}"
   ]
  },
  {
   "cell_type": "code",
   "execution_count": 4,
   "id": "c9d8d90e-4af3-4acf-bded-00362aa0698a",
   "metadata": {},
   "outputs": [
    {
     "name": "stdout",
     "output_type": "stream",
     "text": [
      "$VAR1 = 342;\n",
      "\n",
      "confirmed: 342\n",
      "[time] 1 seconds\n"
     ]
    },
    {
     "data": {
      "text/plain": [
       "1"
      ]
     },
     "execution_count": 4,
     "metadata": {},
     "output_type": "execute_result"
    }
   ],
   "source": [
    "my $res;\n",
    "timer sub {\n",
    "    my $input = get_challenge('2024/day/19/input');\n",
    "    $res = process_day19_part1($input);\n",
    "    say Dumper $res;\n",
    "    confirm $res, 342;\n",
    "};"
   ]
  },
  {
   "cell_type": "code",
   "execution_count": 16,
   "id": "586d6b93-010c-46d9-8b66-3232388311b7",
   "metadata": {},
   "outputs": [
    {
     "name": "stdout",
     "output_type": "stream",
     "text": [
      "<!DOCTYPE html>\n",
      "<html lang=\"en-us\">\n",
      "<head>\n",
      "<meta charset=\"utf-8\"/>\n",
      "<title>Day 19 - Advent of Code 2024</title>\n",
      "<link rel=\"stylesheet\" type=\"text/css\" href=\"/static/style.css?31\"/>\n",
      "<link rel=\"stylesheet alternate\" type=\"text/css\" href=\"/static/highcontrast.css?1\" title=\"High Contrast\"/>\n",
      "<link rel=\"shortcut icon\" href=\"/favicon.png\"/>\n",
      "<script>window.addEventListener('click', function(e,s,r){if(e.target.nodeName==='CODE'&&e.detail===3){s=window.getSelection();s.removeAllRanges();r=document.createRange();r.selectNodeContents(e.target);s.addRange(r);}});</script>\n",
      "</head><!--\n",
      "\n",
      "\n",
      "\n",
      "\n",
      "Oh, hello!  Funny seeing you here.\n",
      "\n",
      "I appreciate your enthusiasm, but you aren't going to find much down here.\n",
      "There certainly aren't clues to any of the puzzles.  The best surprises don't\n",
      "even appear in the source until you unlock them for real.\n",
      "\n",
      "Please be careful with automated requests; I'm not a massive company, and I can\n",
      "only take so much traffic.  Please be considerate so that everyone gets to play.\n",
      "\n",
      "If you're curious about how Advent of Code works, it's running on some custom\n",
      "Perl code. Other than a few integrations (auth, analytics, social media), I\n",
      "built the whole thing myself, including the design, animations, prose, and all\n",
      "of the puzzles.\n",
      "\n",
      "The puzzles are most of the work; preparing a new calendar and a new set of\n",
      "puzzles each year takes all of my free time for 4-5 months. A lot of effort\n",
      "went into building this thing - I hope you're enjoying playing it as much as I\n",
      "enjoyed making it for you!\n",
      "\n",
      "If you'd like to hang out, I'm @was.tl on Bluesky, @ericwastl@hachyderm.io on\n",
      "Mastodon, and @ericwastl on Twitter.\n",
      "\n",
      "- Eric Wastl\n",
      "\n",
      "\n",
      "\n",
      "\n",
      "\n",
      "\n",
      "\n",
      "\n",
      "\n",
      "\n",
      "\n",
      "\n",
      "\n",
      "\n",
      "\n",
      "\n",
      "\n",
      "\n",
      "\n",
      "\n",
      "\n",
      "\n",
      "\n",
      "\n",
      "\n",
      "\n",
      "\n",
      "\n",
      "\n",
      "\n",
      "\n",
      "\n",
      "\n",
      "\n",
      "\n",
      "\n",
      "\n",
      "\n",
      "\n",
      "\n",
      "\n",
      "\n",
      "\n",
      "\n",
      "\n",
      "\n",
      "\n",
      "\n",
      "\n",
      "\n",
      "-->\n",
      "<body>\n",
      "<header><div><h1 class=\"title-global\"><a href=\"/\">Advent of Code</a></h1><nav><ul><li><a href=\"/2024/about\">[About]</a></li><li><a href=\"/2024/events\">[Events]</a></li><li><a href=\"https://cottonbureau.com/people/advent-of-code\" target=\"_blank\">[Shop]</a></li><li><a href=\"/2024/settings\">[Settings]</a></li><li><a href=\"/2024/auth/logout\">[Log Out]</a></li></ul></nav><div class=\"user\">mirror12k <span class=\"star-count\">37*</span></div></div><div><h1 class=\"title-event\">&nbsp;<span class=\"title-event-wrap\">{&apos;year&apos;:</span><a href=\"/2024\">2024</a><span class=\"title-event-wrap\">}</span></h1><nav><ul><li><a href=\"/2024\">[Calendar]</a></li><li><a href=\"/2024/support\">[AoC++]</a></li><li><a href=\"/2024/sponsors\">[Sponsors]</a></li><li><a href=\"/2024/leaderboard\">[Leaderboard]</a></li><li><a href=\"/2024/stats\">[Stats]</a></li></ul></nav></div></header>\n",
      "\n",
      "<div id=\"sidebar\">\n",
      "<div id=\"sponsor\"><div class=\"quiet\">Our <a href=\"/2024/sponsors\">sponsors</a> help make Advent of Code possible:</div><div class=\"sponsor\"><a href=\"/2024/sponsors/redirect?url=https%3A%2F%2Fcodecrafters%2Eio%2Faoc2024\" target=\"_blank\" onclick=\"if(ga)ga('send','event','sponsor','sidebar',this.href);\" rel=\"noopener\">CodeCrafters.io</a> - Build your own Interpreter, SQLite, or Git. =============== It&apos;s coding practice on steroids. ============== Try it out for free today &gt;&gt; =============== Bonus, solve this: PWFI YFRP, ZIK XVNVC% KTW GOXA MMQEMOTH</div></div>\n",
      "</div><!--/sidebar-->\n",
      "\n",
      "<main>\n",
      "<article><p>That's the right answer!  You are <span class=\"day-success\">one gold star</span> closer to finding the Chief Historian. <a href=\"/2024/day/19#part2\">[Continue to Part Two]</a></p></article>\n",
      "</main>\n",
      "\n",
      "<!-- ga -->\n",
      "<script>\n",
      "(function(i,s,o,g,r,a,m){i['GoogleAnalyticsObject']=r;i[r]=i[r]||function(){\n",
      "(i[r].q=i[r].q||[]).push(arguments)},i[r].l=1*new Date();a=s.createElement(o),\n",
      "m=s.getElementsByTagName(o)[0];a.async=1;a.src=g;m.parentNode.insertBefore(a,m)\n",
      "})(window,document,'script','//www.google-analytics.com/analytics.js','ga');\n",
      "ga('create', 'UA-69522494-1', 'auto');\n",
      "ga('set', 'anonymizeIp', true);\n",
      "ga('send', 'pageview');\n",
      "</script>\n",
      "<!-- /ga -->\n",
      "</body>\n",
      "</html>\n"
     ]
    },
    {
     "data": {
      "text/plain": [
       "1"
      ]
     },
     "execution_count": 16,
     "metadata": {},
     "output_type": "execute_result"
    }
   ],
   "source": [
    "say post_answer('2024/day/19/answer', 1, $res);"
   ]
  },
  {
   "cell_type": "code",
   "execution_count": 5,
   "id": "825f8add-81ea-4ed3-988c-722bcdf51fee",
   "metadata": {},
   "outputs": [
    {
     "name": "stdout",
     "output_type": "stream",
     "text": [
      "$VAR1 = 2;\n",
      "$VAR2 = 1;\n",
      "$VAR3 = 4;\n",
      "$VAR4 = 6;\n",
      "$VAR5 = 0;\n",
      "$VAR6 = 1;\n",
      "$VAR7 = 2;\n",
      "$VAR8 = 0;\n",
      "\n",
      "[time] 0 seconds\n"
     ]
    },
    {
     "data": {
      "text/plain": [
       "0"
      ]
     },
     "execution_count": 5,
     "metadata": {},
     "output_type": "execute_result"
    },
    {
     "ename": "Warning",
     "evalue": "Subroutine possible_patterns redefined at reply input line 1.\n",
     "output_type": "error",
     "traceback": [
      "Subroutine possible_patterns redefined at reply input line 1.\n"
     ]
    }
   ],
   "source": [
    "sub possible_patterns {\n",
    "    my ($pattern, @subpatterns) = @_;\n",
    "    return '' if $pattern eq '';\n",
    "    return\n",
    "        map { my $segment = $_; map \"$segment$_\", possible_patterns(substr($pattern, length $segment), @subpatterns) }\n",
    "        grep { substr($pattern, 0, length) eq $_ }\n",
    "        @subpatterns;\n",
    "}\n",
    "\n",
    "sub possible_patterns_fast2 {\n",
    "    my ($subpatterns, $pattern) = @_;\n",
    "    return 1 if $pattern eq '';\n",
    "    return\n",
    "        sum\n",
    "        map { possible_patterns_fast2($subpatterns, substr($pattern, length)) }\n",
    "        grep { substr($pattern, 0, length) eq $_ }\n",
    "        @$subpatterns;\n",
    "}\n",
    "\n",
    "sub possible_patterns_fast3 {\n",
    "    my ($subpatterns_table, $pattern) = @_;\n",
    "    return 1 if $pattern eq '';\n",
    "    # return\n",
    "    #     sum\n",
    "    #     map { possible_patterns_fast2($subpatterns, substr($pattern, length)) }\n",
    "    #     grep { substr($pattern, 0, length) eq $_ }\n",
    "    #     @$subpatterns;\n",
    "\n",
    "        sum\n",
    "        map { possible_patterns_fast3($subpatterns_table, substr($pattern, $_)) }\n",
    "        grep { exists $subpatterns_table->{$_}{substr($pattern, 0, $_)} }\n",
    "        keys %$subpatterns_table;\n",
    "}\n",
    "\n",
    "sub existing_patterns {\n",
    "    my ($pattern, @subpatterns) = @_;\n",
    "    return\n",
    "        grep { 0 <= index $pattern, $_ }\n",
    "        @subpatterns;\n",
    "}\n",
    "\n",
    "sub build_length_pattern_table {\n",
    "    my @patterns = @_;\n",
    "    my %length_pattern_table = group_by sub { length }, @patterns;\n",
    "    %length_pattern_table = map { $_ => { map { $_ => 1 } @{$length_pattern_table{$_}} } } keys %length_pattern_table;\n",
    "    return \\%length_pattern_table;\n",
    "}\n",
    "\n",
    "sub process_day19_part2 {\n",
    "    my ($input) = @_;\n",
    "    my ($patterns_input, $towels_input) = split \"\\n\\n\", $input;\n",
    "    my @patterns = split ', ', $patterns_input;\n",
    "    my @towels = split \"\\n\", $towels_input;\n",
    "\n",
    "    # my $towel = $towels[0];\n",
    "\n",
    "    # my %length_pattern_table = group_by sub { length }, @patterns;\n",
    "    # %length_pattern_table = map { $_ => { map { $_ => 1 } @{$length_pattern_table{$_}} } } keys %length_pattern_table;\n",
    "\n",
    "    my $sum = 0;\n",
    "    # foreach (@towels[0 .. 0]) {\n",
    "        # existing_patterns($towels[0], @patterns);\n",
    "        # $sum += possible_patterns_fast3(\\%length_pattern_table, $_);\n",
    "    # };\n",
    "    # $sum;\n",
    "        # sum\n",
    "        map possible_patterns_fast3(build_length_pattern_table(existing_patterns($_, @patterns)), $_),\n",
    "        @towels\n",
    "    # @patterns\n",
    "\n",
    "        # scalar\n",
    "        # # grep { defined $_->[0] }\n",
    "        # map { @$_ }\n",
    "        # grep { @$_ }\n",
    "        # map [ possible_patterns_fast3(\\%length_pattern_table, $_) ],\n",
    "        # @towels;\n",
    "}\n",
    "timer sub {\n",
    "    say Dumper process_day19_part2($practice_input);\n",
    "    # confirm process_day19_part2($practice_input), 16;\n",
    "}"
   ]
  },
  {
   "cell_type": "code",
   "execution_count": 6,
   "id": "91680d3d-c5b1-476c-a0f1-a934c5d507f4",
   "metadata": {},
   "outputs": [
    {
     "name": "stdout",
     "output_type": "stream",
     "text": [
      "$VAR1 = 50555;\n",
      "\n",
      "[time] 1 seconds\n"
     ]
    },
    {
     "data": {
      "text/plain": [
       "1"
      ]
     },
     "execution_count": 6,
     "metadata": {},
     "output_type": "execute_result"
    }
   ],
   "source": [
    "my $res;\n",
    "timer sub {\n",
    "    my $input = get_challenge('2024/day/19/input');\n",
    "    say Dumper process_day19_part2(qq/gur, uub, wgwu, rggu, urguur, uugbrw, rwu, ruw, wubgrb, wugu, rrg, uguurg, gwrwb, www, gggwb, bbw, gbrwgwg, rub, grwwur, rwrb, ubb, gbgbg, gwugw, bgw, guwr, guw, rrgbrw, uru, wurwg, wuw, rgbu, rguw, grwur, gwwg, grg, gwbw, wuu, brubbrw, wwuwr, rg, b, buwwug, wruwgrg, wwwwwrrg, wwww, rwbubr, uggr, gbrb, bbwbu, bwrrguw, bwu, wu, wru, gbbw, wwbbw, wwwuu, uwg, gub, ru, ugurwu, burgwbu, uwrg, wgubwrru, bwwgww, uwgugww, rrggu, uugwb, wrru, rrwr, bu, ugb, ugbg, bbgbr, ubr, rwruwur, uwuuguw, rgb, bbur, rbrwr, gwb, ggggbbg, ruugbr, ubbbgr, wrrrgg, bbwww, rgg, urggrrgb, gbwr, brgb, rgbwr, wbuw, rur, rwr, ggrgw, buruu, gug, wuwg, gg, uwrbuug, ubbwbrg, w, wuguuw, wrww, bbb, rw, rgr, brggrgw, gwrrub, rwgbu, gwrrgu, rgug, buu, bbbguggg, wwwugub, grrbuw, rrugu, wgw, rgugrbwu, uuwbwwr, gwuuwuu, wrrwwr, buw, rbr, uurw, wbug, rggwr, bbubgu, rgrwwu, rbggr, gbrbuu, ggwuguw, ruu, gwr, bru, wbg, wuwgbrr, wrrg, ub, ugu, urg, wwbw, gbw, ugg, wrubr, gubu, bwwg, rubbwu, ggurr, rwww, uurg, wwb, rbrgu, rburu, rrw, bwggwr, rwgggr, rwubg, wuug, gr, grwwbw, wub, uurr, wrrr, wugg, ug, brrr, wwbur, bwbgg, bruw, uguw, bbuurgw, rwugu, wuwrgr, uuw, grr, rrrg, gru, rbwb, ggbbw, urubrbb, rrgggr, bbg, wurwrw, bwubb, urr, rbg, brbrbb, rgu, bwgrbgb, rrbbg, wbgw, wuggub, bg, uwbr, rbb, wruw, bbwwwb, brbg, ggrgubwg, ubg, rrurb, bwbub, wrugrw, gbrr, ururg, rrwu, uburwggw, gwrg, bubu, bbugg, brbwwubb, wrgb, rgur, ururb, u, bgu, guu, rbu, urrbwb, rrbu, grurwwgg, wgr, wbbg, bgr, gruw, bbr, rbbbwr, uu, ggg, rru, wwuwu, wbww, rbwu, wruuu, urug, rrbgbuw, wrrbg, gww, wg, wgrg, wur, wwrwg, bb, uugg, uwur, wwugr, bbgwbww, uugw, wubwr, gbg, brwb, rgw, wrrrw, rbgu, ugr, gbbbbw, wgu, wbr, ubbu, wwrw, bugur, rrrur, wuubr, rgwb, bwbbbuu, wurwbrbg, ugw, uug, wrub, ggubb, uwuww, bubbb, gbr, brw, bwgu, gw, grwg, wwr, bwrrw, wwg, gwub, wgbwgrg, ggr, rwburubu, bgg, gbb, ggw, brwrrbw, gbuwb, wug, gwg, wbgwg, br, ruwuw, gwgrrw, bwgg, wbbb, gurwg, wwwbguur, ggrgbb, rgwuuu, rgugb, uugubu, bgrrg, gwbr, ugbw, uburwb, rwbwgbb, gwu, gbbu, bwb, rb, brgr, rbbur, gwurrb, wwu, bbu, gurg, bug, wrw, bbuwu, bbwu, gwuwbw, ggrrr, wruugg, grwrr, bggwgr, gbrbr, uur, gbgr, brbwwubu, bwggrbb, rwbr, rr, ubbwr, rwrrwgwr, uwgrwgr, grwugbrg, ggu, bwwub, rggbb, rwb, ggubru, wwrwuww, wrb, urb, grwbuw, bw, bbgbb, rgbrrr, wbu, rbw, wrubg, bugr, rbbrr, wgww, rug, burwuwb, wbubrw, brwrbwb, rbwr, bgb, gwbuwwbu, rwggr, wrr, urw, uurb, wrgrrrr, wubg, gwrb, wb, burgg, rgbugrw, rgrgru, urrw, bugbg, wbwb, gurwruuw, rubrrb, wbw, brbrgb, r, wrwbru, grw, urgw, wrg, wugug, rruwbbg, rwggurw, bbwr, uggggw, wgb, ugbbr, rwrgr, uwr, buwuwwrb, ubggrg, bur, uwrgg, uubrw, brrgwwg, ugbgb, burburb, ggwwbbgr, uwb, wbb, rwuw, brg, ugru, ur, rwggrr, wggw, gwwuu, ggb, bgwrbwu, grww, ruwu, uuu, wwgrug, urub, rubwbwbr, rrrbrbb, uww, ggwr, uruuru, bww, rwg, uw, rww, ubw, gu, wugrw, gbru, uwu, ruwbrb, ww, gggugw, uuwbbr, bwr, brb, rrr, grb, bubb, bub, gbug, bgrgubw, ubu\n",
    "\n",
    "wwwurwrwgbbgurgwwbwguu/);\n",
    "    # say Dumper $res;\n",
    "    # confirm $res, 370;\n",
    "};"
   ]
  },
  {
   "cell_type": "code",
   "execution_count": 15,
   "id": "eb30cba8-e3c5-4609-83e4-e03f5a99cb4d",
   "metadata": {},
   "outputs": [
    {
     "name": "stdout",
     "output_type": "stream",
     "text": [
      "$VAR1 = '16286039090';\n",
      "\n",
      "$VAR1 = 50555;\n",
      "\n",
      "confirmed: 16\n",
      "[time] 0 seconds\n"
     ]
    },
    {
     "data": {
      "text/plain": [
       "0"
      ]
     },
     "execution_count": 15,
     "metadata": {},
     "output_type": "execute_result"
    },
    {
     "ename": "Warning",
     "evalue": "Subroutine pathflood_possible_patterns redefined at reply input line 1.\n\nSubroutine process_day19_part2_2 redefined at reply input line 30.\n",
     "output_type": "error",
     "traceback": [
      "Subroutine pathflood_possible_patterns redefined at reply input line 1.\n\nSubroutine process_day19_part2_2 redefined at reply input line 30.\n"
     ]
    }
   ],
   "source": [
    "sub pathflood_possible_patterns {\n",
    "    my ($pattern, @subpatterns) = @_;\n",
    "\n",
    "    my @points = ({ p => 0, multiples => 1 });\n",
    "\n",
    "    while (@points > 0 and (my $lowest_p = min map $_->{p}, @points) < length $pattern) {\n",
    "        # my $lowest_p = min map $_->{p}, @points;\n",
    "        my @further_points = grep $_->{p} != $lowest_p,\n",
    "                @points;\n",
    "        my @new_points =\n",
    "            map { my $p = $_;\n",
    "                map { { p => $p->{p} + length $_, multiples => $p->{multiples} } }\n",
    "                grep { substr($pattern, $p->{p}, length $_) eq $_ }\n",
    "                @subpatterns }\n",
    "                grep $_->{p} == $lowest_p,\n",
    "                @points;\n",
    "    \n",
    "        @points =\n",
    "            map { { p => $_->[0]{p}, multiples => sum(map $_->{multiples}, @$_) } }\n",
    "            grep ref,\n",
    "            group_by sub { $_->{p} },\n",
    "                @new_points,\n",
    "                @further_points;\n",
    "    }\n",
    "\n",
    "    die \"incorrect number of points\" unless @points < 2;\n",
    "    return $points[0];\n",
    "}\n",
    "\n",
    "sub process_day19_part2_2 {\n",
    "    my ($input) = @_;\n",
    "    my ($patterns_input, $towels_input) = split \"\\n\\n\", $input;\n",
    "    my @subpatterns = split ', ', $patterns_input;\n",
    "    my @towels = split \"\\n\", $towels_input;\n",
    "\n",
    "    # my $pattern = $towels[0];\n",
    "\n",
    "        sum\n",
    "        map $_->{multiples},\n",
    "        grep defined,\n",
    "        map { pathflood_possible_patterns($_, @subpatterns) }\n",
    "        @towels;\n",
    "}\n",
    "timer sub {\n",
    "    say Dumper process_day19_part2_2(qq/gur, uub, wgwu, rggu, urguur, uugbrw, rwu, ruw, wubgrb, wugu, rrg, uguurg, gwrwb, www, gggwb, bbw, gbrwgwg, rub, grwwur, rwrb, ubb, gbgbg, gwugw, bgw, guwr, guw, rrgbrw, uru, wurwg, wuw, rgbu, rguw, grwur, gwwg, grg, gwbw, wuu, brubbrw, wwuwr, rg, b, buwwug, wruwgrg, wwwwwrrg, wwww, rwbubr, uggr, gbrb, bbwbu, bwrrguw, bwu, wu, wru, gbbw, wwbbw, wwwuu, uwg, gub, ru, ugurwu, burgwbu, uwrg, wgubwrru, bwwgww, uwgugww, rrggu, uugwb, wrru, rrwr, bu, ugb, ugbg, bbgbr, ubr, rwruwur, uwuuguw, rgb, bbur, rbrwr, gwb, ggggbbg, ruugbr, ubbbgr, wrrrgg, bbwww, rgg, urggrrgb, gbwr, brgb, rgbwr, wbuw, rur, rwr, ggrgw, buruu, gug, wuwg, gg, uwrbuug, ubbwbrg, w, wuguuw, wrww, bbb, rw, rgr, brggrgw, gwrrub, rwgbu, gwrrgu, rgug, buu, bbbguggg, wwwugub, grrbuw, rrugu, wgw, rgugrbwu, uuwbwwr, gwuuwuu, wrrwwr, buw, rbr, uurw, wbug, rggwr, bbubgu, rgrwwu, rbggr, gbrbuu, ggwuguw, ruu, gwr, bru, wbg, wuwgbrr, wrrg, ub, ugu, urg, wwbw, gbw, ugg, wrubr, gubu, bwwg, rubbwu, ggurr, rwww, uurg, wwb, rbrgu, rburu, rrw, bwggwr, rwgggr, rwubg, wuug, gr, grwwbw, wub, uurr, wrrr, wugg, ug, brrr, wwbur, bwbgg, bruw, uguw, bbuurgw, rwugu, wuwrgr, uuw, grr, rrrg, gru, rbwb, ggbbw, urubrbb, rrgggr, bbg, wurwrw, bwubb, urr, rbg, brbrbb, rgu, bwgrbgb, rrbbg, wbgw, wuggub, bg, uwbr, rbb, wruw, bbwwwb, brbg, ggrgubwg, ubg, rrurb, bwbub, wrugrw, gbrr, ururg, rrwu, uburwggw, gwrg, bubu, bbugg, brbwwubb, wrgb, rgur, ururb, u, bgu, guu, rbu, urrbwb, rrbu, grurwwgg, wgr, wbbg, bgr, gruw, bbr, rbbbwr, uu, ggg, rru, wwuwu, wbww, rbwu, wruuu, urug, rrbgbuw, wrrbg, gww, wg, wgrg, wur, wwrwg, bb, uugg, uwur, wwugr, bbgwbww, uugw, wubwr, gbg, brwb, rgw, wrrrw, rbgu, ugr, gbbbbw, wgu, wbr, ubbu, wwrw, bugur, rrrur, wuubr, rgwb, bwbbbuu, wurwbrbg, ugw, uug, wrub, ggubb, uwuww, bubbb, gbr, brw, bwgu, gw, grwg, wwr, bwrrw, wwg, gwub, wgbwgrg, ggr, rwburubu, bgg, gbb, ggw, brwrrbw, gbuwb, wug, gwg, wbgwg, br, ruwuw, gwgrrw, bwgg, wbbb, gurwg, wwwbguur, ggrgbb, rgwuuu, rgugb, uugubu, bgrrg, gwbr, ugbw, uburwb, rwbwgbb, gwu, gbbu, bwb, rb, brgr, rbbur, gwurrb, wwu, bbu, gurg, bug, wrw, bbuwu, bbwu, gwuwbw, ggrrr, wruugg, grwrr, bggwgr, gbrbr, uur, gbgr, brbwwubu, bwggrbb, rwbr, rr, ubbwr, rwrrwgwr, uwgrwgr, grwugbrg, ggu, bwwub, rggbb, rwb, ggubru, wwrwuww, wrb, urb, grwbuw, bw, bbgbb, rgbrrr, wbu, rbw, wrubg, bugr, rbbrr, wgww, rug, burwuwb, wbubrw, brwrbwb, rbwr, bgb, gwbuwwbu, rwggr, wrr, urw, uurb, wrgrrrr, wubg, gwrb, wb, burgg, rgbugrw, rgrgru, urrw, bugbg, wbwb, gurwruuw, rubrrb, wbw, brbrgb, r, wrwbru, grw, urgw, wrg, wugug, rruwbbg, rwggurw, bbwr, uggggw, wgb, ugbbr, rwrgr, uwr, buwuwwrb, ubggrg, bur, uwrgg, uubrw, brrgwwg, ugbgb, burburb, ggwwbbgr, uwb, wbb, rwuw, brg, ugru, ur, rwggrr, wggw, gwwuu, ggb, bgwrbwu, grww, ruwu, uuu, wwgrug, urub, rubwbwbr, rrrbrbb, uww, ggwr, uruuru, bww, rwg, uw, rww, ubw, gu, wugrw, gbru, uwu, ruwbrb, ww, gggugw, uuwbbr, bwr, brb, rrr, grb, bubb, bub, gbug, bgrgubw, ubu\n",
    "\n",
    "uubgggbgugrbrrggrggrrrgurbuwwwurwrwgbbgurgwwbwguu/);\n",
    "    say Dumper process_day19_part2_2(qq/gur, uub, wgwu, rggu, urguur, uugbrw, rwu, ruw, wubgrb, wugu, rrg, uguurg, gwrwb, www, gggwb, bbw, gbrwgwg, rub, grwwur, rwrb, ubb, gbgbg, gwugw, bgw, guwr, guw, rrgbrw, uru, wurwg, wuw, rgbu, rguw, grwur, gwwg, grg, gwbw, wuu, brubbrw, wwuwr, rg, b, buwwug, wruwgrg, wwwwwrrg, wwww, rwbubr, uggr, gbrb, bbwbu, bwrrguw, bwu, wu, wru, gbbw, wwbbw, wwwuu, uwg, gub, ru, ugurwu, burgwbu, uwrg, wgubwrru, bwwgww, uwgugww, rrggu, uugwb, wrru, rrwr, bu, ugb, ugbg, bbgbr, ubr, rwruwur, uwuuguw, rgb, bbur, rbrwr, gwb, ggggbbg, ruugbr, ubbbgr, wrrrgg, bbwww, rgg, urggrrgb, gbwr, brgb, rgbwr, wbuw, rur, rwr, ggrgw, buruu, gug, wuwg, gg, uwrbuug, ubbwbrg, w, wuguuw, wrww, bbb, rw, rgr, brggrgw, gwrrub, rwgbu, gwrrgu, rgug, buu, bbbguggg, wwwugub, grrbuw, rrugu, wgw, rgugrbwu, uuwbwwr, gwuuwuu, wrrwwr, buw, rbr, uurw, wbug, rggwr, bbubgu, rgrwwu, rbggr, gbrbuu, ggwuguw, ruu, gwr, bru, wbg, wuwgbrr, wrrg, ub, ugu, urg, wwbw, gbw, ugg, wrubr, gubu, bwwg, rubbwu, ggurr, rwww, uurg, wwb, rbrgu, rburu, rrw, bwggwr, rwgggr, rwubg, wuug, gr, grwwbw, wub, uurr, wrrr, wugg, ug, brrr, wwbur, bwbgg, bruw, uguw, bbuurgw, rwugu, wuwrgr, uuw, grr, rrrg, gru, rbwb, ggbbw, urubrbb, rrgggr, bbg, wurwrw, bwubb, urr, rbg, brbrbb, rgu, bwgrbgb, rrbbg, wbgw, wuggub, bg, uwbr, rbb, wruw, bbwwwb, brbg, ggrgubwg, ubg, rrurb, bwbub, wrugrw, gbrr, ururg, rrwu, uburwggw, gwrg, bubu, bbugg, brbwwubb, wrgb, rgur, ururb, u, bgu, guu, rbu, urrbwb, rrbu, grurwwgg, wgr, wbbg, bgr, gruw, bbr, rbbbwr, uu, ggg, rru, wwuwu, wbww, rbwu, wruuu, urug, rrbgbuw, wrrbg, gww, wg, wgrg, wur, wwrwg, bb, uugg, uwur, wwugr, bbgwbww, uugw, wubwr, gbg, brwb, rgw, wrrrw, rbgu, ugr, gbbbbw, wgu, wbr, ubbu, wwrw, bugur, rrrur, wuubr, rgwb, bwbbbuu, wurwbrbg, ugw, uug, wrub, ggubb, uwuww, bubbb, gbr, brw, bwgu, gw, grwg, wwr, bwrrw, wwg, gwub, wgbwgrg, ggr, rwburubu, bgg, gbb, ggw, brwrrbw, gbuwb, wug, gwg, wbgwg, br, ruwuw, gwgrrw, bwgg, wbbb, gurwg, wwwbguur, ggrgbb, rgwuuu, rgugb, uugubu, bgrrg, gwbr, ugbw, uburwb, rwbwgbb, gwu, gbbu, bwb, rb, brgr, rbbur, gwurrb, wwu, bbu, gurg, bug, wrw, bbuwu, bbwu, gwuwbw, ggrrr, wruugg, grwrr, bggwgr, gbrbr, uur, gbgr, brbwwubu, bwggrbb, rwbr, rr, ubbwr, rwrrwgwr, uwgrwgr, grwugbrg, ggu, bwwub, rggbb, rwb, ggubru, wwrwuww, wrb, urb, grwbuw, bw, bbgbb, rgbrrr, wbu, rbw, wrubg, bugr, rbbrr, wgww, rug, burwuwb, wbubrw, brwrbwb, rbwr, bgb, gwbuwwbu, rwggr, wrr, urw, uurb, wrgrrrr, wubg, gwrb, wb, burgg, rgbugrw, rgrgru, urrw, bugbg, wbwb, gurwruuw, rubrrb, wbw, brbrgb, r, wrwbru, grw, urgw, wrg, wugug, rruwbbg, rwggurw, bbwr, uggggw, wgb, ugbbr, rwrgr, uwr, buwuwwrb, ubggrg, bur, uwrgg, uubrw, brrgwwg, ugbgb, burburb, ggwwbbgr, uwb, wbb, rwuw, brg, ugru, ur, rwggrr, wggw, gwwuu, ggb, bgwrbwu, grww, ruwu, uuu, wwgrug, urub, rubwbwbr, rrrbrbb, uww, ggwr, uruuru, bww, rwg, uw, rww, ubw, gu, wugrw, gbru, uwu, ruwbrb, ww, gggugw, uuwbbr, bwr, brb, rrr, grb, bubb, bub, gbug, bgrgubw, ubu\n",
    "\n",
    "wwwurwrwgbbgurgwwbwguu/);\n",
    "    # say Dumper process_day19_part2_2($practice_input);\n",
    "    confirm process_day19_part2_2($practice_input), 16;\n",
    "}"
   ]
  },
  {
   "cell_type": "code",
   "execution_count": 16,
   "id": "d8b5b2a6-cac5-4a4f-af0f-e7c0922fa782",
   "metadata": {},
   "outputs": [
    {
     "name": "stdout",
     "output_type": "stream",
     "text": [
      "$VAR1 = '891192814474630';\n",
      "\n",
      "confirmed: 891192814474630\n",
      "[time] 2 seconds\n"
     ]
    },
    {
     "data": {
      "text/plain": [
       "2"
      ]
     },
     "execution_count": 16,
     "metadata": {},
     "output_type": "execute_result"
    }
   ],
   "source": [
    "my $res;\n",
    "timer sub {\n",
    "    my $input = get_challenge('2024/day/19/input');\n",
    "    $res = process_day19_part2_2($input);\n",
    "    say Dumper $res;\n",
    "    confirm $res, 891192814474630;\n",
    "};"
   ]
  },
  {
   "cell_type": "code",
   "execution_count": 11,
   "id": "298b185f-c4f4-4d6e-880d-0553a5fd7070",
   "metadata": {},
   "outputs": [
    {
     "name": "stdout",
     "output_type": "stream",
     "text": [
      "<!DOCTYPE html>\n",
      "<html lang=\"en-us\">\n",
      "<head>\n",
      "<meta charset=\"utf-8\"/>\n",
      "<title>Day 19 - Advent of Code 2024</title>\n",
      "<link rel=\"stylesheet\" type=\"text/css\" href=\"/static/style.css?31\"/>\n",
      "<link rel=\"stylesheet alternate\" type=\"text/css\" href=\"/static/highcontrast.css?1\" title=\"High Contrast\"/>\n",
      "<link rel=\"shortcut icon\" href=\"/favicon.png\"/>\n",
      "<script>window.addEventListener('click', function(e,s,r){if(e.target.nodeName==='CODE'&&e.detail===3){s=window.getSelection();s.removeAllRanges();r=document.createRange();r.selectNodeContents(e.target);s.addRange(r);}});</script>\n",
      "</head><!--\n",
      "\n",
      "\n",
      "\n",
      "\n",
      "Oh, hello!  Funny seeing you here.\n",
      "\n",
      "I appreciate your enthusiasm, but you aren't going to find much down here.\n",
      "There certainly aren't clues to any of the puzzles.  The best surprises don't\n",
      "even appear in the source until you unlock them for real.\n",
      "\n",
      "Please be careful with automated requests; I'm not a massive company, and I can\n",
      "only take so much traffic.  Please be considerate so that everyone gets to play.\n",
      "\n",
      "If you're curious about how Advent of Code works, it's running on some custom\n",
      "Perl code. Other than a few integrations (auth, analytics, social media), I\n",
      "built the whole thing myself, including the design, animations, prose, and all\n",
      "of the puzzles.\n",
      "\n",
      "The puzzles are most of the work; preparing a new calendar and a new set of\n",
      "puzzles each year takes all of my free time for 4-5 months. A lot of effort\n",
      "went into building this thing - I hope you're enjoying playing it as much as I\n",
      "enjoyed making it for you!\n",
      "\n",
      "If you'd like to hang out, I'm @was.tl on Bluesky, @ericwastl@hachyderm.io on\n",
      "Mastodon, and @ericwastl on Twitter.\n",
      "\n",
      "- Eric Wastl\n",
      "\n",
      "\n",
      "\n",
      "\n",
      "\n",
      "\n",
      "\n",
      "\n",
      "\n",
      "\n",
      "\n",
      "\n",
      "\n",
      "\n",
      "\n",
      "\n",
      "\n",
      "\n",
      "\n",
      "\n",
      "\n",
      "\n",
      "\n",
      "\n",
      "\n",
      "\n",
      "\n",
      "\n",
      "\n",
      "\n",
      "\n",
      "\n",
      "\n",
      "\n",
      "\n",
      "\n",
      "\n",
      "\n",
      "\n",
      "\n",
      "\n",
      "\n",
      "\n",
      "\n",
      "\n",
      "\n",
      "\n",
      "\n",
      "\n",
      "\n",
      "-->\n",
      "<body>\n",
      "<header><div><h1 class=\"title-global\"><a href=\"/\">Advent of Code</a></h1><nav><ul><li><a href=\"/2024/about\">[About]</a></li><li><a href=\"/2024/events\">[Events]</a></li><li><a href=\"https://cottonbureau.com/people/advent-of-code\" target=\"_blank\">[Shop]</a></li><li><a href=\"/2024/settings\">[Settings]</a></li><li><a href=\"/2024/auth/logout\">[Log Out]</a></li></ul></nav><div class=\"user\">mirror12k <span class=\"star-count\">38*</span></div></div><div><h1 class=\"title-event\">&nbsp;&nbsp;&nbsp;&nbsp;&nbsp;&nbsp;&nbsp;&nbsp;<span class=\"title-event-wrap\">//</span><a href=\"/2024\">2024</a><span class=\"title-event-wrap\"></span></h1><nav><ul><li><a href=\"/2024\">[Calendar]</a></li><li><a href=\"/2024/support\">[AoC++]</a></li><li><a href=\"/2024/sponsors\">[Sponsors]</a></li><li><a href=\"/2024/leaderboard\">[Leaderboard]</a></li><li><a href=\"/2024/stats\">[Stats]</a></li></ul></nav></div></header>\n",
      "\n",
      "<div id=\"sidebar\">\n",
      "<div id=\"sponsor\"><div class=\"quiet\">Our <a href=\"/2024/sponsors\">sponsors</a> help make Advent of Code possible:</div><div class=\"sponsor\"><a href=\"/2024/sponsors/redirect?url=https%3A%2F%2Fdeveloper%2Eansys%2Ecom%2F\" target=\"_blank\" onclick=\"if(ga)ga('send','event','sponsor','sidebar',this.href);\" rel=\"noopener\">Ansys</a> - Make this holiday season unforgettable with Ansys. Join the Ansys developer community, search jobs, and SHINE in your favorite language.</div></div>\n",
      "</div><!--/sidebar-->\n",
      "\n",
      "<main>\n",
      "<article><p>That's the right answer!  You are <span class=\"day-success\">one gold star</span> closer to finding the Chief Historian.</p><p>You have completed Day 19! You can <span class=\"share\">[Share<span class=\"share-content\">on\n",
      "  <a href=\"https://bsky.app/intent/compose?text=I+just+completed+%22Linen+Layout%22+%2D+Day+19+%2D+Advent+of+Code+2024+%23AdventOfCode+https%3A%2F%2Fadventofcode%2Ecom%2F2024%2Fday%2F19\" target=\"_blank\">Bluesky</a>\n",
      "  <a href=\"https://twitter.com/intent/tweet?text=I+just+completed+%22Linen+Layout%22+%2D+Day+19+%2D+Advent+of+Code+2024&amp;url=https%3A%2F%2Fadventofcode%2Ecom%2F2024%2Fday%2F19&amp;related=ericwastl&amp;hashtags=AdventOfCode\" target=\"_blank\">Twitter</a>\n",
      "  <a href=\"javascript:void(0);\" onclick=\"var ms; try{ms=localStorage.getItem('mastodon.server')}finally{} if(typeof ms!=='string')ms=''; ms=prompt('Mastodon Server?',ms); if(typeof ms==='string' && ms.length){this.href='https://'+ms+'/share?text=I+just+completed+%22Linen+Layout%22+%2D+Day+19+%2D+Advent+of+Code+2024+%23AdventOfCode+https%3A%2F%2Fadventofcode%2Ecom%2F2024%2Fday%2F19';try{localStorage.setItem('mastodon.server',ms);}finally{}}else{return false;}\" target=\"_blank\">Mastodon</a\n",
      "></span>]</span> this victory or <a href=\"/2024\">[Return to Your Advent Calendar]</a>.</p></article>\n",
      "</main>\n",
      "\n",
      "<!-- ga -->\n",
      "<script>\n",
      "(function(i,s,o,g,r,a,m){i['GoogleAnalyticsObject']=r;i[r]=i[r]||function(){\n",
      "(i[r].q=i[r].q||[]).push(arguments)},i[r].l=1*new Date();a=s.createElement(o),\n",
      "m=s.getElementsByTagName(o)[0];a.async=1;a.src=g;m.parentNode.insertBefore(a,m)\n",
      "})(window,document,'script','//www.google-analytics.com/analytics.js','ga');\n",
      "ga('create', 'UA-69522494-1', 'auto');\n",
      "ga('set', 'anonymizeIp', true);\n",
      "ga('send', 'pageview');\n",
      "</script>\n",
      "<!-- /ga -->\n",
      "</body>\n",
      "</html>\n"
     ]
    },
    {
     "data": {
      "text/plain": [
       "1"
      ]
     },
     "execution_count": 11,
     "metadata": {},
     "output_type": "execute_result"
    }
   ],
   "source": [
    "say post_answer('2024/day/19/answer', 2, $res);"
   ]
  },
  {
   "cell_type": "code",
   "execution_count": null,
   "id": "d36002b1-8419-4f90-8010-7786b0d707f2",
   "metadata": {},
   "outputs": [],
   "source": []
  }
 ],
 "metadata": {
  "kernelspec": {
   "display_name": "IPerl 0.012",
   "language": "perl",
   "name": "iperl"
  },
  "language_info": {
   "file_extension": ".pl",
   "mimetype": "text/x-perl",
   "name": "perl",
   "version": "5.34.0"
  }
 },
 "nbformat": 4,
 "nbformat_minor": 5
}
