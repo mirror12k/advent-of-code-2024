{
 "cells": [
  {
   "cell_type": "code",
   "execution_count": 1,
   "id": "226ec01f-5a8c-4398-a910-70c60d8dfc75",
   "metadata": {},
   "outputs": [
    {
     "data": {
      "text/plain": [
       "1"
      ]
     },
     "execution_count": 1,
     "metadata": {},
     "output_type": "execute_result"
    },
    {
     "ename": "Warning",
     "evalue": "Subroutine cached_single_arg redefined at graphql.pm line 220.\n",
     "output_type": "error",
     "traceback": [
      "Subroutine cached_single_arg redefined at graphql.pm line 220.\n"
     ]
    }
   ],
   "source": [
    "#!/usr/bin/env perl\n",
    "use strict;\n",
    "use warnings;\n",
    "use feature qw/ say current_sub state /;\n",
    "use Data::Dumper;\n",
    "use lib '.';\n",
    "use toolkit;\n",
    "use graphql;\n",
    "use adventofcode;\n",
    "\n",
    "$Data::Dumper::Sortkeys = 1;"
   ]
  },
  {
   "cell_type": "code",
   "execution_count": 2,
   "id": "63647bae-b22d-4941-9b65-dbc3a0df4040",
   "metadata": {},
   "outputs": [
    {
     "data": {
      "text/plain": [
       "\n",
       "RRRRIICCFF\n",
       "RRRRIICCCF\n",
       "VVRRRCCFFF\n",
       "VVRCCCJFFF\n",
       "VVVVCJJCFE\n",
       "VVIVCCJJEE\n",
       "VVIIICJJEE\n",
       "MIIIIIJJEE\n",
       "MIIISIJEEE\n",
       "MMMISSJEEE\n"
      ]
     },
     "execution_count": 2,
     "metadata": {},
     "output_type": "execute_result"
    }
   ],
   "source": [
    "my $practice_input1 = qq/\n",
    "AAAA\n",
    "BBCD\n",
    "BBCC\n",
    "EEEC\n",
    "/;\n",
    "my $practice_input2 = qq/\n",
    "OOOOO\n",
    "OXOXO\n",
    "OOOOO\n",
    "OXOXO\n",
    "OOOOO\n",
    "/;\n",
    "my $practice_input3 = qq/\n",
    "RRRRIICCFF\n",
    "RRRRIICCCF\n",
    "VVRRRCCFFF\n",
    "VVRCCCJFFF\n",
    "VVVVCJJCFE\n",
    "VVIVCCJJEE\n",
    "VVIIICJJEE\n",
    "MIIIIIJJEE\n",
    "MIIISIJEEE\n",
    "MMMISSJEEE\n",
    "/;"
   ]
  },
  {
   "cell_type": "code",
   "execution_count": 65,
   "id": "71031676-3956-431b-8f76-ef167b3e4b45",
   "metadata": {},
   "outputs": [
    {
     "data": {
      "text/plain": [
       "CODE(0x5558a16a3728)"
      ]
     },
     "execution_count": 65,
     "metadata": {},
     "output_type": "execute_result"
    },
    {
     "ename": "Warning",
     "evalue": "Subroutine subp redefined at reply input line 1.\n\nSubroutine addp redefined at reply input line 2.\n\nSubroutine stringp redefined at reply input line 3.\n\nSubroutine uniqp redefined at reply input line 4.\n\nSubroutine in_bounds redefined at reply input line 6.\n\nSubroutine adjacent_points redefined at reply input line 10.\n",
     "output_type": "error",
     "traceback": [
      "Subroutine subp redefined at reply input line 1.\n\nSubroutine addp redefined at reply input line 2.\n\nSubroutine stringp redefined at reply input line 3.\n\nSubroutine uniqp redefined at reply input line 4.\n\nSubroutine in_bounds redefined at reply input line 6.\n\nSubroutine adjacent_points redefined at reply input line 10.\n"
     ]
    }
   ],
   "source": [
    "sub subp { my ($a, $b) = @_; return [ map { $a->[$_] - $b->[$_] } 0 .. $#$a ]; }\n",
    "sub addp { my ($a, $b) = @_; return [ map { $a->[$_] + $b->[$_] } 0 .. $#$a ]; }\n",
    "sub stringp { my ($p) = $_[0] // $_; return $p->[0].','.$p->[1] }\n",
    "sub uniqp { my %h; @h{map $_->[0].','.$_->[1], @_} = (); map [ split ',' ], keys %h }\n",
    "sub confirm { my ($a, $b) = @_; die \"expiremental '$a' doesn't match expected $b\" unless $a eq $b; say \"confirmed: $a\"; return $a }\n",
    "sub in_bounds {\n",
    "    my ($p, @shape) = @_;\n",
    "    return $p->[0] >= 0 && $p->[1] >= 0 && $p->[0] < $shape[0] && $p->[1] < $shape[1];\n",
    "}\n",
    "sub adjacent_points {\n",
    "    my ($p, @shape) = @_;\n",
    "    my @adj;\n",
    "    return grep in_bounds($_, @shape), map addp($p, $_), [-1,0],[1,0],[0,-1],[0,1];\n",
    "}\n",
    "# $graphql::graphql_methods{is_connected} = sub {\n",
    "#         my ($self, $params) = @_;\n",
    "#         my @row = @{$self->{arr}[$self->{coord}[0]]};\n",
    "#         return abs($self->{value}) ;\n",
    "#     };\n",
    "$graphql::graphql_methods{spf_search} = sub {\n",
    "        my ($self, $params) = @_;\n",
    "        my $arr = $self->{arr};\n",
    "        my @chains = ({ value => $self->{value}, chain => [ $self->{coord} ] });\n",
    "        my @shape = shape($self->{arr});\n",
    "        my $steps = 0;\n",
    "        while (@chains && $steps < 9) {\n",
    "            @chains =\n",
    "                map { my ($chain, $next, $next_val) = @$_; { value => $next_val, chain => [ @{$chain->{chain}}, $next ] } }\n",
    "                grep { my ($chain, $next, $next_val) = @$_; $next_val == ($chain->{value} + 1) }\n",
    "                map { my $chain = $_; map [ $chain, $_, $arr->[$_->[0]][$_->[1]] ], adjacent_points($_->{chain}[-1], @shape) }\n",
    "                @chains;\n",
    "            $steps++;\n",
    "        }\n",
    "        return { chains => [ @chains ] };\n",
    "    };"
   ]
  },
  {
   "cell_type": "code",
   "execution_count": 66,
   "id": "a8bcbd95-7f39-4e1c-81ee-5dd733019d9c",
   "metadata": {},
   "outputs": [
    {
     "name": "stdout",
     "output_type": "stream",
     "text": [
      "$VAR1 = 1930;\n",
      "\n",
      "confirmed: 140\n",
      "confirmed: 772\n",
      "confirmed: 1930\n",
      "[time] 0 seconds\n"
     ]
    },
    {
     "data": {
      "text/plain": [
       "1"
      ]
     },
     "execution_count": 66,
     "metadata": {},
     "output_type": "execute_result"
    },
    {
     "ename": "Warning",
     "evalue": "Subroutine process_day12_part1 redefined at reply input line 62.\n",
     "output_type": "error",
     "traceback": [
      "Subroutine process_day12_part1 redefined at reply input line 62.\n"
     ]
    }
   ],
   "source": [
    "\n",
    "$graphql::graphql_methods{flood_group} = sub {\n",
    "        my ($self, $params) = @_;\n",
    "        my $arr = $self->{arr};\n",
    "        my @shape = shape($self->{arr});\n",
    "\n",
    "        state %flood_group_cache;\n",
    "\n",
    "        return $flood_group_cache{$arr}{stringp($self->{coord})} if exists $flood_group_cache{$arr}{stringp($self->{coord})};\n",
    "        \n",
    "        my $key = $self->{value};\n",
    "        my %group;\n",
    "        my @next_points = ($self->{coord});\n",
    "        my $rep = 0;\n",
    "        while (@next_points) {\n",
    "            die if $rep++ > 50;\n",
    "            @group{map stringp, @next_points} = ();\n",
    "            @next_points =\n",
    "                uniqp\n",
    "                grep { not exists $group{stringp $_} }\n",
    "                grep $arr->[$_->[0]][$_->[1]] eq $key,\n",
    "                map adjacent_points($_, @shape),\n",
    "                @next_points;\n",
    "        }\n",
    "        my $ret = [ map [split ','], keys %group ];\n",
    "        foreach (@$ret) {\n",
    "            $flood_group_cache{$arr}{stringp $_} = $ret;\n",
    "        }\n",
    "        return $ret;\n",
    "    };\n",
    "$graphql::graphql_methods{group_by} = sub {\n",
    "        my ($self, $params) = @_;\n",
    "        my $key = $params->{key};\n",
    "        my $arr = $self->{arr};\n",
    "\n",
    "        state $cached //= {};\n",
    "\n",
    "        $cached->{\"$arr/$key\"} = {\n",
    "            group_by selector($key),\n",
    "            flatten_nd\n",
    "            $self->{arr}\n",
    "        } unless exists $cached->{\"$arr/$key\"};\n",
    "        return $cached->{\"$arr/$key\"};\n",
    "    };\n",
    "my @pos_table = 'a' .. 'z';\n",
    "$graphql::graphql_methods{is_different_neighbor} = sub {\n",
    "        my ($self, $params) = @_;\n",
    "        my $new_coord = [ map { $params->{\"abs_$pos_table[$_]\"} // ($self->{coord}[$_] + ($params->{\"d$pos_table[$_]\"} // 0)) } 0 .. $#{$self->{coord}} ];\n",
    "        my $other = graphql::get_value($self->{arr}, $new_coord);\n",
    "        if (defined $other) {\n",
    "            return $other ne $self->{value};\n",
    "        }\n",
    "        return 1;\n",
    "    };\n",
    "$graphql::graphql_methods{perimeter} = sub {\n",
    "        my ($self, $params) = @_;\n",
    "        return $self->{is_different_neighbor}($self, { da => -1 })\n",
    "            + $self->{is_different_neighbor}($self, { da => 1 })\n",
    "            + $self->{is_different_neighbor}($self, { db => -1 })\n",
    "            + $self->{is_different_neighbor}($self, { db => 1 });\n",
    "    };\n",
    "sub process_day12_part1 {\n",
    "    my ($input) = @_;\n",
    "    my $table =\n",
    "        map_nd_indexed graphql_query('{ group_by(key:\"flood_group\") }'),\n",
    "        map_nd_indexed graphql_query(qq/{\n",
    "            flood_group\n",
    "            value\n",
    "            perimeter\n",
    "        }/),\n",
    "        parse_2d_map_array($input);\n",
    "    my $groups = $table->[0][0]{group_by};\n",
    "    my @calculated_areas = map { {\n",
    "        area => $groups->{$_}[0]{flood_group},\n",
    "        value => $groups->{$_}[0]{value},\n",
    "        perimeter => sum map $_->{perimeter}, @{$groups->{$_}}\n",
    "    } } keys %$groups;\n",
    "    \n",
    "    sum map @{$_->{area}} * $_->{perimeter}, @calculated_areas\n",
    "}\n",
    "timer sub {\n",
    "    say Dumper process_day12_part1($practice_input3);\n",
    "    confirm process_day12_part1($practice_input1), 140;\n",
    "    confirm process_day12_part1($practice_input2), 772;\n",
    "    confirm process_day12_part1($practice_input3), 1930;\n",
    "}"
   ]
  },
  {
   "cell_type": "code",
   "execution_count": 67,
   "id": "b1971375-02f8-4eae-9620-4debbc9bd50a",
   "metadata": {},
   "outputs": [
    {
     "name": "stdout",
     "output_type": "stream",
     "text": [
      "confirmed: 1489582\n",
      "[time] 1 seconds\n"
     ]
    },
    {
     "data": {
      "text/plain": [
       "1"
      ]
     },
     "execution_count": 67,
     "metadata": {},
     "output_type": "execute_result"
    }
   ],
   "source": [
    "timer sub {\n",
    "    my $input = get_challenge('2024/day/12/input');\n",
    "    my $res = process_day12_part1($input);\n",
    "    confirm $res, 1489582;\n",
    "}"
   ]
  },
  {
   "cell_type": "code",
   "execution_count": 64,
   "id": "deabe641-e0ff-4177-8dd0-68c37290f628",
   "metadata": {},
   "outputs": [
    {
     "name": "stdout",
     "output_type": "stream",
     "text": [
      "<!DOCTYPE html>\n",
      "<html lang=\"en-us\">\n",
      "<head>\n",
      "<meta charset=\"utf-8\"/>\n",
      "<title>Day 12 - Advent of Code 2024</title>\n",
      "<link rel=\"stylesheet\" type=\"text/css\" href=\"/static/style.css?31\"/>\n",
      "<link rel=\"stylesheet alternate\" type=\"text/css\" href=\"/static/highcontrast.css?1\" title=\"High Contrast\"/>\n",
      "<link rel=\"shortcut icon\" href=\"/favicon.png\"/>\n",
      "<script>window.addEventListener('click', function(e,s,r){if(e.target.nodeName==='CODE'&&e.detail===3){s=window.getSelection();s.removeAllRanges();r=document.createRange();r.selectNodeContents(e.target);s.addRange(r);}});</script>\n",
      "</head><!--\n",
      "\n",
      "\n",
      "\n",
      "\n",
      "Oh, hello!  Funny seeing you here.\n",
      "\n",
      "I appreciate your enthusiasm, but you aren't going to find much down here.\n",
      "There certainly aren't clues to any of the puzzles.  The best surprises don't\n",
      "even appear in the source until you unlock them for real.\n",
      "\n",
      "Please be careful with automated requests; I'm not a massive company, and I can\n",
      "only take so much traffic.  Please be considerate so that everyone gets to play.\n",
      "\n",
      "If you're curious about how Advent of Code works, it's running on some custom\n",
      "Perl code. Other than a few integrations (auth, analytics, social media), I\n",
      "built the whole thing myself, including the design, animations, prose, and all\n",
      "of the puzzles.\n",
      "\n",
      "The puzzles are most of the work; preparing a new calendar and a new set of\n",
      "puzzles each year takes all of my free time for 4-5 months. A lot of effort\n",
      "went into building this thing - I hope you're enjoying playing it as much as I\n",
      "enjoyed making it for you!\n",
      "\n",
      "If you'd like to hang out, I'm @was.tl on Bluesky, @ericwastl@hachyderm.io on\n",
      "Mastodon, and @ericwastl on Twitter.\n",
      "\n",
      "- Eric Wastl\n",
      "\n",
      "\n",
      "\n",
      "\n",
      "\n",
      "\n",
      "\n",
      "\n",
      "\n",
      "\n",
      "\n",
      "\n",
      "\n",
      "\n",
      "\n",
      "\n",
      "\n",
      "\n",
      "\n",
      "\n",
      "\n",
      "\n",
      "\n",
      "\n",
      "\n",
      "\n",
      "\n",
      "\n",
      "\n",
      "\n",
      "\n",
      "\n",
      "\n",
      "\n",
      "\n",
      "\n",
      "\n",
      "\n",
      "\n",
      "\n",
      "\n",
      "\n",
      "\n",
      "\n",
      "\n",
      "\n",
      "\n",
      "\n",
      "\n",
      "\n",
      "-->\n",
      "<body>\n",
      "<header><div><h1 class=\"title-global\"><a href=\"/\">Advent of Code</a></h1><nav><ul><li><a href=\"/2024/about\">[About]</a></li><li><a href=\"/2024/events\">[Events]</a></li><li><a href=\"https://cottonbureau.com/people/advent-of-code\" target=\"_blank\">[Shop]</a></li><li><a href=\"/2024/settings\">[Settings]</a></li><li><a href=\"/2024/auth/logout\">[Log Out]</a></li></ul></nav><div class=\"user\">mirror12k <span class=\"star-count\">23*</span></div></div><div><h1 class=\"title-event\">&nbsp;&nbsp;<span class=\"title-event-wrap\">{:year </span><a href=\"/2024\">2024</a><span class=\"title-event-wrap\">}</span></h1><nav><ul><li><a href=\"/2024\">[Calendar]</a></li><li><a href=\"/2024/support\">[AoC++]</a></li><li><a href=\"/2024/sponsors\">[Sponsors]</a></li><li><a href=\"/2024/leaderboard\">[Leaderboard]</a></li><li><a href=\"/2024/stats\">[Stats]</a></li></ul></nav></div></header>\n",
      "\n",
      "<div id=\"sidebar\">\n",
      "<div id=\"sponsor\"><div class=\"quiet\">Our <a href=\"/2024/sponsors\">sponsors</a> help make Advent of Code possible:</div><div class=\"sponsor\"><a href=\"/2024/sponsors/redirect?url=https%3A%2F%2Fahrefs%2Ecom%2Fabout\" target=\"_blank\" onclick=\"if(ga)ga('send','event','sponsor','sidebar',this.href);\" rel=\"noopener\">Ahrefs</a> - We crawl the internet, all of it. Then we parse, store, index and query, all of it. And that&apos;s how we build web analytics and a search engine. What else could we do with 400 billion htmls? :thinking_face: BTW we use OCaml</div></div>\n",
      "</div><!--/sidebar-->\n",
      "\n",
      "<main>\n",
      "<article><p>That's the right answer!  You are <span class=\"day-success\">one gold star</span> closer to finding the Chief Historian. <a href=\"/2024/day/12#part2\">[Continue to Part Two]</a></p></article>\n",
      "</main>\n",
      "\n",
      "<!-- ga -->\n",
      "<script>\n",
      "(function(i,s,o,g,r,a,m){i['GoogleAnalyticsObject']=r;i[r]=i[r]||function(){\n",
      "(i[r].q=i[r].q||[]).push(arguments)},i[r].l=1*new Date();a=s.createElement(o),\n",
      "m=s.getElementsByTagName(o)[0];a.async=1;a.src=g;m.parentNode.insertBefore(a,m)\n",
      "})(window,document,'script','//www.google-analytics.com/analytics.js','ga');\n",
      "ga('create', 'UA-69522494-1', 'auto');\n",
      "ga('set', 'anonymizeIp', true);\n",
      "ga('send', 'pageview');\n",
      "</script>\n",
      "<!-- /ga -->\n",
      "</body>\n",
      "</html>\n"
     ]
    },
    {
     "data": {
      "text/plain": [
       "1"
      ]
     },
     "execution_count": 64,
     "metadata": {},
     "output_type": "execute_result"
    }
   ],
   "source": [
    "say post_answer('2024/day/12/answer', 1, $res); # 1489582"
   ]
  },
  {
   "cell_type": "code",
   "execution_count": 86,
   "id": "6b15db5b-7b6c-4afd-8e30-6abf4bd2be2a",
   "metadata": {},
   "outputs": [
    {
     "name": "stdout",
     "output_type": "stream",
     "text": [
      "$VAR1 = 80;\n",
      "\n",
      "confirmed: 80\n",
      "confirmed: 436\n",
      "confirmed: 1206\n",
      "confirmed: 368\n",
      "[time] 0 seconds\n"
     ]
    },
    {
     "data": {
      "text/plain": [
       "1"
      ]
     },
     "execution_count": 86,
     "metadata": {},
     "output_type": "execute_result"
    },
    {
     "ename": "Warning",
     "evalue": "Subroutine process_day12_part2 redefined at reply input line 33.\n",
     "output_type": "error",
     "traceback": [
      "Subroutine process_day12_part2 redefined at reply input line 33.\n"
     ]
    }
   ],
   "source": [
    "\n",
    "my @pos_table = 'a' .. 'z';\n",
    "$graphql::graphql_methods{is_different_neighbor_contiguous} = sub {\n",
    "        my ($self, $params) = @_;\n",
    "        my $delta = [ map { $params->{\"abs_$pos_table[$_]\"} // ($params->{\"d$pos_table[$_]\"} // 0) } 0 .. $#{$self->{coord}} ];\n",
    "        my $perpendicular = [ $delta->[1], -$delta->[0] ];\n",
    "        my $wall_coord = addp($delta, $self->{coord});\n",
    "        my $perp_coord = addp($perpendicular, $self->{coord});\n",
    "        my $perp_wall_coord = addp($delta, addp($perpendicular, $self->{coord}));\n",
    "        my $wall = graphql::get_value($self->{arr}, $wall_coord);\n",
    "        my $perp = graphql::get_value($self->{arr}, $perp_coord);\n",
    "        my $perp_wall = graphql::get_value($self->{arr}, $perp_wall_coord);\n",
    "        if (defined $wall and $wall eq $self->{value}) {\n",
    "            return 0;\n",
    "        # } elsif (not defined $wall or $wall ne $self->{value}) {\n",
    "        } else {\n",
    "            return 1 unless (defined $perp and $perp eq $self->{value});\n",
    "            if (defined $perp_wall and $perp_wall eq $self->{value}) {\n",
    "                return 1;\n",
    "            } else {\n",
    "                return 0;\n",
    "            }\n",
    "        }\n",
    "    };\n",
    "$graphql::graphql_methods{perimeter_contiguous} = sub {\n",
    "        my ($self, $params) = @_;\n",
    "        return $self->{is_different_neighbor_contiguous}($self, { da => -1 })\n",
    "            + $self->{is_different_neighbor_contiguous}($self, { da => 1 })\n",
    "            + $self->{is_different_neighbor_contiguous}($self, { db => -1 })\n",
    "            + $self->{is_different_neighbor_contiguous}($self, { db => 1 });\n",
    "    };\n",
    "\n",
    "sub process_day12_part2 {\n",
    "    my ($input) = @_;\n",
    "    my $table =\n",
    "        map_nd_indexed graphql_query('{ group_by(key:\"flood_group\") }'),\n",
    "        map_nd_indexed graphql_query(qq/{\n",
    "            flood_group\n",
    "            value\n",
    "            perimeter:perimeter_contiguous\n",
    "        }/),\n",
    "            # up:is_different_neighbor_contiguous(da:-1)\n",
    "            # down:is_different_neighbor_contiguous(da:1)\n",
    "            # left:is_different_neighbor_contiguous(db:-1)\n",
    "            # right:is_different_neighbor_contiguous(db:1)\n",
    "        parse_2d_map_array($input);\n",
    "    my $groups = $table->[0][0]{group_by};\n",
    "    my @calculated_areas = map { {\n",
    "        area => $groups->{$_}[0]{flood_group},\n",
    "        value => $groups->{$_}[0]{value},\n",
    "        perimeter => sum map $_->{perimeter}, @{$groups->{$_}}\n",
    "    } } keys %$groups;\n",
    "    \n",
    "    sum map @{$_->{area}} * $_->{perimeter}, @calculated_areas\n",
    "}\n",
    "timer sub {\n",
    "    say Dumper process_day12_part2(qq/\n",
    "AAAA\n",
    "BBCD\n",
    "BBCC\n",
    "EEEC\n",
    "/);\n",
    "    confirm process_day12_part2($practice_input1), 80;\n",
    "    confirm process_day12_part2($practice_input2), 436;\n",
    "    confirm process_day12_part2($practice_input3), 1206;\n",
    "    confirm process_day12_part2(qq/\n",
    "AAAAAA\n",
    "AAABBA\n",
    "AAABBA\n",
    "ABBAAA\n",
    "ABBAAA\n",
    "AAAAAA/), 368;\n",
    "}"
   ]
  },
  {
   "cell_type": "code",
   "execution_count": 93,
   "id": "83706da2-0615-4706-bd78-dc83deadeded",
   "metadata": {},
   "outputs": [
    {
     "name": "stdout",
     "output_type": "stream",
     "text": [
      "$VAR1 = 914966;\n",
      "\n",
      "confirmed: 914966\n",
      "[time] 2 seconds\n"
     ]
    },
    {
     "data": {
      "text/plain": [
       "1"
      ]
     },
     "execution_count": 93,
     "metadata": {},
     "output_type": "execute_result"
    }
   ],
   "source": [
    "my $res;\n",
    "timer sub {\n",
    "    my $input = get_challenge('2024/day/12/input');\n",
    "    $res = process_day12_part2($input);\n",
    "    say Dumper $res;\n",
    "    confirm $res, 914966;\n",
    "}"
   ]
  },
  {
   "cell_type": "code",
   "execution_count": 91,
   "id": "2ef144af-4d66-45b1-94a3-94a6490b54d3",
   "metadata": {},
   "outputs": [
    {
     "data": {
      "text/plain": [
       "914966"
      ]
     },
     "execution_count": 91,
     "metadata": {},
     "output_type": "execute_result"
    }
   ],
   "source": [
    "$res"
   ]
  },
  {
   "cell_type": "code",
   "execution_count": 92,
   "id": "f14057e2-9a14-432f-b784-ea461eae17a2",
   "metadata": {},
   "outputs": [
    {
     "name": "stdout",
     "output_type": "stream",
     "text": [
      "<!DOCTYPE html>\n",
      "<html lang=\"en-us\">\n",
      "<head>\n",
      "<meta charset=\"utf-8\"/>\n",
      "<title>Day 12 - Advent of Code 2024</title>\n",
      "<link rel=\"stylesheet\" type=\"text/css\" href=\"/static/style.css?31\"/>\n",
      "<link rel=\"stylesheet alternate\" type=\"text/css\" href=\"/static/highcontrast.css?1\" title=\"High Contrast\"/>\n",
      "<link rel=\"shortcut icon\" href=\"/favicon.png\"/>\n",
      "<script>window.addEventListener('click', function(e,s,r){if(e.target.nodeName==='CODE'&&e.detail===3){s=window.getSelection();s.removeAllRanges();r=document.createRange();r.selectNodeContents(e.target);s.addRange(r);}});</script>\n",
      "</head><!--\n",
      "\n",
      "\n",
      "\n",
      "\n",
      "Oh, hello!  Funny seeing you here.\n",
      "\n",
      "I appreciate your enthusiasm, but you aren't going to find much down here.\n",
      "There certainly aren't clues to any of the puzzles.  The best surprises don't\n",
      "even appear in the source until you unlock them for real.\n",
      "\n",
      "Please be careful with automated requests; I'm not a massive company, and I can\n",
      "only take so much traffic.  Please be considerate so that everyone gets to play.\n",
      "\n",
      "If you're curious about how Advent of Code works, it's running on some custom\n",
      "Perl code. Other than a few integrations (auth, analytics, social media), I\n",
      "built the whole thing myself, including the design, animations, prose, and all\n",
      "of the puzzles.\n",
      "\n",
      "The puzzles are most of the work; preparing a new calendar and a new set of\n",
      "puzzles each year takes all of my free time for 4-5 months. A lot of effort\n",
      "went into building this thing - I hope you're enjoying playing it as much as I\n",
      "enjoyed making it for you!\n",
      "\n",
      "If you'd like to hang out, I'm @was.tl on Bluesky, @ericwastl@hachyderm.io on\n",
      "Mastodon, and @ericwastl on Twitter.\n",
      "\n",
      "- Eric Wastl\n",
      "\n",
      "\n",
      "\n",
      "\n",
      "\n",
      "\n",
      "\n",
      "\n",
      "\n",
      "\n",
      "\n",
      "\n",
      "\n",
      "\n",
      "\n",
      "\n",
      "\n",
      "\n",
      "\n",
      "\n",
      "\n",
      "\n",
      "\n",
      "\n",
      "\n",
      "\n",
      "\n",
      "\n",
      "\n",
      "\n",
      "\n",
      "\n",
      "\n",
      "\n",
      "\n",
      "\n",
      "\n",
      "\n",
      "\n",
      "\n",
      "\n",
      "\n",
      "\n",
      "\n",
      "\n",
      "\n",
      "\n",
      "\n",
      "\n",
      "\n",
      "-->\n",
      "<body>\n",
      "<header><div><h1 class=\"title-global\"><a href=\"/\">Advent of Code</a></h1><nav><ul><li><a href=\"/2024/about\">[About]</a></li><li><a href=\"/2024/events\">[Events]</a></li><li><a href=\"https://cottonbureau.com/people/advent-of-code\" target=\"_blank\">[Shop]</a></li><li><a href=\"/2024/settings\">[Settings]</a></li><li><a href=\"/2024/auth/logout\">[Log Out]</a></li></ul></nav><div class=\"user\">mirror12k <span class=\"star-count\">24*</span></div></div><div><h1 class=\"title-event\">&nbsp;&nbsp;&nbsp;<span class=\"title-event-wrap\">0x0000|</span><a href=\"/2024\">2024</a><span class=\"title-event-wrap\"></span></h1><nav><ul><li><a href=\"/2024\">[Calendar]</a></li><li><a href=\"/2024/support\">[AoC++]</a></li><li><a href=\"/2024/sponsors\">[Sponsors]</a></li><li><a href=\"/2024/leaderboard\">[Leaderboard]</a></li><li><a href=\"/2024/stats\">[Stats]</a></li></ul></nav></div></header>\n",
      "\n",
      "<div id=\"sidebar\">\n",
      "<div id=\"sponsor\"><div class=\"quiet\">Our <a href=\"/2024/sponsors\">sponsors</a> help make Advent of Code possible:</div><div class=\"sponsor\"><a href=\"/2024/sponsors/redirect?url=https%3A%2F%2Fcareers%2Ebankofamerica%2Ecom%2F\" target=\"_blank\" onclick=\"if(ga)ga('send','event','sponsor','sidebar',this.href);\" rel=\"noopener\">Bank of America</a> - We use technology, models and data to make financial lives better for our clients and communities.</div></div>\n",
      "</div><!--/sidebar-->\n",
      "\n",
      "<main>\n",
      "<article><p>That's the right answer!  You are <span class=\"day-success\">one gold star</span> closer to finding the Chief Historian.</p><p>You have completed Day 12! You can <span class=\"share\">[Share<span class=\"share-content\">on\n",
      "  <a href=\"https://bsky.app/intent/compose?text=I+just+completed+%22Garden+Groups%22+%2D+Day+12+%2D+Advent+of+Code+2024+%23AdventOfCode+https%3A%2F%2Fadventofcode%2Ecom%2F2024%2Fday%2F12\" target=\"_blank\">Bluesky</a>\n",
      "  <a href=\"https://twitter.com/intent/tweet?text=I+just+completed+%22Garden+Groups%22+%2D+Day+12+%2D+Advent+of+Code+2024&amp;url=https%3A%2F%2Fadventofcode%2Ecom%2F2024%2Fday%2F12&amp;related=ericwastl&amp;hashtags=AdventOfCode\" target=\"_blank\">Twitter</a>\n",
      "  <a href=\"javascript:void(0);\" onclick=\"var ms; try{ms=localStorage.getItem('mastodon.server')}finally{} if(typeof ms!=='string')ms=''; ms=prompt('Mastodon Server?',ms); if(typeof ms==='string' && ms.length){this.href='https://'+ms+'/share?text=I+just+completed+%22Garden+Groups%22+%2D+Day+12+%2D+Advent+of+Code+2024+%23AdventOfCode+https%3A%2F%2Fadventofcode%2Ecom%2F2024%2Fday%2F12';try{localStorage.setItem('mastodon.server',ms);}finally{}}else{return false;}\" target=\"_blank\">Mastodon</a\n",
      "></span>]</span> this victory or <a href=\"/2024\">[Return to Your Advent Calendar]</a>.</p></article>\n",
      "</main>\n",
      "\n",
      "<!-- ga -->\n",
      "<script>\n",
      "(function(i,s,o,g,r,a,m){i['GoogleAnalyticsObject']=r;i[r]=i[r]||function(){\n",
      "(i[r].q=i[r].q||[]).push(arguments)},i[r].l=1*new Date();a=s.createElement(o),\n",
      "m=s.getElementsByTagName(o)[0];a.async=1;a.src=g;m.parentNode.insertBefore(a,m)\n",
      "})(window,document,'script','//www.google-analytics.com/analytics.js','ga');\n",
      "ga('create', 'UA-69522494-1', 'auto');\n",
      "ga('set', 'anonymizeIp', true);\n",
      "ga('send', 'pageview');\n",
      "</script>\n",
      "<!-- /ga -->\n",
      "</body>\n",
      "</html>\n"
     ]
    },
    {
     "data": {
      "text/plain": [
       "1"
      ]
     },
     "execution_count": 92,
     "metadata": {},
     "output_type": "execute_result"
    }
   ],
   "source": [
    "say post_answer('2024/day/12/answer', 2, $res); # 914966"
   ]
  },
  {
   "cell_type": "code",
   "execution_count": null,
   "id": "8f878898-4347-4847-a06c-cced162b5ef9",
   "metadata": {},
   "outputs": [],
   "source": []
  }
 ],
 "metadata": {
  "kernelspec": {
   "display_name": "IPerl 0.012",
   "language": "perl",
   "name": "iperl"
  },
  "language_info": {
   "file_extension": ".pl",
   "mimetype": "text/x-perl",
   "name": "perl",
   "version": "5.34.0"
  }
 },
 "nbformat": 4,
 "nbformat_minor": 5
}
