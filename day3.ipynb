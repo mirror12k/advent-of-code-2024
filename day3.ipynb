{
 "cells": [
  {
   "cell_type": "code",
   "execution_count": 1,
   "id": "4c9fdcea-d93b-4c8e-8cf2-b5fca994caef",
   "metadata": {},
   "outputs": [
    {
     "data": {
      "text/plain": [
       "1"
      ]
     },
     "execution_count": 1,
     "metadata": {},
     "output_type": "execute_result"
    }
   ],
   "source": [
    "#!/usr/bin/env perl\n",
    "use strict;\n",
    "use warnings;\n",
    "use feature qw/ say /;\n",
    "use Data::Dumper;\n",
    "use lib '.';\n",
    "use toolkit;\n",
    "use graphql;\n",
    "use adventofcode;\n",
    "\n",
    "$Data::Dumper::Sortkeys = 1;"
   ]
  },
  {
   "cell_type": "code",
   "execution_count": 2,
   "id": "a3603522-94ed-40b1-a62c-80fe6761cf99",
   "metadata": {},
   "outputs": [
    {
     "data": {
      "text/plain": [
       "xmul(2,4)%&mul[3,7]!@^do_not_mul(5,5)+mul(32,64]then(mul(11,8)mul(8,5))"
      ]
     },
     "execution_count": 2,
     "metadata": {},
     "output_type": "execute_result"
    }
   ],
   "source": [
    "my $practice_input = qq/xmul(2,4)%&mul[3,7]!@^do_not_mul(5,5)+mul(32,64]then(mul(11,8)mul(8,5))/;"
   ]
  },
  {
   "cell_type": "code",
   "execution_count": 3,
   "id": "088f8337-a3d1-42ea-836b-162826168fc6",
   "metadata": {},
   "outputs": [
    {
     "data": {
      "text/plain": [
       "$VAR1 = 161;\n"
      ]
     },
     "execution_count": 3,
     "metadata": {},
     "output_type": "execute_result"
    }
   ],
   "source": [
    "sub process_day3_part1 {\n",
    "    my ($input) = @_;\n",
    "    return sum map { (split ',')[0] * (split ',')[1] } map s/mul\\((\\d+),(\\d+)\\)/$1,$2/r, ($input =~ /mul\\(\\d+,\\d+\\)/g);\n",
    "}\n",
    "Dumper process_day3_part1($practice_input);"
   ]
  },
  {
   "cell_type": "code",
   "execution_count": 4,
   "id": "5ae61d9f-8485-4c81-8faf-60835abb4d81",
   "metadata": {},
   "outputs": [
    {
     "data": {
      "text/plain": [
       "173419328"
      ]
     },
     "execution_count": 4,
     "metadata": {},
     "output_type": "execute_result"
    }
   ],
   "source": [
    "my $input = get_challenge('2024/day/3/input');\n",
    "my $res = process_day3_part1($input);"
   ]
  },
  {
   "cell_type": "code",
   "execution_count": 5,
   "id": "d9c5c9bd-961f-4ff4-a6e5-e360180bfef9",
   "metadata": {},
   "outputs": [],
   "source": [
    "# say post_answer('2024/day/3/answer', 1, $res);"
   ]
  },
  {
   "cell_type": "code",
   "execution_count": 6,
   "id": "55da1d64-3a0a-4cd0-91fd-2b5404d61542",
   "metadata": {},
   "outputs": [
    {
     "data": {
      "text/plain": [
       "$VAR1 = 48;\n"
      ]
     },
     "execution_count": 6,
     "metadata": {},
     "output_type": "execute_result"
    }
   ],
   "source": [
    "my $practice_input2 = qq/xmul(2,4)&mul[3,7]!^don't()_mul(5,5)+mul(32,64](mul(11,8)undo()?mul(8,5))/;\n",
    "sub process_day3_part2 {\n",
    "    my ($input) = @_;\n",
    "    $input =~ s/don't\\(\\)[^\\x00]*?(do\\(\\)|\\Z)/|||/gs;\n",
    "    sum map { (split ',')[0] * (split ',')[1] } map s/mul\\((\\d+),(\\d+)\\)/$1,$2/r, ($input =~ /mul\\(\\d+,\\d+\\)/g);\n",
    "}\n",
    "Dumper process_day3_part2($practice_input2);"
   ]
  },
  {
   "cell_type": "code",
   "execution_count": 7,
   "id": "246cd008-24e7-4097-b3a4-ed2929c20cdf",
   "metadata": {},
   "outputs": [
    {
     "data": {
      "text/plain": [
       "90669332"
      ]
     },
     "execution_count": 7,
     "metadata": {},
     "output_type": "execute_result"
    }
   ],
   "source": [
    "my $input = get_challenge('2024/day/3/input');\n",
    "$res = process_day3_part2($input);"
   ]
  },
  {
   "cell_type": "code",
   "execution_count": 8,
   "id": "f35b5cce-d5a0-4ab9-93b8-69555716817e",
   "metadata": {},
   "outputs": [],
   "source": [
    "# say post_answer('2024/day/3/answer', 2, $res);"
   ]
  },
  {
   "cell_type": "code",
   "execution_count": null,
   "id": "b8df6cf5-aca7-4e4d-b657-450656cebfe5",
   "metadata": {},
   "outputs": [],
   "source": []
  }
 ],
 "metadata": {
  "kernelspec": {
   "display_name": "IPerl 0.012",
   "language": "perl",
   "name": "iperl"
  },
  "language_info": {
   "file_extension": ".pl",
   "mimetype": "text/x-perl",
   "name": "perl",
   "version": "5.34.0"
  }
 },
 "nbformat": 4,
 "nbformat_minor": 5
}
