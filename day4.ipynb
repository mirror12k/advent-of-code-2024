{
 "cells": [
  {
   "cell_type": "code",
   "execution_count": 1,
   "id": "87eb3bea-07e5-47e1-ac6b-1ff8ca059935",
   "metadata": {},
   "outputs": [
    {
     "data": {
      "text/plain": [
       "1"
      ]
     },
     "execution_count": 1,
     "metadata": {},
     "output_type": "execute_result"
    }
   ],
   "source": [
    "#!/usr/bin/env perl\n",
    "use strict;\n",
    "use warnings;\n",
    "use feature qw/ say /;\n",
    "use Data::Dumper;\n",
    "use lib '.';\n",
    "use toolkit;\n",
    "use graphql;\n",
    "use adventofcode;\n",
    "\n",
    "$Data::Dumper::Sortkeys = 1;"
   ]
  },
  {
   "cell_type": "code",
   "execution_count": 2,
   "id": "347ba7a6-0b37-49bd-b54f-01b0a64c6954",
   "metadata": {},
   "outputs": [
    {
     "data": {
      "text/plain": [
       "\n",
       "MMMSXXMASM\n",
       "MSAMXMSMSA\n",
       "AMXSXMAAMM\n",
       "MSAMASMSMX\n",
       "XMASAMXAMM\n",
       "XXAMMXXAMA\n",
       "SMSMSASXSS\n",
       "SAXAMASAAA\n",
       "MAMMMXMMMM\n",
       "MXMXAXMASX\n"
      ]
     },
     "execution_count": 2,
     "metadata": {},
     "output_type": "execute_result"
    }
   ],
   "source": [
    "my $practice_input1 = qq/\n",
    "..X...\n",
    ".SAMX.\n",
    ".A..A.\n",
    "XMAS.S\n",
    ".X....\n",
    "/;\n",
    "my $practice_input2 = qq/\n",
    "MMMSXXMASM\n",
    "MSAMXMSMSA\n",
    "AMXSXMAAMM\n",
    "MSAMASMSMX\n",
    "XMASAMXAMM\n",
    "XXAMMXXAMA\n",
    "SMSMSASXSS\n",
    "SAXAMASAAA\n",
    "MAMMMXMMMM\n",
    "MXMXAXMASX\n",
    "/;"
   ]
  },
  {
   "cell_type": "code",
   "execution_count": 48,
   "id": "bb6c1ecf-e02d-4b3c-95ba-949160eb05e5",
   "metadata": {},
   "outputs": [
    {
     "name": "stdout",
     "output_type": "stream",
     "text": [
      "4\n",
      "18\n"
     ]
    },
    {
     "data": {
      "text/plain": [
       "1"
      ]
     },
     "execution_count": 48,
     "metadata": {},
     "output_type": "execute_result"
    },
    {
     "ename": "Warning",
     "evalue": "Subroutine selector_multi redefined at reply input line 1.\n\nSubroutine process_day4_part1 redefined at reply input line 3.\n",
     "output_type": "error",
     "traceback": [
      "Subroutine selector_multi redefined at reply input line 1.\n\nSubroutine process_day4_part1 redefined at reply input line 3.\n"
     ]
    }
   ],
   "source": [
    "sub selector_multi ($) { eval 'sub { [' . join(',', map { '($_ ? $_->' . join ('', map \"{$_}\", split /\\./, $_) . ' : undef)' } split /,/, ($_[0] =~ s/\\s+//gr)) . '] }' }\n",
    "\n",
    "sub process_day4_part1 {\n",
    "    my ($input) = @_;\n",
    "    # say Dumper\n",
    "    sum\n",
    "        map { 1 }\n",
    "        grep defined,\n",
    "        flatten_nd\n",
    "        map_nd selector_multi(qq/\n",
    "            where.up.where.neighbor.where.neighbor.where.pos,\n",
    "            where.down.where.neighbor.where.neighbor.where.pos,\n",
    "            where.left.where.neighbor.where.neighbor.where.pos,\n",
    "            where.right.where.neighbor.where.neighbor.where.pos,\n",
    "            where.diag_leftup.where.neighbor.where.neighbor.where.pos,\n",
    "            where.diag_leftdown.where.neighbor.where.neighbor.where.pos,\n",
    "            where.diag_rightup.where.neighbor.where.neighbor.where.pos,\n",
    "            where.diag_rightdown.where.neighbor.where.neighbor.where.pos\n",
    "        /),\n",
    "        map_nd_indexed graphql_query(qq/{ where(value:X) {\n",
    "            value up:neighbor(da:-1) { value where(value:M) {\n",
    "                value neighbor(da:-1) { value where(value:A) {\n",
    "                    value neighbor(da:-1) { value where(value:S) {\n",
    "                        pos\n",
    "                    } }\n",
    "                } }\n",
    "            } }\n",
    "            value down:neighbor(da:1) { value where(value:M) {\n",
    "                value neighbor(da:1) { value where(value:A) {\n",
    "                    value neighbor(da:1) { value where(value:S) {\n",
    "                        pos\n",
    "                    } }\n",
    "                } }\n",
    "            } }\n",
    "            value left:neighbor(db:-1) { value where(value:M) {\n",
    "                value neighbor(db:-1) { value where(value:A) {\n",
    "                    value neighbor(db:-1) { value where(value:S) {\n",
    "                        pos\n",
    "                    } }\n",
    "                } }\n",
    "            } }\n",
    "            value right:neighbor(db:1) { value where(value:M) {\n",
    "                value neighbor(db:1) { value where(value:A) {\n",
    "                    value neighbor(db:1) { value where(value:S) {\n",
    "                        pos\n",
    "                    } }\n",
    "                } }\n",
    "            } }\n",
    "    \n",
    "            value diag_leftup:neighbor(da:-1,db:-1) { value where(value:M) {\n",
    "                value neighbor(da:-1,db:-1) { value where(value:A) {\n",
    "                    value neighbor(da:-1,db:-1) { value where(value:S) {\n",
    "                        pos\n",
    "                    } }\n",
    "                } }\n",
    "            } }\n",
    "            value diag_leftdown:neighbor(da:1,db:-1) { value where(value:M) {\n",
    "                value neighbor(da:1,db:-1) { value where(value:A) {\n",
    "                    value neighbor(da:1,db:-1) { value where(value:S) {\n",
    "                        pos\n",
    "                    } }\n",
    "                } }\n",
    "            } }\n",
    "            value diag_rightup:neighbor(da:-1,db:1) { value where(value:M) {\n",
    "                value neighbor(da:-1,db:1) { value where(value:A) {\n",
    "                    value neighbor(da:-1,db:1) { value where(value:S) {\n",
    "                        pos\n",
    "                    } }\n",
    "                } }\n",
    "            } }\n",
    "            value diag_rightdown:neighbor(da:1,db:1) { value where(value:M) {\n",
    "                value neighbor(da:1,db:1) { value where(value:A) {\n",
    "                    value neighbor(da:1,db:1) { value where(value:S) {\n",
    "                        pos\n",
    "                    } }\n",
    "                } }\n",
    "            } }\n",
    "        } }/),\n",
    "        parse_2d_map_array($input);\n",
    "}\n",
    "\n",
    "say process_day4_part1($practice_input1);\n",
    "say process_day4_part1($practice_input2);"
   ]
  },
  {
   "cell_type": "code",
   "execution_count": 49,
   "id": "bae8d274-7d76-4aa6-a415-e6ea9ab33fcb",
   "metadata": {},
   "outputs": [
    {
     "data": {
      "text/plain": [
       "2534"
      ]
     },
     "execution_count": 49,
     "metadata": {},
     "output_type": "execute_result"
    }
   ],
   "source": [
    "my $input = get_challenge('2024/day/4/input');\n",
    "my $res = process_day4_part1($input);"
   ]
  },
  {
   "cell_type": "code",
   "execution_count": 50,
   "id": "758dbf1f-839d-4ca7-bbed-13008d11bbd7",
   "metadata": {},
   "outputs": [
    {
     "name": "stdout",
     "output_type": "stream",
     "text": [
      "<!DOCTYPE html>\n",
      "<html lang=\"en-us\">\n",
      "<head>\n",
      "<meta charset=\"utf-8\"/>\n",
      "<title>Day 4 - Advent of Code 2024</title>\n",
      "<link rel=\"stylesheet\" type=\"text/css\" href=\"/static/style.css?31\"/>\n",
      "<link rel=\"stylesheet alternate\" type=\"text/css\" href=\"/static/highcontrast.css?1\" title=\"High Contrast\"/>\n",
      "<link rel=\"shortcut icon\" href=\"/favicon.png\"/>\n",
      "<script>window.addEventListener('click', function(e,s,r){if(e.target.nodeName==='CODE'&&e.detail===3){s=window.getSelection();s.removeAllRanges();r=document.createRange();r.selectNodeContents(e.target);s.addRange(r);}});</script>\n",
      "</head><!--\n",
      "\n",
      "\n",
      "\n",
      "\n",
      "Oh, hello!  Funny seeing you here.\n",
      "\n",
      "I appreciate your enthusiasm, but you aren't going to find much down here.\n",
      "There certainly aren't clues to any of the puzzles.  The best surprises don't\n",
      "even appear in the source until you unlock them for real.\n",
      "\n",
      "Please be careful with automated requests; I'm not a massive company, and I can\n",
      "only take so much traffic.  Please be considerate so that everyone gets to play.\n",
      "\n",
      "If you're curious about how Advent of Code works, it's running on some custom\n",
      "Perl code. Other than a few integrations (auth, analytics, social media), I\n",
      "built the whole thing myself, including the design, animations, prose, and all\n",
      "of the puzzles.\n",
      "\n",
      "The puzzles are most of the work; preparing a new calendar and a new set of\n",
      "puzzles each year takes all of my free time for 4-5 months. A lot of effort\n",
      "went into building this thing - I hope you're enjoying playing it as much as I\n",
      "enjoyed making it for you!\n",
      "\n",
      "If you'd like to hang out, I'm @was.tl on Bluesky, @ericwastl@hachyderm.io on\n",
      "Mastodon, and @ericwastl on Twitter.\n",
      "\n",
      "- Eric Wastl\n",
      "\n",
      "\n",
      "\n",
      "\n",
      "\n",
      "\n",
      "\n",
      "\n",
      "\n",
      "\n",
      "\n",
      "\n",
      "\n",
      "\n",
      "\n",
      "\n",
      "\n",
      "\n",
      "\n",
      "\n",
      "\n",
      "\n",
      "\n",
      "\n",
      "\n",
      "\n",
      "\n",
      "\n",
      "\n",
      "\n",
      "\n",
      "\n",
      "\n",
      "\n",
      "\n",
      "\n",
      "\n",
      "\n",
      "\n",
      "\n",
      "\n",
      "\n",
      "\n",
      "\n",
      "\n",
      "\n",
      "\n",
      "\n",
      "\n",
      "\n",
      "-->\n",
      "<body>\n",
      "<header><div><h1 class=\"title-global\"><a href=\"/\">Advent of Code</a></h1><nav><ul><li><a href=\"/2024/about\">[About]</a></li><li><a href=\"/2024/events\">[Events]</a></li><li><a href=\"https://cottonbureau.com/people/advent-of-code\" target=\"_blank\">[Shop]</a></li><li><a href=\"/2024/settings\">[Settings]</a></li><li><a href=\"/2024/auth/logout\">[Log Out]</a></li></ul></nav><div class=\"user\">mirror12k <span class=\"star-count\">7*</span></div></div><div><h1 class=\"title-event\">&nbsp;&nbsp;&nbsp;&nbsp;&nbsp;&nbsp;&nbsp;&nbsp;<span class=\"title-event-wrap\">//</span><a href=\"/2024\">2024</a><span class=\"title-event-wrap\"></span></h1><nav><ul><li><a href=\"/2024\">[Calendar]</a></li><li><a href=\"/2024/support\">[AoC++]</a></li><li><a href=\"/2024/sponsors\">[Sponsors]</a></li><li><a href=\"/2024/leaderboard\">[Leaderboard]</a></li><li><a href=\"/2024/stats\">[Stats]</a></li></ul></nav></div></header>\n",
      "\n",
      "<div id=\"sidebar\">\n",
      "<div id=\"sponsor\"><div class=\"quiet\">Our <a href=\"/2024/sponsors\">sponsors</a> help make Advent of Code possible:</div><div class=\"sponsor\"><a href=\"/2024/sponsors/redirect?url=https%3A%2F%2Fhack%2Eainfosec%2Ecom%2F\" target=\"_blank\" onclick=\"if(ga)ga('send','event','sponsor','sidebar',this.href);\" rel=\"noopener\">AIS</a> - Test your skills with our Can You Hack It? Challenge.</div></div>\n",
      "</div><!--/sidebar-->\n",
      "\n",
      "<main>\n",
      "<article><p>That's the right answer!  You are <span class=\"day-success\">one gold star</span> closer to finding the Chief Historian. <a href=\"/2024/day/4#part2\">[Continue to Part Two]</a></p></article>\n",
      "</main>\n",
      "\n",
      "<!-- ga -->\n",
      "<script>\n",
      "(function(i,s,o,g,r,a,m){i['GoogleAnalyticsObject']=r;i[r]=i[r]||function(){\n",
      "(i[r].q=i[r].q||[]).push(arguments)},i[r].l=1*new Date();a=s.createElement(o),\n",
      "m=s.getElementsByTagName(o)[0];a.async=1;a.src=g;m.parentNode.insertBefore(a,m)\n",
      "})(window,document,'script','//www.google-analytics.com/analytics.js','ga');\n",
      "ga('create', 'UA-69522494-1', 'auto');\n",
      "ga('set', 'anonymizeIp', true);\n",
      "ga('send', 'pageview');\n",
      "</script>\n",
      "<!-- /ga -->\n",
      "</body>\n",
      "</html>\n"
     ]
    },
    {
     "data": {
      "text/plain": [
       "1"
      ]
     },
     "execution_count": 50,
     "metadata": {},
     "output_type": "execute_result"
    }
   ],
   "source": [
    "say post_answer('2024/day/4/answer', 1, $res);"
   ]
  },
  {
   "cell_type": "code",
   "execution_count": 53,
   "id": "e80c5a41-726a-42ca-ad70-aed60c5a8a03",
   "metadata": {},
   "outputs": [
    {
     "name": "stdout",
     "output_type": "stream",
     "text": [
      "$VAR1 = 0;\n",
      "\n",
      "$VAR1 = 9;\n",
      "\n"
     ]
    },
    {
     "data": {
      "text/plain": [
       "1"
      ]
     },
     "execution_count": 53,
     "metadata": {},
     "output_type": "execute_result"
    },
    {
     "ename": "Warning",
     "evalue": "Subroutine process_day4_part2 redefined at reply input line 1.\n",
     "output_type": "error",
     "traceback": [
      "Subroutine process_day4_part2 redefined at reply input line 1.\n"
     ]
    }
   ],
   "source": [
    "sub process_day4_part2 {\n",
    "    my ($input) = @_;\n",
    "    # say Dumper\n",
    "    sum\n",
    "        map { 1 }\n",
    "        grep defined,\n",
    "        flatten_nd\n",
    "        map_nd selector_multi(qq/\n",
    "            where.upup.where.neighbor.where.neighbor.where.neighbor.where.pos,\n",
    "            where.downdown.where.neighbor.where.neighbor.where.neighbor.where.pos,\n",
    "            where.leftleft.where.neighbor.where.neighbor.where.neighbor.where.pos,\n",
    "            where.rightright.where.neighbor.where.neighbor.where.neighbor.where.pos\n",
    "        /),\n",
    "        map_nd_indexed graphql_query(qq/{ where(value:A) {\n",
    "            upup:neighbor(da:-1,db:-1) { value where(value:M) {\n",
    "                neighbor(db:2) { value where(value:M) {\n",
    "                    neighbor(da:2) { value where(value:S) {\n",
    "                        neighbor(db:-2) { value where(value:S) {\n",
    "                            pos\n",
    "                        } }\n",
    "                    } }\n",
    "                } }\n",
    "            } }\n",
    "            leftleft:neighbor(da:-1,db:-1) { value where(value:M) {\n",
    "                neighbor(da:2) { value where(value:M) {\n",
    "                    neighbor(db:2) { value where(value:S) {\n",
    "                        neighbor(da:-2) { value where(value:S) {\n",
    "                            pos\n",
    "                        } }\n",
    "                    } }\n",
    "                } }\n",
    "            } }\n",
    "            downdown:neighbor(da:1,db:1) { value where(value:M) {\n",
    "                neighbor(db:-2) { value where(value:M) {\n",
    "                    neighbor(da:-2) { value where(value:S) {\n",
    "                        neighbor(db:2) { value where(value:S) {\n",
    "                            pos\n",
    "                        } }\n",
    "                    } }\n",
    "                } }\n",
    "            } }\n",
    "            rightright:neighbor(da:1,db:1) { value where(value:M) {\n",
    "                neighbor(da:-2) { value where(value:M) {\n",
    "                    neighbor(db:-2) { value where(value:S) {\n",
    "                        neighbor(da:2) { value where(value:S) {\n",
    "                            pos\n",
    "                        } }\n",
    "                    } }\n",
    "                } }\n",
    "            } }\n",
    "        } }/),\n",
    "        parse_2d_map_array($input);\n",
    "}\n",
    "\n",
    "say Dumper process_day4_part2($practice_input1);\n",
    "say Dumper process_day4_part2($practice_input2);"
   ]
  },
  {
   "cell_type": "code",
   "execution_count": 54,
   "id": "36566856-2b9e-4fc1-a564-003cfb76efed",
   "metadata": {},
   "outputs": [
    {
     "data": {
      "text/plain": [
       "1866"
      ]
     },
     "execution_count": 54,
     "metadata": {},
     "output_type": "execute_result"
    }
   ],
   "source": [
    "my $input = get_challenge('2024/day/4/input');\n",
    "my $res = process_day4_part2($input);"
   ]
  },
  {
   "cell_type": "code",
   "execution_count": 55,
   "id": "05747c26-35bd-48da-8791-00a733048903",
   "metadata": {},
   "outputs": [
    {
     "name": "stdout",
     "output_type": "stream",
     "text": [
      "<!DOCTYPE html>\n",
      "<html lang=\"en-us\">\n",
      "<head>\n",
      "<meta charset=\"utf-8\"/>\n",
      "<title>Day 4 - Advent of Code 2024</title>\n",
      "<link rel=\"stylesheet\" type=\"text/css\" href=\"/static/style.css?31\"/>\n",
      "<link rel=\"stylesheet alternate\" type=\"text/css\" href=\"/static/highcontrast.css?1\" title=\"High Contrast\"/>\n",
      "<link rel=\"shortcut icon\" href=\"/favicon.png\"/>\n",
      "<script>window.addEventListener('click', function(e,s,r){if(e.target.nodeName==='CODE'&&e.detail===3){s=window.getSelection();s.removeAllRanges();r=document.createRange();r.selectNodeContents(e.target);s.addRange(r);}});</script>\n",
      "</head><!--\n",
      "\n",
      "\n",
      "\n",
      "\n",
      "Oh, hello!  Funny seeing you here.\n",
      "\n",
      "I appreciate your enthusiasm, but you aren't going to find much down here.\n",
      "There certainly aren't clues to any of the puzzles.  The best surprises don't\n",
      "even appear in the source until you unlock them for real.\n",
      "\n",
      "Please be careful with automated requests; I'm not a massive company, and I can\n",
      "only take so much traffic.  Please be considerate so that everyone gets to play.\n",
      "\n",
      "If you're curious about how Advent of Code works, it's running on some custom\n",
      "Perl code. Other than a few integrations (auth, analytics, social media), I\n",
      "built the whole thing myself, including the design, animations, prose, and all\n",
      "of the puzzles.\n",
      "\n",
      "The puzzles are most of the work; preparing a new calendar and a new set of\n",
      "puzzles each year takes all of my free time for 4-5 months. A lot of effort\n",
      "went into building this thing - I hope you're enjoying playing it as much as I\n",
      "enjoyed making it for you!\n",
      "\n",
      "If you'd like to hang out, I'm @was.tl on Bluesky, @ericwastl@hachyderm.io on\n",
      "Mastodon, and @ericwastl on Twitter.\n",
      "\n",
      "- Eric Wastl\n",
      "\n",
      "\n",
      "\n",
      "\n",
      "\n",
      "\n",
      "\n",
      "\n",
      "\n",
      "\n",
      "\n",
      "\n",
      "\n",
      "\n",
      "\n",
      "\n",
      "\n",
      "\n",
      "\n",
      "\n",
      "\n",
      "\n",
      "\n",
      "\n",
      "\n",
      "\n",
      "\n",
      "\n",
      "\n",
      "\n",
      "\n",
      "\n",
      "\n",
      "\n",
      "\n",
      "\n",
      "\n",
      "\n",
      "\n",
      "\n",
      "\n",
      "\n",
      "\n",
      "\n",
      "\n",
      "\n",
      "\n",
      "\n",
      "\n",
      "\n",
      "-->\n",
      "<body>\n",
      "<header><div><h1 class=\"title-global\"><a href=\"/\">Advent of Code</a></h1><nav><ul><li><a href=\"/2024/about\">[About]</a></li><li><a href=\"/2024/events\">[Events]</a></li><li><a href=\"https://cottonbureau.com/people/advent-of-code\" target=\"_blank\">[Shop]</a></li><li><a href=\"/2024/settings\">[Settings]</a></li><li><a href=\"/2024/auth/logout\">[Log Out]</a></li></ul></nav><div class=\"user\">mirror12k <span class=\"star-count\">8*</span></div></div><div><h1 class=\"title-event\">&nbsp;&nbsp;&nbsp;&nbsp;&nbsp;&nbsp;&nbsp;&nbsp;<span class=\"title-event-wrap\">//</span><a href=\"/2024\">2024</a><span class=\"title-event-wrap\"></span></h1><nav><ul><li><a href=\"/2024\">[Calendar]</a></li><li><a href=\"/2024/support\">[AoC++]</a></li><li><a href=\"/2024/sponsors\">[Sponsors]</a></li><li><a href=\"/2024/leaderboard\">[Leaderboard]</a></li><li><a href=\"/2024/stats\">[Stats]</a></li></ul></nav></div></header>\n",
      "\n",
      "<div id=\"sidebar\">\n",
      "<div id=\"sponsor\"><div class=\"quiet\">Our <a href=\"/2024/sponsors\">sponsors</a> help make Advent of Code possible:</div><div class=\"sponsor\"><a href=\"/2024/sponsors/redirect?url=https%3A%2F%2Fwww%2Elightricks%2Ecom%2Fltxv\" target=\"_blank\" onclick=\"if(ga)ga('send','event','sponsor','sidebar',this.href);\" rel=\"noopener\">Lightricks</a> - Are you nerdy but also creative? Do you love AI, but truly believe the human hand doesn’t have six fingers? If you answered yes and want to help the future of creation, we’re hiring software engineers, developers, and more.</div></div>\n",
      "</div><!--/sidebar-->\n",
      "\n",
      "<main>\n",
      "<article><p>That's the right answer!  You are <span class=\"day-success\">one gold star</span> closer to finding the Chief Historian.</p><p>You have completed Day 4! You can <span class=\"share\">[Share<span class=\"share-content\">on\n",
      "  <a href=\"https://bsky.app/intent/compose?text=I+just+completed+%22Ceres+Search%22+%2D+Day+4+%2D+Advent+of+Code+2024+%23AdventOfCode+https%3A%2F%2Fadventofcode%2Ecom%2F2024%2Fday%2F4\" target=\"_blank\">Bluesky</a>\n",
      "  <a href=\"https://twitter.com/intent/tweet?text=I+just+completed+%22Ceres+Search%22+%2D+Day+4+%2D+Advent+of+Code+2024&amp;url=https%3A%2F%2Fadventofcode%2Ecom%2F2024%2Fday%2F4&amp;related=ericwastl&amp;hashtags=AdventOfCode\" target=\"_blank\">Twitter</a>\n",
      "  <a href=\"javascript:void(0);\" onclick=\"var ms; try{ms=localStorage.getItem('mastodon.server')}finally{} if(typeof ms!=='string')ms=''; ms=prompt('Mastodon Server?',ms); if(typeof ms==='string' && ms.length){this.href='https://'+ms+'/share?text=I+just+completed+%22Ceres+Search%22+%2D+Day+4+%2D+Advent+of+Code+2024+%23AdventOfCode+https%3A%2F%2Fadventofcode%2Ecom%2F2024%2Fday%2F4';try{localStorage.setItem('mastodon.server',ms);}finally{}}else{return false;}\" target=\"_blank\">Mastodon</a\n",
      "></span>]</span> this victory or <a href=\"/2024\">[Return to Your Advent Calendar]</a>.</p></article>\n",
      "</main>\n",
      "\n",
      "<!-- ga -->\n",
      "<script>\n",
      "(function(i,s,o,g,r,a,m){i['GoogleAnalyticsObject']=r;i[r]=i[r]||function(){\n",
      "(i[r].q=i[r].q||[]).push(arguments)},i[r].l=1*new Date();a=s.createElement(o),\n",
      "m=s.getElementsByTagName(o)[0];a.async=1;a.src=g;m.parentNode.insertBefore(a,m)\n",
      "})(window,document,'script','//www.google-analytics.com/analytics.js','ga');\n",
      "ga('create', 'UA-69522494-1', 'auto');\n",
      "ga('set', 'anonymizeIp', true);\n",
      "ga('send', 'pageview');\n",
      "</script>\n",
      "<!-- /ga -->\n",
      "</body>\n",
      "</html>\n"
     ]
    },
    {
     "data": {
      "text/plain": [
       "1"
      ]
     },
     "execution_count": 55,
     "metadata": {},
     "output_type": "execute_result"
    }
   ],
   "source": [
    "say post_answer('2024/day/4/answer', 2, $res);"
   ]
  },
  {
   "cell_type": "code",
   "execution_count": null,
   "id": "32be2620-e581-4cdf-8140-118cf9c5a2d4",
   "metadata": {},
   "outputs": [],
   "source": []
  }
 ],
 "metadata": {
  "kernelspec": {
   "display_name": "IPerl 0.012",
   "language": "perl",
   "name": "iperl"
  },
  "language_info": {
   "file_extension": ".pl",
   "mimetype": "text/x-perl",
   "name": "perl",
   "version": "5.34.0"
  }
 },
 "nbformat": 4,
 "nbformat_minor": 5
}
