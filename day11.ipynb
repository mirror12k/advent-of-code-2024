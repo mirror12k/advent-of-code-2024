{
 "cells": [
  {
   "cell_type": "code",
   "execution_count": 1,
   "id": "40678f23-2483-4531-b9d3-ebd04bc716c6",
   "metadata": {},
   "outputs": [
    {
     "data": {
      "text/plain": [
       "1"
      ]
     },
     "execution_count": 1,
     "metadata": {},
     "output_type": "execute_result"
    }
   ],
   "source": [
    "#!/usr/bin/env perl\n",
    "use strict;\n",
    "use warnings;\n",
    "use feature qw/ say current_sub state /;\n",
    "use Data::Dumper;\n",
    "use lib '.';\n",
    "use toolkit;\n",
    "use graphql;\n",
    "use adventofcode;\n",
    "\n",
    "$Data::Dumper::Sortkeys = 1;"
   ]
  },
  {
   "cell_type": "code",
   "execution_count": 2,
   "id": "2c8b2f1b-6162-4842-8aa6-0883ebfdfd8a",
   "metadata": {},
   "outputs": [
    {
     "data": {
      "text/plain": [
       "\n",
       "125 17\n"
      ]
     },
     "execution_count": 2,
     "metadata": {},
     "output_type": "execute_result"
    }
   ],
   "source": [
    "my $practice_input = qq/\n",
    "125 17\n",
    "/;"
   ]
  },
  {
   "cell_type": "code",
   "execution_count": 3,
   "id": "b7521977-9215-49b2-a61f-0e34ebc43ec2",
   "metadata": {},
   "outputs": [
    {
     "data": {
      "text/plain": [
       "0"
      ]
     },
     "execution_count": 3,
     "metadata": {},
     "output_type": "execute_result"
    }
   ],
   "source": [
    "sub timer { my $start = time; $_[0]->(); my $time = time - $start; say \"[time] $time seconds\"; }\n",
    "\n",
    "our $cache_miss = 0;\n",
    "our $cache_hit = 0;\n",
    "\n",
    "sub cached_args {\n",
    "    my ($fun) = @_;\n",
    "    return sub {\n",
    "        my $key = join ',', @_;\n",
    "        state %cached_single_arg_table;\n",
    "        unless (exists $cached_single_arg_table{$fun}{$key}) {\n",
    "            $cache_miss++;\n",
    "            # say \"no hit: $key\";\n",
    "            $cached_single_arg_table{$fun}{$key} = [ $fun->(@_) ];\n",
    "        } else {\n",
    "            $cache_hit++;\n",
    "        }\n",
    "        return @{$cached_single_arg_table{$fun}{$key}};\n",
    "    }\n",
    "}\n",
    "sub print_cache_stats {\n",
    "    say \"cache hit/miss: $cache_hit/$cache_miss\";\n",
    "}"
   ]
  },
  {
   "cell_type": "code",
   "execution_count": 4,
   "id": "4300bd33-a3b0-4ae9-8413-e3e3feb5e473",
   "metadata": {},
   "outputs": [
    {
     "name": "stdout",
     "output_type": "stream",
     "text": [
      "$VAR1 = 55312;\n",
      "\n",
      "cache hit/miss: 7751/63\n"
     ]
    },
    {
     "data": {
      "text/plain": [
       "1"
      ]
     },
     "execution_count": 4,
     "metadata": {},
     "output_type": "execute_result"
    }
   ],
   "source": [
    "\n",
    "sub step_state {\n",
    "    map {\n",
    "        $_ == 0 ? 1 :\n",
    "        length ($_) % 2 == 0 ? (int substr($_, 0, length($_) / 2), int substr($_, length($_) / 2)) :\n",
    "        $_ * 2024\n",
    "    } @_;\n",
    "}\n",
    "*step5_state = cached_args(sub { step_state step_state step_state step_state step_state @_ });\n",
    "\n",
    "sub process_day11_part1 {\n",
    "    my ($input, $blinks) = @_;\n",
    "\n",
    "    my @state = split ' ', $input;\n",
    "    foreach (1 .. ($blinks / 5)) {\n",
    "        @state = map step5_state($_), @state;\n",
    "    }\n",
    "    scalar\n",
    "        @state\n",
    "}\n",
    "say Dumper process_day11_part1($practice_input, 25);\n",
    "print_cache_stats;"
   ]
  },
  {
   "cell_type": "code",
   "execution_count": 5,
   "id": "41bdcc9c-096c-4ac0-bb19-f1d0b0c043ee",
   "metadata": {},
   "outputs": [
    {
     "name": "stdout",
     "output_type": "stream",
     "text": [
      "cache hit/miss: 35324/390\n"
     ]
    },
    {
     "data": {
      "text/plain": [
       "197357"
      ]
     },
     "execution_count": 5,
     "metadata": {},
     "output_type": "execute_result"
    }
   ],
   "source": [
    "my $input = get_challenge('2024/day/11/input');\n",
    "my $res = process_day11_part1($input, 25);\n",
    "print_cache_stats;\n",
    "$res"
   ]
  },
  {
   "cell_type": "code",
   "execution_count": 56,
   "id": "a905463e-4db6-4364-b26a-f69818ed032d",
   "metadata": {},
   "outputs": [
    {
     "name": "stdout",
     "output_type": "stream",
     "text": [
      "<!DOCTYPE html>\n",
      "<html lang=\"en-us\">\n",
      "<head>\n",
      "<meta charset=\"utf-8\"/>\n",
      "<title>Day 11 - Advent of Code 2024</title>\n",
      "<link rel=\"stylesheet\" type=\"text/css\" href=\"/static/style.css?31\"/>\n",
      "<link rel=\"stylesheet alternate\" type=\"text/css\" href=\"/static/highcontrast.css?1\" title=\"High Contrast\"/>\n",
      "<link rel=\"shortcut icon\" href=\"/favicon.png\"/>\n",
      "<script>window.addEventListener('click', function(e,s,r){if(e.target.nodeName==='CODE'&&e.detail===3){s=window.getSelection();s.removeAllRanges();r=document.createRange();r.selectNodeContents(e.target);s.addRange(r);}});</script>\n",
      "</head><!--\n",
      "\n",
      "\n",
      "\n",
      "\n",
      "Oh, hello!  Funny seeing you here.\n",
      "\n",
      "I appreciate your enthusiasm, but you aren't going to find much down here.\n",
      "There certainly aren't clues to any of the puzzles.  The best surprises don't\n",
      "even appear in the source until you unlock them for real.\n",
      "\n",
      "Please be careful with automated requests; I'm not a massive company, and I can\n",
      "only take so much traffic.  Please be considerate so that everyone gets to play.\n",
      "\n",
      "If you're curious about how Advent of Code works, it's running on some custom\n",
      "Perl code. Other than a few integrations (auth, analytics, social media), I\n",
      "built the whole thing myself, including the design, animations, prose, and all\n",
      "of the puzzles.\n",
      "\n",
      "The puzzles are most of the work; preparing a new calendar and a new set of\n",
      "puzzles each year takes all of my free time for 4-5 months. A lot of effort\n",
      "went into building this thing - I hope you're enjoying playing it as much as I\n",
      "enjoyed making it for you!\n",
      "\n",
      "If you'd like to hang out, I'm @was.tl on Bluesky, @ericwastl@hachyderm.io on\n",
      "Mastodon, and @ericwastl on Twitter.\n",
      "\n",
      "- Eric Wastl\n",
      "\n",
      "\n",
      "\n",
      "\n",
      "\n",
      "\n",
      "\n",
      "\n",
      "\n",
      "\n",
      "\n",
      "\n",
      "\n",
      "\n",
      "\n",
      "\n",
      "\n",
      "\n",
      "\n",
      "\n",
      "\n",
      "\n",
      "\n",
      "\n",
      "\n",
      "\n",
      "\n",
      "\n",
      "\n",
      "\n",
      "\n",
      "\n",
      "\n",
      "\n",
      "\n",
      "\n",
      "\n",
      "\n",
      "\n",
      "\n",
      "\n",
      "\n",
      "\n",
      "\n",
      "\n",
      "\n",
      "\n",
      "\n",
      "\n",
      "\n",
      "-->\n",
      "<body>\n",
      "<header><div><h1 class=\"title-global\"><a href=\"/\">Advent of Code</a></h1><nav><ul><li><a href=\"/2024/about\">[About]</a></li><li><a href=\"/2024/events\">[Events]</a></li><li><a href=\"https://cottonbureau.com/people/advent-of-code\" target=\"_blank\">[Shop]</a></li><li><a href=\"/2024/settings\">[Settings]</a></li><li><a href=\"/2024/auth/logout\">[Log Out]</a></li></ul></nav><div class=\"user\">mirror12k <span class=\"star-count\">21*</span></div></div><div><h1 class=\"title-event\">&nbsp;&nbsp;&nbsp;<span class=\"title-event-wrap\">sub y{</span><a href=\"/2024\">2024</a><span class=\"title-event-wrap\">}</span></h1><nav><ul><li><a href=\"/2024\">[Calendar]</a></li><li><a href=\"/2024/support\">[AoC++]</a></li><li><a href=\"/2024/sponsors\">[Sponsors]</a></li><li><a href=\"/2024/leaderboard\">[Leaderboard]</a></li><li><a href=\"/2024/stats\">[Stats]</a></li></ul></nav></div></header>\n",
      "\n",
      "<div id=\"sidebar\">\n",
      "<div id=\"sponsor\"><div class=\"quiet\">Our <a href=\"/2024/sponsors\">sponsors</a> help make Advent of Code possible:</div><div class=\"sponsor\"><a href=\"/2024/sponsors/redirect?url=https%3A%2F%2Fximedes%2Ecom%2F\" target=\"_blank\" onclick=\"if(ga)ga('send','event','sponsor','sidebar',this.href);\" rel=\"noopener\">Ximedes</a> - FinTech &amp; FareTech Software Professionals.</div></div>\n",
      "</div><!--/sidebar-->\n",
      "\n",
      "<main>\n",
      "<article><p>That's the right answer!  You are <span class=\"day-success\">one gold star</span> closer to finding the Chief Historian. <a href=\"/2024/day/11#part2\">[Continue to Part Two]</a></p></article>\n",
      "</main>\n",
      "\n",
      "<!-- ga -->\n",
      "<script>\n",
      "(function(i,s,o,g,r,a,m){i['GoogleAnalyticsObject']=r;i[r]=i[r]||function(){\n",
      "(i[r].q=i[r].q||[]).push(arguments)},i[r].l=1*new Date();a=s.createElement(o),\n",
      "m=s.getElementsByTagName(o)[0];a.async=1;a.src=g;m.parentNode.insertBefore(a,m)\n",
      "})(window,document,'script','//www.google-analytics.com/analytics.js','ga');\n",
      "ga('create', 'UA-69522494-1', 'auto');\n",
      "ga('set', 'anonymizeIp', true);\n",
      "ga('send', 'pageview');\n",
      "</script>\n",
      "<!-- /ga -->\n",
      "</body>\n",
      "</html>\n"
     ]
    },
    {
     "data": {
      "text/plain": [
       "1"
      ]
     },
     "execution_count": 56,
     "metadata": {},
     "output_type": "execute_result"
    }
   ],
   "source": [
    "# say post_answer('2024/day/11/answer', 1, $res); # 197357"
   ]
  },
  {
   "cell_type": "code",
   "execution_count": 25,
   "id": "0062d715-c423-4e05-b511-a0c5b00288fa",
   "metadata": {},
   "outputs": [
    {
     "name": "stdout",
     "output_type": "stream",
     "text": [
      "$VAR1 = 55312;\n",
      "\n",
      "$VAR1 = 197357;\n",
      "\n"
     ]
    },
    {
     "data": {
      "text/plain": [
       "1"
      ]
     },
     "execution_count": 25,
     "metadata": {},
     "output_type": "execute_result"
    },
    {
     "ename": "Warning",
     "evalue": "Subroutine process_day11_part2 redefined at reply input line 20.\n\nSubroutine main::recursive_step_state redefined at reply input line 18.\n",
     "output_type": "error",
     "traceback": [
      "Subroutine process_day11_part2 redefined at reply input line 20.\n\nSubroutine main::recursive_step_state redefined at reply input line 18.\n"
     ]
    }
   ],
   "source": [
    "*recursive_step_state = sub {\n",
    "    my ($v, $iterations) = @_;\n",
    "    # say \"wat: $v, $iterations\";\n",
    "    state %cache;\n",
    "    return 1 if $iterations == 0;\n",
    "    return $cache{\"$v,$iterations\"} if exists $cache{\"$v,$iterations\"};\n",
    "    my $ret;\n",
    "    if (length ($v) % 2 == 0) {\n",
    "    $ret = recursive_step_state(int substr($v, 0, length($v) / 2), $iterations - 1)\n",
    "            + recursive_step_state(int substr($v, length($v) / 2), $iterations - 1);\n",
    "    } else {\n",
    "        $ret = $v == 0 ? recursive_step_state(1, $iterations - 1) :\n",
    "            recursive_step_state($v * 2024, $iterations - 1);\n",
    "    }\n",
    "    $cache{\"$v,$iterations\"} = $ret;\n",
    "    # say \"ret: ($v, $iterations) -> $ret\";\n",
    "    return $ret\n",
    "};\n",
    "\n",
    "sub process_day11_part2 {\n",
    "    my ($input, $blinks) = @_;\n",
    "    return sum map recursive_step_state($_, $blinks), map int, split ' ', $input;\n",
    "}\n",
    "\n",
    "say Dumper process_day11_part2($practice_input, 25);\n",
    "my $input = get_challenge('2024/day/11/input');\n",
    "say Dumper process_day11_part2($input, 25);"
   ]
  },
  {
   "cell_type": "code",
   "execution_count": 26,
   "id": "01f3a487-3a6a-447a-b1cd-b6554006a055",
   "metadata": {},
   "outputs": [
    {
     "name": "stdout",
     "output_type": "stream",
     "text": [
      "$VAR1 = 1591642;\n",
      "\n",
      "[time] 0 seconds\n"
     ]
    },
    {
     "data": {
      "text/plain": [
       "1"
      ]
     },
     "execution_count": 26,
     "metadata": {},
     "output_type": "execute_result"
    }
   ],
   "source": [
    "timer sub {\n",
    "    my $input = get_challenge('2024/day/11/input');\n",
    "    my $res = process_day11_part2($input, 30);\n",
    "    say Dumper $res\n",
    "}"
   ]
  },
  {
   "cell_type": "code",
   "execution_count": 27,
   "id": "41ea1978-fb16-4087-86a7-68bcf266a92b",
   "metadata": {},
   "outputs": [
    {
     "name": "stdout",
     "output_type": "stream",
     "text": [
      "$VAR1 = '234568186890978';\n",
      "\n",
      "[time] 0 seconds\n"
     ]
    },
    {
     "data": {
      "text/plain": [
       "1"
      ]
     },
     "execution_count": 27,
     "metadata": {},
     "output_type": "execute_result"
    }
   ],
   "source": [
    "\n",
    "\n",
    "timer sub {\n",
    "    my $input = get_challenge('2024/day/11/input');\n",
    "    my $res = process_day11_part2($input, 75);\n",
    "    say Dumper $res\n",
    "}"
   ]
  },
  {
   "cell_type": "code",
   "execution_count": 21,
   "id": "c630b246-f967-492d-b4bc-dfdc6514e022",
   "metadata": {},
   "outputs": [
    {
     "name": "stdout",
     "output_type": "stream",
     "text": [
      "cache hit/miss: 37051/4399\n",
      "$VAR1 = '234568186890978';\n",
      "\n"
     ]
    },
    {
     "data": {
      "text/plain": [
       "1"
      ]
     },
     "execution_count": 21,
     "metadata": {},
     "output_type": "execute_result"
    }
   ],
   "source": [
    "my $input = get_challenge('2024/day/11/input');\n",
    "my $res = process_day11_part2($input, 75);\n",
    "print_cache_stats;\n",
    "say Dumper $res"
   ]
  },
  {
   "cell_type": "code",
   "execution_count": 22,
   "id": "f39f5844-0961-475a-b002-9d83434fb198",
   "metadata": {},
   "outputs": [
    {
     "name": "stdout",
     "output_type": "stream",
     "text": [
      "<!DOCTYPE html>\n",
      "<html lang=\"en-us\">\n",
      "<head>\n",
      "<meta charset=\"utf-8\"/>\n",
      "<title>Day 11 - Advent of Code 2024</title>\n",
      "<link rel=\"stylesheet\" type=\"text/css\" href=\"/static/style.css?31\"/>\n",
      "<link rel=\"stylesheet alternate\" type=\"text/css\" href=\"/static/highcontrast.css?1\" title=\"High Contrast\"/>\n",
      "<link rel=\"shortcut icon\" href=\"/favicon.png\"/>\n",
      "<script>window.addEventListener('click', function(e,s,r){if(e.target.nodeName==='CODE'&&e.detail===3){s=window.getSelection();s.removeAllRanges();r=document.createRange();r.selectNodeContents(e.target);s.addRange(r);}});</script>\n",
      "</head><!--\n",
      "\n",
      "\n",
      "\n",
      "\n",
      "Oh, hello!  Funny seeing you here.\n",
      "\n",
      "I appreciate your enthusiasm, but you aren't going to find much down here.\n",
      "There certainly aren't clues to any of the puzzles.  The best surprises don't\n",
      "even appear in the source until you unlock them for real.\n",
      "\n",
      "Please be careful with automated requests; I'm not a massive company, and I can\n",
      "only take so much traffic.  Please be considerate so that everyone gets to play.\n",
      "\n",
      "If you're curious about how Advent of Code works, it's running on some custom\n",
      "Perl code. Other than a few integrations (auth, analytics, social media), I\n",
      "built the whole thing myself, including the design, animations, prose, and all\n",
      "of the puzzles.\n",
      "\n",
      "The puzzles are most of the work; preparing a new calendar and a new set of\n",
      "puzzles each year takes all of my free time for 4-5 months. A lot of effort\n",
      "went into building this thing - I hope you're enjoying playing it as much as I\n",
      "enjoyed making it for you!\n",
      "\n",
      "If you'd like to hang out, I'm @was.tl on Bluesky, @ericwastl@hachyderm.io on\n",
      "Mastodon, and @ericwastl on Twitter.\n",
      "\n",
      "- Eric Wastl\n",
      "\n",
      "\n",
      "\n",
      "\n",
      "\n",
      "\n",
      "\n",
      "\n",
      "\n",
      "\n",
      "\n",
      "\n",
      "\n",
      "\n",
      "\n",
      "\n",
      "\n",
      "\n",
      "\n",
      "\n",
      "\n",
      "\n",
      "\n",
      "\n",
      "\n",
      "\n",
      "\n",
      "\n",
      "\n",
      "\n",
      "\n",
      "\n",
      "\n",
      "\n",
      "\n",
      "\n",
      "\n",
      "\n",
      "\n",
      "\n",
      "\n",
      "\n",
      "\n",
      "\n",
      "\n",
      "\n",
      "\n",
      "\n",
      "\n",
      "\n",
      "-->\n",
      "<body>\n",
      "<header><div><h1 class=\"title-global\"><a href=\"/\">Advent of Code</a></h1><nav><ul><li><a href=\"/2024/about\">[About]</a></li><li><a href=\"/2024/events\">[Events]</a></li><li><a href=\"https://cottonbureau.com/people/advent-of-code\" target=\"_blank\">[Shop]</a></li><li><a href=\"/2024/settings\">[Settings]</a></li><li><a href=\"/2024/auth/logout\">[Log Out]</a></li></ul></nav><div class=\"user\">mirror12k <span class=\"star-count\">22*</span></div></div><div><h1 class=\"title-event\">&nbsp;&nbsp;&nbsp;<span class=\"title-event-wrap\">var y=</span><a href=\"/2024\">2024</a><span class=\"title-event-wrap\">;</span></h1><nav><ul><li><a href=\"/2024\">[Calendar]</a></li><li><a href=\"/2024/support\">[AoC++]</a></li><li><a href=\"/2024/sponsors\">[Sponsors]</a></li><li><a href=\"/2024/leaderboard\">[Leaderboard]</a></li><li><a href=\"/2024/stats\">[Stats]</a></li></ul></nav></div></header>\n",
      "\n",
      "<div id=\"sidebar\">\n",
      "<div id=\"sponsor\"><div class=\"quiet\">Our <a href=\"/2024/sponsors\">sponsors</a> help make Advent of Code possible:</div><div class=\"sponsor\"><a href=\"/2024/sponsors/redirect?url=https%3A%2F%2Fwww%2Eedgedb%2Ecom%2F\" target=\"_blank\" onclick=\"if(ga)ga('send','event','sponsor','sidebar',this.href);\" rel=\"noopener\">EdgeDB</a> - Postgres layer with mixins, polymorphism, hierarchical queries.</div></div>\n",
      "</div><!--/sidebar-->\n",
      "\n",
      "<main>\n",
      "<article><p>That's the right answer!  You are <span class=\"day-success\">one gold star</span> closer to finding the Chief Historian.</p><p>You have completed Day 11! You can <span class=\"share\">[Share<span class=\"share-content\">on\n",
      "  <a href=\"https://bsky.app/intent/compose?text=I+just+completed+%22Plutonian+Pebbles%22+%2D+Day+11+%2D+Advent+of+Code+2024+%23AdventOfCode+https%3A%2F%2Fadventofcode%2Ecom%2F2024%2Fday%2F11\" target=\"_blank\">Bluesky</a>\n",
      "  <a href=\"https://twitter.com/intent/tweet?text=I+just+completed+%22Plutonian+Pebbles%22+%2D+Day+11+%2D+Advent+of+Code+2024&amp;url=https%3A%2F%2Fadventofcode%2Ecom%2F2024%2Fday%2F11&amp;related=ericwastl&amp;hashtags=AdventOfCode\" target=\"_blank\">Twitter</a>\n",
      "  <a href=\"javascript:void(0);\" onclick=\"var ms; try{ms=localStorage.getItem('mastodon.server')}finally{} if(typeof ms!=='string')ms=''; ms=prompt('Mastodon Server?',ms); if(typeof ms==='string' && ms.length){this.href='https://'+ms+'/share?text=I+just+completed+%22Plutonian+Pebbles%22+%2D+Day+11+%2D+Advent+of+Code+2024+%23AdventOfCode+https%3A%2F%2Fadventofcode%2Ecom%2F2024%2Fday%2F11';try{localStorage.setItem('mastodon.server',ms);}finally{}}else{return false;}\" target=\"_blank\">Mastodon</a\n",
      "></span>]</span> this victory or <a href=\"/2024\">[Return to Your Advent Calendar]</a>.</p></article>\n",
      "</main>\n",
      "\n",
      "<!-- ga -->\n",
      "<script>\n",
      "(function(i,s,o,g,r,a,m){i['GoogleAnalyticsObject']=r;i[r]=i[r]||function(){\n",
      "(i[r].q=i[r].q||[]).push(arguments)},i[r].l=1*new Date();a=s.createElement(o),\n",
      "m=s.getElementsByTagName(o)[0];a.async=1;a.src=g;m.parentNode.insertBefore(a,m)\n",
      "})(window,document,'script','//www.google-analytics.com/analytics.js','ga');\n",
      "ga('create', 'UA-69522494-1', 'auto');\n",
      "ga('set', 'anonymizeIp', true);\n",
      "ga('send', 'pageview');\n",
      "</script>\n",
      "<!-- /ga -->\n",
      "</body>\n",
      "</html>\n"
     ]
    },
    {
     "data": {
      "text/plain": [
       "1"
      ]
     },
     "execution_count": 22,
     "metadata": {},
     "output_type": "execute_result"
    }
   ],
   "source": [
    "say post_answer('2024/day/11/answer', 2, $res); # 234568186890978"
   ]
  },
  {
   "cell_type": "code",
   "execution_count": null,
   "id": "f14ae98e-049b-411e-9007-ddaaea839313",
   "metadata": {},
   "outputs": [],
   "source": []
  }
 ],
 "metadata": {
  "kernelspec": {
   "display_name": "IPerl 0.012",
   "language": "perl",
   "name": "iperl"
  },
  "language_info": {
   "file_extension": ".pl",
   "mimetype": "text/x-perl",
   "name": "perl",
   "version": "5.34.0"
  }
 },
 "nbformat": 4,
 "nbformat_minor": 5
}
