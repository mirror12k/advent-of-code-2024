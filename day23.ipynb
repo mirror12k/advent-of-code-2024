{
 "cells": [
  {
   "cell_type": "code",
   "execution_count": 1,
   "id": "2fe26a71-84fd-494b-a45e-46fbc1efbf95",
   "metadata": {},
   "outputs": [
    {
     "data": {
      "text/plain": [
       "1"
      ]
     },
     "execution_count": 1,
     "metadata": {},
     "output_type": "execute_result"
    }
   ],
   "source": [
    "#!/usr/bin/env perl\n",
    "use strict;\n",
    "use warnings;\n",
    "use feature qw/ say current_sub state /;\n",
    "use Data::Dumper;\n",
    "use lib '.';\n",
    "use toolkit;\n",
    "use graphql;\n",
    "use adventofcode;\n",
    "\n",
    "$Data::Dumper::Sortkeys = 1;"
   ]
  },
  {
   "cell_type": "code",
   "execution_count": 2,
   "id": "166d8c78-1954-405e-b884-7c9283496be2",
   "metadata": {},
   "outputs": [
    {
     "data": {
      "text/plain": [
       "\n",
       "kh-tc\n",
       "qp-kh\n",
       "de-cg\n",
       "ka-co\n",
       "yn-aq\n",
       "qp-ub\n",
       "cg-tb\n",
       "vc-aq\n",
       "tb-ka\n",
       "wh-tc\n",
       "yn-cg\n",
       "kh-ub\n",
       "ta-co\n",
       "de-co\n",
       "tc-td\n",
       "tb-wq\n",
       "wh-td\n",
       "ta-ka\n",
       "td-qp\n",
       "aq-cg\n",
       "wq-ub\n",
       "ub-vc\n",
       "de-ta\n",
       "wq-aq\n",
       "wq-vc\n",
       "wh-yn\n",
       "ka-de\n",
       "kh-ta\n",
       "co-tc\n",
       "wh-qp\n",
       "tb-vc\n",
       "td-yn"
      ]
     },
     "execution_count": 2,
     "metadata": {},
     "output_type": "execute_result"
    }
   ],
   "source": [
    "my $practice_input = qq/\n",
    "kh-tc\n",
    "qp-kh\n",
    "de-cg\n",
    "ka-co\n",
    "yn-aq\n",
    "qp-ub\n",
    "cg-tb\n",
    "vc-aq\n",
    "tb-ka\n",
    "wh-tc\n",
    "yn-cg\n",
    "kh-ub\n",
    "ta-co\n",
    "de-co\n",
    "tc-td\n",
    "tb-wq\n",
    "wh-td\n",
    "ta-ka\n",
    "td-qp\n",
    "aq-cg\n",
    "wq-ub\n",
    "ub-vc\n",
    "de-ta\n",
    "wq-aq\n",
    "wq-vc\n",
    "wh-yn\n",
    "ka-de\n",
    "kh-ta\n",
    "co-tc\n",
    "wh-qp\n",
    "tb-vc\n",
    "td-yn/;"
   ]
  },
  {
   "cell_type": "code",
   "execution_count": 44,
   "id": "378c145f-4cc9-4079-9975-632ce7b67239",
   "metadata": {},
   "outputs": [
    {
     "name": "stdout",
     "output_type": "stream",
     "text": [
      "$VAR1 = 7;\n",
      "\n",
      "[time] 0 seconds\n"
     ]
    },
    {
     "data": {
      "text/plain": [
       "0"
      ]
     },
     "execution_count": 44,
     "metadata": {},
     "output_type": "execute_result"
    },
    {
     "ename": "Warning",
     "evalue": "Subroutine route_find redefined at reply input line 1.\n\nSubroutine process_day23_part1 redefined at reply input line 21.\n",
     "output_type": "error",
     "traceback": [
      "Subroutine route_find redefined at reply input line 1.\n\nSubroutine process_day23_part1 redefined at reply input line 21.\n"
     ]
    }
   ],
   "source": [
    "sub route_find {\n",
    "    my ($map, $start, $end, $steps) = @_;\n",
    "    my %connections = %$map;\n",
    "\n",
    "    my @paths = { path => [ $start ], p => $start };\n",
    "    foreach (1 .. $steps) {\n",
    "        @paths = map {\n",
    "            my $path = $_;\n",
    "                map { { path => [ @{$path->{path}}, $_ ], p => $_ } }\n",
    "                @{$connections{$path->{p}}}\n",
    "        }\n",
    "        @paths;\n",
    "    }\n",
    "\n",
    "    return\n",
    "        map $_->{path},\n",
    "        grep $_->{p} eq $end,\n",
    "        @paths;\n",
    "}\n",
    "\n",
    "sub process_day23_part1 {\n",
    "    my ($input) = @_;\n",
    "    my @pairs = grep $_, split \"\\n\", $input;\n",
    "    my %connections;\n",
    "    foreach (@pairs) {\n",
    "        my ($from, $to) = split '-';\n",
    "        push @{$connections{$from}}, $to;\n",
    "        push @{$connections{$to}}, $from;\n",
    "    }\n",
    "\n",
    "    my @tri_loops =\n",
    "        uniq\n",
    "        map { join ',', sort @{$_}[1 .. 3] }\n",
    "        map route_find(\\%connections, $_, $_, 3),\n",
    "        keys %connections;\n",
    "    @tri_loops = sort @tri_loops;\n",
    "\n",
    "        scalar\n",
    "        grep /\\bt/,\n",
    "        @tri_loops;\n",
    "}\n",
    "\n",
    "timer sub {\n",
    "    say Dumper process_day23_part1($practice_input);\n",
    "    # confirm process_day23_part1($practice_input), 7;\n",
    "}"
   ]
  },
  {
   "cell_type": "code",
   "execution_count": 48,
   "id": "8c260da6-5d48-47a2-8fc5-6d3c4ecaef2f",
   "metadata": {},
   "outputs": [
    {
     "name": "stdout",
     "output_type": "stream",
     "text": [
      "$VAR1 = 1151;\n",
      "\n",
      "confirmed: 1151\n",
      "[time] 3 seconds\n"
     ]
    },
    {
     "data": {
      "text/plain": [
       "3"
      ]
     },
     "execution_count": 48,
     "metadata": {},
     "output_type": "execute_result"
    }
   ],
   "source": [
    "my $res;\n",
    "timer sub {\n",
    "    my $input = get_challenge('2024/day/23/input');\n",
    "    $res = process_day23_part1($input);\n",
    "    say Dumper $res;\n",
    "    confirm $res, 1151;\n",
    "};"
   ]
  },
  {
   "cell_type": "code",
   "execution_count": 47,
   "id": "c33826c5-481d-4267-b9f1-cd7e32214401",
   "metadata": {},
   "outputs": [
    {
     "name": "stdout",
     "output_type": "stream",
     "text": [
      "<!DOCTYPE html>\n",
      "<html lang=\"en-us\">\n",
      "<head>\n",
      "<meta charset=\"utf-8\"/>\n",
      "<title>Day 23 - Advent of Code 2024</title>\n",
      "<link rel=\"stylesheet\" type=\"text/css\" href=\"/static/style.css?31\"/>\n",
      "<link rel=\"stylesheet alternate\" type=\"text/css\" href=\"/static/highcontrast.css?1\" title=\"High Contrast\"/>\n",
      "<link rel=\"shortcut icon\" href=\"/favicon.png\"/>\n",
      "<script>window.addEventListener('click', function(e,s,r){if(e.target.nodeName==='CODE'&&e.detail===3){s=window.getSelection();s.removeAllRanges();r=document.createRange();r.selectNodeContents(e.target);s.addRange(r);}});</script>\n",
      "</head><!--\n",
      "\n",
      "\n",
      "\n",
      "\n",
      "Oh, hello!  Funny seeing you here.\n",
      "\n",
      "I appreciate your enthusiasm, but you aren't going to find much down here.\n",
      "There certainly aren't clues to any of the puzzles.  The best surprises don't\n",
      "even appear in the source until you unlock them for real.\n",
      "\n",
      "Please be careful with automated requests; I'm not a massive company, and I can\n",
      "only take so much traffic.  Please be considerate so that everyone gets to play.\n",
      "\n",
      "If you're curious about how Advent of Code works, it's running on some custom\n",
      "Perl code. Other than a few integrations (auth, analytics, social media), I\n",
      "built the whole thing myself, including the design, animations, prose, and all\n",
      "of the puzzles.\n",
      "\n",
      "The puzzles are most of the work; preparing a new calendar and a new set of\n",
      "puzzles each year takes all of my free time for 4-5 months. A lot of effort\n",
      "went into building this thing - I hope you're enjoying playing it as much as I\n",
      "enjoyed making it for you!\n",
      "\n",
      "If you'd like to hang out, I'm @was.tl on Bluesky, @ericwastl@hachyderm.io on\n",
      "Mastodon, and @ericwastl on Twitter.\n",
      "\n",
      "- Eric Wastl\n",
      "\n",
      "\n",
      "\n",
      "\n",
      "\n",
      "\n",
      "\n",
      "\n",
      "\n",
      "\n",
      "\n",
      "\n",
      "\n",
      "\n",
      "\n",
      "\n",
      "\n",
      "\n",
      "\n",
      "\n",
      "\n",
      "\n",
      "\n",
      "\n",
      "\n",
      "\n",
      "\n",
      "\n",
      "\n",
      "\n",
      "\n",
      "\n",
      "\n",
      "\n",
      "\n",
      "\n",
      "\n",
      "\n",
      "\n",
      "\n",
      "\n",
      "\n",
      "\n",
      "\n",
      "\n",
      "\n",
      "\n",
      "\n",
      "\n",
      "\n",
      "-->\n",
      "<body>\n",
      "<header><div><h1 class=\"title-global\"><a href=\"/\">Advent of Code</a></h1><nav><ul><li><a href=\"/2024/about\">[About]</a></li><li><a href=\"/2024/events\">[Events]</a></li><li><a href=\"https://cottonbureau.com/people/advent-of-code\" target=\"_blank\">[Shop]</a></li><li><a href=\"/2024/settings\">[Settings]</a></li><li><a href=\"/2024/auth/logout\">[Log Out]</a></li></ul></nav><div class=\"user\">mirror12k <span class=\"star-count\">45*</span></div></div><div><h1 class=\"title-event\">&nbsp;&nbsp;<span class=\"title-event-wrap\">{:year </span><a href=\"/2024\">2024</a><span class=\"title-event-wrap\">}</span></h1><nav><ul><li><a href=\"/2024\">[Calendar]</a></li><li><a href=\"/2024/support\">[AoC++]</a></li><li><a href=\"/2024/sponsors\">[Sponsors]</a></li><li><a href=\"/2024/leaderboard\">[Leaderboard]</a></li><li><a href=\"/2024/stats\">[Stats]</a></li></ul></nav></div></header>\n",
      "\n",
      "<div id=\"sidebar\">\n",
      "<div id=\"sponsor\"><div class=\"quiet\">Our <a href=\"/2024/sponsors\">sponsors</a> help make Advent of Code possible:</div><div class=\"sponsor\"><a href=\"/2024/sponsors/redirect?url=https%3A%2F%2Fwww%2Eaccenture%2Ecom%2Fus%2Den%2Findustries%2Fafs%2Dindex\" target=\"_blank\" onclick=\"if(ga)ga('send','event','sponsor','sidebar',this.href);\" rel=\"noopener\">Accenture Federal Services</a> - Reignite your career and empower mission success. Join us to innovate and simplify complex challenges. We&apos;re hiring software engineers, developers, and more. Refer a friend and earn up to $20K.</div></div>\n",
      "</div><!--/sidebar-->\n",
      "\n",
      "<main>\n",
      "<article><p>That's the right answer!  You are <span class=\"day-success\">one gold star</span> closer to finding the Chief Historian. <a href=\"/2024/day/23#part2\">[Continue to Part Two]</a></p></article>\n",
      "</main>\n",
      "\n",
      "<!-- ga -->\n",
      "<script>\n",
      "(function(i,s,o,g,r,a,m){i['GoogleAnalyticsObject']=r;i[r]=i[r]||function(){\n",
      "(i[r].q=i[r].q||[]).push(arguments)},i[r].l=1*new Date();a=s.createElement(o),\n",
      "m=s.getElementsByTagName(o)[0];a.async=1;a.src=g;m.parentNode.insertBefore(a,m)\n",
      "})(window,document,'script','//www.google-analytics.com/analytics.js','ga');\n",
      "ga('create', 'UA-69522494-1', 'auto');\n",
      "ga('set', 'anonymizeIp', true);\n",
      "ga('send', 'pageview');\n",
      "</script>\n",
      "<!-- /ga -->\n",
      "</body>\n",
      "</html>\n"
     ]
    },
    {
     "data": {
      "text/plain": [
       "1"
      ]
     },
     "execution_count": 47,
     "metadata": {},
     "output_type": "execute_result"
    }
   ],
   "source": [
    "say post_answer('2024/day/23/answer', 1, $res);"
   ]
  },
  {
   "cell_type": "code",
   "execution_count": null,
   "id": "89013540-c355-472e-a0c4-03e423a782b7",
   "metadata": {},
   "outputs": [],
   "source": []
  },
  {
   "cell_type": "code",
   "execution_count": 56,
   "id": "f1f0da75-7e11-4916-bc83-beb392e312b4",
   "metadata": {},
   "outputs": [
    {
     "ename": "Warning",
     "evalue": "Subroutine route_find redefined at reply input line 1.\n\nSubroutine build_connection_table redefined at reply input line 21.\n\nSubroutine find_tri_loops redefined at reply input line 44.\n",
     "output_type": "error",
     "traceback": [
      "Subroutine route_find redefined at reply input line 1.\n\nSubroutine build_connection_table redefined at reply input line 21.\n\nSubroutine find_tri_loops redefined at reply input line 44.\n"
     ]
    }
   ],
   "source": [
    "sub route_find {\n",
    "    my ($map, $start, $end, $steps) = @_;\n",
    "    my %connections = %$map;\n",
    "\n",
    "    my @paths = { path => [ $start ], p => $start };\n",
    "    foreach (1 .. $steps) {\n",
    "        @paths = map {\n",
    "            my $path = $_;\n",
    "                map { { path => [ @{$path->{path}}, $_ ], p => $_ } }\n",
    "                @{$connections{$path->{p}}}\n",
    "        }\n",
    "        @paths;\n",
    "    }\n",
    "\n",
    "    return\n",
    "        map $_->{path},\n",
    "        grep $_->{p} eq $end,\n",
    "        @paths;\n",
    "}\n",
    "\n",
    "sub build_connection_table {\n",
    "    my ($input) = @_;\n",
    "    my @pairs = grep $_, split \"\\n\", $input;\n",
    "    my %connections;\n",
    "    foreach (@pairs) {\n",
    "        my ($from, $to) = split '-';\n",
    "        push @{$connections{$from}}, $to;\n",
    "        push @{$connections{$to}}, $from;\n",
    "    }\n",
    "    return \\%connections;\n",
    "}\n",
    "sub build_nested_connection_table {\n",
    "    my ($input) = @_;\n",
    "    my @pairs = grep $_, split \"\\n\", $input;\n",
    "    my %connections;\n",
    "    foreach (@pairs) {\n",
    "        my ($from, $to) = split '-';\n",
    "        $connections{$from}{$to} = 1;\n",
    "        $connections{$to}{$from} = 1;\n",
    "    }\n",
    "    return \\%connections;\n",
    "}\n",
    "\n",
    "sub find_tri_loops {\n",
    "    my ($input) = @_;\n",
    "    my $connection_table = build_connection_table($input);\n",
    "    my @tri_loops =\n",
    "        uniq\n",
    "        map { join ',', sort @{$_}[1 .. 3] }\n",
    "        map route_find($connection_table, $_, $_, 3),\n",
    "        keys %$connection_table;\n",
    "    @tri_loops = sort @tri_loops;\n",
    "\n",
    "    @tri_loops;\n",
    "}"
   ]
  },
  {
   "cell_type": "code",
   "execution_count": 121,
   "id": "2bf5a35a-7b8f-41ad-a8e6-d69b71076aa5",
   "metadata": {},
   "outputs": [
    {
     "name": "stdout",
     "output_type": "stream",
     "text": [
      "$VAR1 = 'co,de,ka,ta';\n",
      "\n",
      "[time] 0 seconds\n"
     ]
    },
    {
     "data": {
      "text/plain": [
       "0"
      ]
     },
     "execution_count": 121,
     "metadata": {},
     "output_type": "execute_result"
    },
    {
     "ename": "Warning",
     "evalue": "Subroutine find_largest_network_for_key redefined at reply input line 1.\n\nSubroutine process_day23_part2 redefined at reply input line 28.\n",
     "output_type": "error",
     "traceback": [
      "Subroutine find_largest_network_for_key redefined at reply input line 1.\n\nSubroutine process_day23_part2 redefined at reply input line 28.\n"
     ]
    }
   ],
   "source": [
    "sub find_largest_network_for_key {\n",
    "    my ($connection_table) = @_;\n",
    "    my %con = %$connection_table;\n",
    "\n",
    "    my @groups =\n",
    "        map { my $key = $_; map [ $key, $_ ], keys %{$con{$key}} }\n",
    "        keys %con;\n",
    "    my $size = 2;\n",
    "    while (@groups > 0) {\n",
    "        appendfile('.exp/day23_networks', \"\\ncheckpoint $size:\\n\" . scalar(@groups) . \"\\n\");\n",
    "        $size++;\n",
    "        my @next =\n",
    "            # uniqueness\n",
    "            map [ split ',' ], uniq map { join ',', sort @$_ }\n",
    "            # group expansion\n",
    "            map {\n",
    "                my $group = $_;\n",
    "                map { [ @$group, $_ ] }\n",
    "                grep { my $key = $_; all sub { exists $con{$key}{$_} }, @$group }\n",
    "                keys %{$con{$group->[-1]}}\n",
    "            } @groups;\n",
    "        return map { join ',', @$_ } @groups if @next == 0;\n",
    "        @groups = @next;\n",
    "    }\n",
    "\n",
    "    die \"should never occur\";\n",
    "}\n",
    "sub process_day23_part2 {\n",
    "    my ($input) = @_;\n",
    "    my %con = %{build_nested_connection_table($input)};\n",
    "    my ($largest) = find_largest_network_for_key(\\%con);\n",
    "    return $largest;\n",
    "}\n",
    "\n",
    "timer sub {\n",
    "    say Dumper process_day23_part2($practice_input);\n",
    "    # my $input = get_challenge('2024/day/23/input');\n",
    "    # say Dumper process_day23_part2($input);\n",
    "    # confirm process_day23_part2($practice_input), 37327623;\n",
    "}"
   ]
  },
  {
   "cell_type": "code",
   "execution_count": 122,
   "id": "60fea0dd-9a4c-4d79-bf2e-06dd9af8678a",
   "metadata": {},
   "outputs": [
    {
     "name": "stdout",
     "output_type": "stream",
     "text": [
      "$VAR1 = 'ar,cd,hl,iw,jm,ku,qo,rz,vo,xe,xm,xv,ys';\n",
      "\n",
      "[time] 19 seconds\n"
     ]
    },
    {
     "data": {
      "text/plain": [
       "19"
      ]
     },
     "execution_count": 122,
     "metadata": {},
     "output_type": "execute_result"
    }
   ],
   "source": [
    "my $res;\n",
    "timer sub {\n",
    "    my $input = get_challenge('2024/day/23/input');\n",
    "    $res = process_day23_part2($input);\n",
    "    say Dumper $res;\n",
    "    # confirm $res, 19847565303;\n",
    "};"
   ]
  },
  {
   "cell_type": "code",
   "execution_count": 124,
   "id": "10a2a5f7-86d3-495f-bcbe-c6c66f349aaf",
   "metadata": {},
   "outputs": [
    {
     "name": "stdout",
     "output_type": "stream",
     "text": [
      "<!DOCTYPE html>\n",
      "<html lang=\"en-us\">\n",
      "<head>\n",
      "<meta charset=\"utf-8\"/>\n",
      "<title>Day 23 - Advent of Code 2024</title>\n",
      "<link rel=\"stylesheet\" type=\"text/css\" href=\"/static/style.css?31\"/>\n",
      "<link rel=\"stylesheet alternate\" type=\"text/css\" href=\"/static/highcontrast.css?1\" title=\"High Contrast\"/>\n",
      "<link rel=\"shortcut icon\" href=\"/favicon.png\"/>\n",
      "<script>window.addEventListener('click', function(e,s,r){if(e.target.nodeName==='CODE'&&e.detail===3){s=window.getSelection();s.removeAllRanges();r=document.createRange();r.selectNodeContents(e.target);s.addRange(r);}});</script>\n",
      "</head><!--\n",
      "\n",
      "\n",
      "\n",
      "\n",
      "Oh, hello!  Funny seeing you here.\n",
      "\n",
      "I appreciate your enthusiasm, but you aren't going to find much down here.\n",
      "There certainly aren't clues to any of the puzzles.  The best surprises don't\n",
      "even appear in the source until you unlock them for real.\n",
      "\n",
      "Please be careful with automated requests; I'm not a massive company, and I can\n",
      "only take so much traffic.  Please be considerate so that everyone gets to play.\n",
      "\n",
      "If you're curious about how Advent of Code works, it's running on some custom\n",
      "Perl code. Other than a few integrations (auth, analytics, social media), I\n",
      "built the whole thing myself, including the design, animations, prose, and all\n",
      "of the puzzles.\n",
      "\n",
      "The puzzles are most of the work; preparing a new calendar and a new set of\n",
      "puzzles each year takes all of my free time for 4-5 months. A lot of effort\n",
      "went into building this thing - I hope you're enjoying playing it as much as I\n",
      "enjoyed making it for you!\n",
      "\n",
      "If you'd like to hang out, I'm @was.tl on Bluesky, @ericwastl@hachyderm.io on\n",
      "Mastodon, and @ericwastl on Twitter.\n",
      "\n",
      "- Eric Wastl\n",
      "\n",
      "\n",
      "\n",
      "\n",
      "\n",
      "\n",
      "\n",
      "\n",
      "\n",
      "\n",
      "\n",
      "\n",
      "\n",
      "\n",
      "\n",
      "\n",
      "\n",
      "\n",
      "\n",
      "\n",
      "\n",
      "\n",
      "\n",
      "\n",
      "\n",
      "\n",
      "\n",
      "\n",
      "\n",
      "\n",
      "\n",
      "\n",
      "\n",
      "\n",
      "\n",
      "\n",
      "\n",
      "\n",
      "\n",
      "\n",
      "\n",
      "\n",
      "\n",
      "\n",
      "\n",
      "\n",
      "\n",
      "\n",
      "\n",
      "\n",
      "-->\n",
      "<body>\n",
      "<header><div><h1 class=\"title-global\"><a href=\"/\">Advent of Code</a></h1><nav><ul><li><a href=\"/2024/about\">[About]</a></li><li><a href=\"/2024/events\">[Events]</a></li><li><a href=\"https://cottonbureau.com/people/advent-of-code\" target=\"_blank\">[Shop]</a></li><li><a href=\"/2024/settings\">[Settings]</a></li><li><a href=\"/2024/auth/logout\">[Log Out]</a></li></ul></nav><div class=\"user\">mirror12k <span class=\"star-count\">46*</span></div></div><div><h1 class=\"title-event\">&nbsp;&nbsp;&nbsp;&nbsp;&nbsp;&nbsp;&nbsp;&nbsp;&nbsp;&nbsp;<span class=\"title-event-wrap\"></span><a href=\"/2024\">2024</a><span class=\"title-event-wrap\"></span></h1><nav><ul><li><a href=\"/2024\">[Calendar]</a></li><li><a href=\"/2024/support\">[AoC++]</a></li><li><a href=\"/2024/sponsors\">[Sponsors]</a></li><li><a href=\"/2024/leaderboard\">[Leaderboard]</a></li><li><a href=\"/2024/stats\">[Stats]</a></li></ul></nav></div></header>\n",
      "\n",
      "<div id=\"sidebar\">\n",
      "<div id=\"sponsor\"><div class=\"quiet\">Our <a href=\"/2024/sponsors\">sponsors</a> help make Advent of Code possible:</div><div class=\"sponsor\"><a href=\"/2024/sponsors/redirect?url=https%3A%2F%2Flinks%2Ezerotomastery%2Eio%2Faoc2024\" target=\"_blank\" onclick=\"if(ga)ga('send','event','sponsor','sidebar',this.href);\" rel=\"noopener\">Zero To Mastery</a> - Ready to upgrade your earning power? If you like AoC, you&apos;ll like our courses built by programmers (not influencers), for programmers. ZTM helps you get a better job, and earn more with one trick: quality, not gimmicks.</div></div>\n",
      "</div><!--/sidebar-->\n",
      "\n",
      "<main>\n",
      "<article><p>That's the right answer!  You are <span class=\"day-success\">one gold star</span> closer to finding the Chief Historian.</p><p>You have completed Day 23! You can <span class=\"share\">[Share<span class=\"share-content\">on\n",
      "  <a href=\"https://bsky.app/intent/compose?text=I+just+completed+%22LAN+Party%22+%2D+Day+23+%2D+Advent+of+Code+2024+%23AdventOfCode+https%3A%2F%2Fadventofcode%2Ecom%2F2024%2Fday%2F23\" target=\"_blank\">Bluesky</a>\n",
      "  <a href=\"https://twitter.com/intent/tweet?text=I+just+completed+%22LAN+Party%22+%2D+Day+23+%2D+Advent+of+Code+2024&amp;url=https%3A%2F%2Fadventofcode%2Ecom%2F2024%2Fday%2F23&amp;related=ericwastl&amp;hashtags=AdventOfCode\" target=\"_blank\">Twitter</a>\n",
      "  <a href=\"javascript:void(0);\" onclick=\"var ms; try{ms=localStorage.getItem('mastodon.server')}finally{} if(typeof ms!=='string')ms=''; ms=prompt('Mastodon Server?',ms); if(typeof ms==='string' && ms.length){this.href='https://'+ms+'/share?text=I+just+completed+%22LAN+Party%22+%2D+Day+23+%2D+Advent+of+Code+2024+%23AdventOfCode+https%3A%2F%2Fadventofcode%2Ecom%2F2024%2Fday%2F23';try{localStorage.setItem('mastodon.server',ms);}finally{}}else{return false;}\" target=\"_blank\">Mastodon</a\n",
      "></span>]</span> this victory or <a href=\"/2024\">[Return to Your Advent Calendar]</a>.</p></article>\n",
      "</main>\n",
      "\n",
      "<!-- ga -->\n",
      "<script>\n",
      "(function(i,s,o,g,r,a,m){i['GoogleAnalyticsObject']=r;i[r]=i[r]||function(){\n",
      "(i[r].q=i[r].q||[]).push(arguments)},i[r].l=1*new Date();a=s.createElement(o),\n",
      "m=s.getElementsByTagName(o)[0];a.async=1;a.src=g;m.parentNode.insertBefore(a,m)\n",
      "})(window,document,'script','//www.google-analytics.com/analytics.js','ga');\n",
      "ga('create', 'UA-69522494-1', 'auto');\n",
      "ga('set', 'anonymizeIp', true);\n",
      "ga('send', 'pageview');\n",
      "</script>\n",
      "<!-- /ga -->\n",
      "</body>\n",
      "</html>\n"
     ]
    },
    {
     "data": {
      "text/plain": [
       "1"
      ]
     },
     "execution_count": 124,
     "metadata": {},
     "output_type": "execute_result"
    }
   ],
   "source": [
    "say post_answer('2024/day/23/answer', 2, $res);"
   ]
  },
  {
   "cell_type": "code",
   "execution_count": null,
   "id": "ebcd797f-5444-4c4d-a8b5-fff72eb38f33",
   "metadata": {},
   "outputs": [],
   "source": []
  }
 ],
 "metadata": {
  "kernelspec": {
   "display_name": "IPerl 0.012",
   "language": "perl",
   "name": "iperl"
  },
  "language_info": {
   "file_extension": ".pl",
   "mimetype": "text/x-perl",
   "name": "perl",
   "version": "5.34.0"
  }
 },
 "nbformat": 4,
 "nbformat_minor": 5
}
