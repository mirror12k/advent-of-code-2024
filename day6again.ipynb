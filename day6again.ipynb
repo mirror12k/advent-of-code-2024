{
 "cells": [
  {
   "cell_type": "code",
   "execution_count": 1,
   "id": "fffaa584-b048-4ea3-bbbf-9b1ad61e2527",
   "metadata": {},
   "outputs": [
    {
     "data": {
      "text/plain": [
       "1"
      ]
     },
     "execution_count": 1,
     "metadata": {},
     "output_type": "execute_result"
    }
   ],
   "source": [
    "#!/usr/bin/env perl\n",
    "use strict;\n",
    "use warnings;\n",
    "use feature qw/ say /;\n",
    "use Data::Dumper;\n",
    "use lib '.';\n",
    "use toolkit;\n",
    "use graphql;\n",
    "use adventofcode;\n",
    "\n",
    "$Data::Dumper::Sortkeys = 1;"
   ]
  },
  {
   "cell_type": "code",
   "execution_count": 2,
   "id": "a49e6a48-4196-43cf-8666-df55ee7d9a9e",
   "metadata": {},
   "outputs": [
    {
     "data": {
      "text/plain": [
       "\n",
       "....#.....\n",
       ".........#\n",
       "..........\n",
       "..#.......\n",
       ".......#..\n",
       "..........\n",
       ".#..^.....\n",
       "........#.\n",
       "#.........\n",
       "......#...\n"
      ]
     },
     "execution_count": 2,
     "metadata": {},
     "output_type": "execute_result"
    }
   ],
   "source": [
    "my $practice_input = qq/\n",
    "....#.....\n",
    ".........#\n",
    "..........\n",
    "..#.......\n",
    ".......#..\n",
    "..........\n",
    ".#..^.....\n",
    "........#.\n",
    "#.........\n",
    "......#...\n",
    "/;"
   ]
  },
  {
   "cell_type": "code",
   "execution_count": 3,
   "id": "3ea42725-32f2-4f74-b321-f4b6c26e9432",
   "metadata": {},
   "outputs": [
    {
     "name": "stdout",
     "output_type": "stream",
     "text": [
      "\n",
      "....#.....\n",
      "....>---v#\n",
      "....|...|.\n",
      "..#.|...|.\n",
      "..>-+-v#|.\n",
      "..|.|.|.|.\n",
      ".#^-^-+-<.\n",
      ".>----+v#.\n",
      "#^----<|..\n",
      "......#v..\n",
      "\n",
      "loop_count: 6\n"
     ]
    },
    {
     "data": {
      "text/plain": [
       "1"
      ]
     },
     "execution_count": 3,
     "metadata": {},
     "output_type": "execute_result"
    }
   ],
   "source": [
    "my $input = $practice_input;\n",
    "\n",
    "sub sim_step {\n",
    "    my ($input) = @_;\n",
    "    my @shape = shape(parse_2d_map_array($input));\n",
    "    my %states;\n",
    "    my @states_list;\n",
    "    my $is_loop = 0;\n",
    "    while ($input =~ s/\\.([^\\x00]{$shape[1]})\\^/^${1}\\./s\n",
    "            || $input =~ s/#([^\\x00]{$shape[1]})\\^/#${1}>/s\n",
    "            || $input =~ s/>\\./\\.>/s\n",
    "            || $input =~ s/>#/v#/s\n",
    "            || $input =~ s/v([^\\x00]{$shape[1]})\\./\\.${1}v/s\n",
    "            || $input =~ s/v([^\\x00]{$shape[1]})#/<${1}#/s\n",
    "            || $input =~ s/\\.</<\\./s\n",
    "            || $input =~ s/#</#^/s) {\n",
    "        if (exists $states{$input}) {\n",
    "            $is_loop = 1;\n",
    "            last;\n",
    "        }\n",
    "        ($states{$input}) = ();\n",
    "        push @states_list, $input;\n",
    "        # say \"step:\\n\", $input;\n",
    "    }\n",
    "    return $is_loop, @states_list;\n",
    "    # return $is_loop;\n",
    "}\n",
    "\n",
    "sub quick_sim_step {\n",
    "    my ($input) = @_;\n",
    "    my @shape = shape(parse_2d_map_array($input));\n",
    "    my %states;\n",
    "    my @states_list;\n",
    "    my $is_loop = 0;\n",
    "    my $row = \"[\\x00-\\xff]{$shape[1]}\";\n",
    "    while (\n",
    "            $input =~ s/>(\\.*)([#O])/${1}v${2}/s\n",
    "            || $input =~ s/v($row(?:\\.$row)*)\\.($row)([#O])/\\.${1}<${2}${3}/s\n",
    "            || $input =~ s/([#O])(\\.*)</${1}^${2}/s\n",
    "            || $input =~ s/([#O])($row)\\.($row(\\.$row)*)\\^/${1}${2}>${3}\\./s\n",
    "\n",
    "            || $input =~ s/>(\\.+)/${1}>/s\n",
    "            || $input =~ s/v($row(?:\\.$row)*)\\./\\.${1}v/s\n",
    "            || $input =~ s/v($row)([#O])/<${1}${2}/s\n",
    "            || $input =~ s/([#O])($row)\\^/${1}${2}>/s\n",
    "            || $input =~ s/(\\.+)</<${1}/s\n",
    "            || $input =~ s/\\.($row(\\.$row)*)\\^/^${1}\\./s\n",
    "            ) {\n",
    "        if (exists $states{$input}) {\n",
    "            $is_loop = 1;\n",
    "            last;\n",
    "        }\n",
    "        ($states{$input}) = ();\n",
    "        push @states_list, $input;\n",
    "        # say \"step:\\n\", $input;\n",
    "    }\n",
    "    return $is_loop, @states_list;\n",
    "    # return $is_loop;\n",
    "}\n",
    "\n",
    "sub add_obstacle {\n",
    "    my ($input) = @_;\n",
    "    my @shape = shape(parse_2d_map_array($input));\n",
    "    if ($input =~ s/\\.([^\\x00]{$shape[1]})\\^/O${1}^/s\n",
    "            || $input =~ s/>\\./>O/s\n",
    "            || $input =~ s/v([^\\x00]{$shape[1]})\\./v${1}O/s\n",
    "            || $input =~ s/\\.</O</s) {\n",
    "        return $input;\n",
    "    } else {\n",
    "        return;\n",
    "    }\n",
    "}\n",
    "\n",
    "sub reset_caret_position {\n",
    "    my ($input, $modified_input) = @_;\n",
    "    return unless defined $modified_input;\n",
    "    \n",
    "    my $index = index $input, '^';\n",
    "    die \"wat: $index\" if $index < 0;\n",
    "    $modified_input =~ s/[<>^v]/./g;\n",
    "    substr($modified_input, $index, 1) = '^';\n",
    "    return $modified_input;\n",
    "}\n",
    "\n",
    "\n",
    "sub or_product { my $s = ''; foreach (@_) { $s |= $_ } $s }\n",
    "sub swap_dots { $_[0] =~ s/\\./-/gr }\n",
    "sub swap_vertical_dots {\n",
    "    my ($s, $row_length) = @_;\n",
    "    return join '', map { length > 1 ? $_ : y/-\\./+|/r } grep length > 0, unpack(\"(A${row_length}A1)*\", $s);\n",
    "}\n",
    "\n",
    "sub render_steps {\n",
    "    my ($map) = @_;\n",
    "    my ($is_loop, @map_steps) = quick_sim_step($map);\n",
    "    \n",
    "    my @shape = shape(parse_2d_map_array($map));\n",
    "    my $row = \"[\\x00-\\xff]{$shape[1]}\";\n",
    "    \n",
    "    my $combined_map = or_product(map { s/\\./\\x00/grs } $map, @map_steps) =~ s/\\x00/./grs;\n",
    "    $combined_map =~ s/>([\\.>]+)v/'>' . swap_dots($1) . 'v'/ge;\n",
    "    $combined_map =~ s/\\^([\\.\\^<]+)</'^' . swap_dots($1) . '<'/ge;\n",
    "    while ($combined_map =~ s/v($row(?:[\\.\\-]$row)+)(<|v)/'v' . swap_vertical_dots($1, $shape[1]) . $2/ge) {}\n",
    "    while ($combined_map =~ s/(>|\\^)($row(?:[\\.\\-]$row)+)\\^/$1 . swap_vertical_dots($2, $shape[1]) . '^'/ge) {}\n",
    "\n",
    "    return $combined_map;\n",
    "}\n",
    "\n",
    "my ($is_loop, @steps) = sim_step($input);\n",
    "my @found_loops;\n",
    "foreach (@steps) {\n",
    "    if (my $modified_map = reset_caret_position($input, add_obstacle($_))) {\n",
    "        # say \"can add obstacle:\\n$modified_map\";\n",
    "        my ($is_another_loop) = quick_sim_step($modified_map);\n",
    "        if ($is_another_loop) {\n",
    "            # say \"possible loop:\\n$modified_map\";\n",
    "            push @found_loops, $modified_map;\n",
    "            # $loop_count++;\n",
    "        }\n",
    "    }\n",
    "}\n",
    "# say \"loop:\\n $_\\n\", render_steps($_) foreach uniq @found_loops;\n",
    "my $loop_count = uniq @found_loops;\n",
    "say render_steps($input);\n",
    "say \"loop_count: $loop_count\";\n",
    "# say Dumper [ quick_sim_step($input) ];\n"
   ]
  },
  {
   "cell_type": "code",
   "execution_count": 4,
   "id": "f976fe29-48d5-4670-9642-1a4713364f75",
   "metadata": {},
   "outputs": [],
   "source": [
    "my $input = get_challenge('2024/day/6/input');\n"
   ]
  },
  {
   "cell_type": "code",
   "execution_count": 5,
   "id": "69521ef6-4cc2-4b35-9549-224e3731d89d",
   "metadata": {},
   "outputs": [
    {
     "name": "stdout",
     "output_type": "stream",
     "text": [
      "time: 16\n"
     ]
    },
    {
     "data": {
      "text/plain": [
       "1"
      ]
     },
     "execution_count": 5,
     "metadata": {},
     "output_type": "execute_result"
    }
   ],
   "source": [
    "my $start = time;\n",
    "my ($is_loop, @steps) = sim_step($input);\n",
    "say \"time: \", time - $start;"
   ]
  },
  {
   "cell_type": "code",
   "execution_count": 6,
   "id": "331c4191-5a1d-4e83-9690-990a02fe55da",
   "metadata": {},
   "outputs": [
    {
     "name": "stdout",
     "output_type": "stream",
     "text": [
      "time: 594\n",
      "loop_count: 2008\n"
     ]
    },
    {
     "data": {
      "text/plain": [
       "1"
      ]
     },
     "execution_count": 6,
     "metadata": {},
     "output_type": "execute_result"
    }
   ],
   "source": [
    "my $start = time;\n",
    "\n",
    "my @found_loops = ();\n",
    "my @found_not_loops = ();\n",
    "foreach (@steps) {\n",
    "    if (my $modified_map = reset_caret_position($input, add_obstacle($_))) {\n",
    "        my ($is_another_loop) = quick_sim_step($modified_map);\n",
    "        if ($is_another_loop) {\n",
    "            push @found_loops, $modified_map;\n",
    "        } else {\n",
    "            push @found_not_loops, $modified_map;\n",
    "        }\n",
    "    }\n",
    "}\n",
    "my $loop_count = uniq @found_loops;\n",
    "\n",
    "# say Dumper [ quick_sim_step($input) ];\n",
    "say \"time: \", time - $start;\n",
    "say \"loop_count: $loop_count\";\n",
    "# writefile('.exp/day6_steps', join \"\\n\\n\\n\", @steps);\n",
    "# my $res = process_day6_part1($input);"
   ]
  },
  {
   "cell_type": "code",
   "execution_count": 7,
   "id": "f27bd6a8-b3ca-4565-894a-a039a01389ad",
   "metadata": {},
   "outputs": [],
   "source": [
    "\n",
    "sub appendfile { local $/; my $file = IO::File->new($_[0], 'a'); $file->print($_[1]) }\n",
    "\n",
    "my @unique_loops = @found_loops;\n",
    "writefile('.exp/day6_loops_rendered', '');\n",
    "for my $i (0 .. $#unique_loops) {\n",
    "    appendfile('.exp/day6_loops_rendered', \"\\n\\n>known loop [$i]:\\n\\n\" . render_steps($unique_loops[$i]));\n",
    "}\n",
    "\n",
    "writefile('.exp/day6_notloops_rendered', '');\n",
    "for my $i (0 .. $#found_not_loops) {\n",
    "    appendfile('.exp/day6_notloops_rendered', \"\\n\\n>known loop [$i]:\\n\\n\" . render_steps($found_not_loops[$i]));\n",
    "}"
   ]
  },
  {
   "cell_type": "code",
   "execution_count": 11,
   "id": "9a66c961-9811-4628-8201-15100fb953a9",
   "metadata": {},
   "outputs": [
    {
     "name": "stdout",
     "output_type": "stream",
     "text": [
      "0\n"
     ]
    },
    {
     "data": {
      "text/plain": [
       "1"
      ]
     },
     "execution_count": 11,
     "metadata": {},
     "output_type": "execute_result"
    }
   ],
   "source": []
  },
  {
   "cell_type": "code",
   "execution_count": null,
   "id": "b47b7ccd-2aeb-4865-8531-0e2c5758ccd2",
   "metadata": {},
   "outputs": [],
   "source": []
  },
  {
   "cell_type": "code",
   "execution_count": 25,
   "id": "51c7a637-d7b0-4ca0-a868-317f14413542",
   "metadata": {},
   "outputs": [
    {
     "name": "stdout",
     "output_type": "stream",
     "text": [
      "time: 307\n",
      "loop_count: 2258\n"
     ]
    },
    {
     "data": {
      "text/plain": [
       "1"
      ]
     },
     "execution_count": 25,
     "metadata": {},
     "output_type": "execute_result"
    }
   ],
   "source": [
    "my $start = time;\n",
    "my $loop_count = 0;\n",
    "foreach (@steps) {\n",
    "    if (my $modified_map = add_obstacle($_)) {\n",
    "        # say \"can add obstacle:\\n$modified_map\";\n",
    "        my ($is_another_loop) = quick_sim_step($modified_map);\n",
    "        if ($is_another_loop) {\n",
    "            # say \"possible loop:\\n$modified_map\";\n",
    "            $loop_count++;\n",
    "        }\n",
    "    }\n",
    "}\n",
    "say \"time: \", time - $start;\n",
    "say \"loop_count: $loop_count\";\n",
    "# writefile('.exp/day6_steps', join \"\\n\\n\\n\", @steps);\n",
    "# my $res = process_day6_part1($input);"
   ]
  },
  {
   "cell_type": "code",
   "execution_count": 7,
   "id": "0f9eceb1-f18e-4177-bb9f-d034c15b42d1",
   "metadata": {},
   "outputs": [
    {
     "name": "stdout",
     "output_type": "stream",
     "text": [
      "<!DOCTYPE html>\n",
      "<html lang=\"en-us\">\n",
      "<head>\n",
      "<meta charset=\"utf-8\"/>\n",
      "<title>Day 6 - Advent of Code 2024</title>\n",
      "<link rel=\"stylesheet\" type=\"text/css\" href=\"/static/style.css?31\"/>\n",
      "<link rel=\"stylesheet alternate\" type=\"text/css\" href=\"/static/highcontrast.css?1\" title=\"High Contrast\"/>\n",
      "<link rel=\"shortcut icon\" href=\"/favicon.png\"/>\n",
      "<script>window.addEventListener('click', function(e,s,r){if(e.target.nodeName==='CODE'&&e.detail===3){s=window.getSelection();s.removeAllRanges();r=document.createRange();r.selectNodeContents(e.target);s.addRange(r);}});</script>\n",
      "</head><!--\n",
      "\n",
      "\n",
      "\n",
      "\n",
      "Oh, hello!  Funny seeing you here.\n",
      "\n",
      "I appreciate your enthusiasm, but you aren't going to find much down here.\n",
      "There certainly aren't clues to any of the puzzles.  The best surprises don't\n",
      "even appear in the source until you unlock them for real.\n",
      "\n",
      "Please be careful with automated requests; I'm not a massive company, and I can\n",
      "only take so much traffic.  Please be considerate so that everyone gets to play.\n",
      "\n",
      "If you're curious about how Advent of Code works, it's running on some custom\n",
      "Perl code. Other than a few integrations (auth, analytics, social media), I\n",
      "built the whole thing myself, including the design, animations, prose, and all\n",
      "of the puzzles.\n",
      "\n",
      "The puzzles are most of the work; preparing a new calendar and a new set of\n",
      "puzzles each year takes all of my free time for 4-5 months. A lot of effort\n",
      "went into building this thing - I hope you're enjoying playing it as much as I\n",
      "enjoyed making it for you!\n",
      "\n",
      "If you'd like to hang out, I'm @was.tl on Bluesky, @ericwastl@hachyderm.io on\n",
      "Mastodon, and @ericwastl on Twitter.\n",
      "\n",
      "- Eric Wastl\n",
      "\n",
      "\n",
      "\n",
      "\n",
      "\n",
      "\n",
      "\n",
      "\n",
      "\n",
      "\n",
      "\n",
      "\n",
      "\n",
      "\n",
      "\n",
      "\n",
      "\n",
      "\n",
      "\n",
      "\n",
      "\n",
      "\n",
      "\n",
      "\n",
      "\n",
      "\n",
      "\n",
      "\n",
      "\n",
      "\n",
      "\n",
      "\n",
      "\n",
      "\n",
      "\n",
      "\n",
      "\n",
      "\n",
      "\n",
      "\n",
      "\n",
      "\n",
      "\n",
      "\n",
      "\n",
      "\n",
      "\n",
      "\n",
      "\n",
      "\n",
      "-->\n",
      "<body>\n",
      "<header><div><h1 class=\"title-global\"><a href=\"/\">Advent of Code</a></h1><nav><ul><li><a href=\"/2024/about\">[About]</a></li><li><a href=\"/2024/events\">[Events]</a></li><li><a href=\"https://cottonbureau.com/people/advent-of-code\" target=\"_blank\">[Shop]</a></li><li><a href=\"/2024/settings\">[Settings]</a></li><li><a href=\"/2024/auth/logout\">[Log Out]</a></li></ul></nav><div class=\"user\">mirror12k <span class=\"star-count\">12*</span></div></div><div><h1 class=\"title-event\">&nbsp;&nbsp;&nbsp;<span class=\"title-event-wrap\">var y=</span><a href=\"/2024\">2024</a><span class=\"title-event-wrap\">;</span></h1><nav><ul><li><a href=\"/2024\">[Calendar]</a></li><li><a href=\"/2024/support\">[AoC++]</a></li><li><a href=\"/2024/sponsors\">[Sponsors]</a></li><li><a href=\"/2024/leaderboard\">[Leaderboard]</a></li><li><a href=\"/2024/stats\">[Stats]</a></li></ul></nav></div></header>\n",
      "\n",
      "<div id=\"sidebar\">\n",
      "<div id=\"sponsor\"><div class=\"quiet\">Our <a href=\"/2024/sponsors\">sponsors</a> help make Advent of Code possible:</div><div class=\"sponsor\"><a href=\"/2024/sponsors/redirect?url=https%3A%2F%2Fwww%2Elightricks%2Ecom%2Fltxv\" target=\"_blank\" onclick=\"if(ga)ga('send','event','sponsor','sidebar',this.href);\" rel=\"noopener\">Lightricks</a> - Are you nerdy but also creative? Do you love AI, but truly believe the human hand doesn’t have six fingers? If you answered yes and want to help the future of creation, we’re hiring software engineers, developers, and more.</div></div>\n",
      "</div><!--/sidebar-->\n",
      "\n",
      "<main>\n",
      "<article><p>That's the right answer!  You are <span class=\"day-success\">one gold star</span> closer to finding the Chief Historian.</p><p>You have completed Day 6! You can <span class=\"share\">[Share<span class=\"share-content\">on\n",
      "  <a href=\"https://bsky.app/intent/compose?text=I+just+completed+%22Guard+Gallivant%22+%2D+Day+6+%2D+Advent+of+Code+2024+%23AdventOfCode+https%3A%2F%2Fadventofcode%2Ecom%2F2024%2Fday%2F6\" target=\"_blank\">Bluesky</a>\n",
      "  <a href=\"https://twitter.com/intent/tweet?text=I+just+completed+%22Guard+Gallivant%22+%2D+Day+6+%2D+Advent+of+Code+2024&amp;url=https%3A%2F%2Fadventofcode%2Ecom%2F2024%2Fday%2F6&amp;related=ericwastl&amp;hashtags=AdventOfCode\" target=\"_blank\">Twitter</a>\n",
      "  <a href=\"javascript:void(0);\" onclick=\"var ms; try{ms=localStorage.getItem('mastodon.server')}finally{} if(typeof ms!=='string')ms=''; ms=prompt('Mastodon Server?',ms); if(typeof ms==='string' && ms.length){this.href='https://'+ms+'/share?text=I+just+completed+%22Guard+Gallivant%22+%2D+Day+6+%2D+Advent+of+Code+2024+%23AdventOfCode+https%3A%2F%2Fadventofcode%2Ecom%2F2024%2Fday%2F6';try{localStorage.setItem('mastodon.server',ms);}finally{}}else{return false;}\" target=\"_blank\">Mastodon</a\n",
      "></span>]</span> this victory or <a href=\"/2024\">[Return to Your Advent Calendar]</a>.</p></article>\n",
      "</main>\n",
      "\n",
      "<!-- ga -->\n",
      "<script>\n",
      "(function(i,s,o,g,r,a,m){i['GoogleAnalyticsObject']=r;i[r]=i[r]||function(){\n",
      "(i[r].q=i[r].q||[]).push(arguments)},i[r].l=1*new Date();a=s.createElement(o),\n",
      "m=s.getElementsByTagName(o)[0];a.async=1;a.src=g;m.parentNode.insertBefore(a,m)\n",
      "})(window,document,'script','//www.google-analytics.com/analytics.js','ga');\n",
      "ga('create', 'UA-69522494-1', 'auto');\n",
      "ga('set', 'anonymizeIp', true);\n",
      "ga('send', 'pageview');\n",
      "</script>\n",
      "<!-- /ga -->\n",
      "</body>\n",
      "</html>\n"
     ]
    },
    {
     "data": {
      "text/plain": [
       "1"
      ]
     },
     "execution_count": 7,
     "metadata": {},
     "output_type": "execute_result"
    }
   ],
   "source": [
    "# # more than 500, less than 2258\n",
    "# not 2014\n",
    "say post_answer('2024/day/6/answer', 2, 2008);"
   ]
  },
  {
   "cell_type": "code",
   "execution_count": null,
   "id": "fb043e9a-1c9a-454a-b1b2-620f9221ab4d",
   "metadata": {},
   "outputs": [],
   "source": []
  }
 ],
 "metadata": {
  "kernelspec": {
   "display_name": "IPerl 0.012",
   "language": "perl",
   "name": "iperl"
  },
  "language_info": {
   "file_extension": ".pl",
   "mimetype": "text/x-perl",
   "name": "perl",
   "version": "5.34.0"
  }
 },
 "nbformat": 4,
 "nbformat_minor": 5
}
