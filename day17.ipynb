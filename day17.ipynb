{
 "cells": [
  {
   "cell_type": "code",
   "execution_count": 1,
   "id": "0dac1b20-72d7-40a4-956f-a92de6840b48",
   "metadata": {},
   "outputs": [
    {
     "data": {
      "text/plain": [
       "1"
      ]
     },
     "execution_count": 1,
     "metadata": {},
     "output_type": "execute_result"
    }
   ],
   "source": [
    "#!/usr/bin/env perl\n",
    "use strict;\n",
    "use warnings;\n",
    "use feature qw/ say current_sub state /;\n",
    "use Data::Dumper;\n",
    "use lib '.';\n",
    "use toolkit;\n",
    "use graphql;\n",
    "use adventofcode;\n",
    "\n",
    "$Data::Dumper::Sortkeys = 1;"
   ]
  },
  {
   "cell_type": "code",
   "execution_count": 2,
   "id": "f1bdd489-b927-4a81-b812-29e06f6fff8b",
   "metadata": {},
   "outputs": [
    {
     "data": {
      "text/plain": [
       "\n",
       "Register A: 729\n",
       "Register B: 0\n",
       "Register C: 0\n",
       "\n",
       "Program: 0,1,5,4,3,0\n"
      ]
     },
     "execution_count": 2,
     "metadata": {},
     "output_type": "execute_result"
    }
   ],
   "source": [
    "my $practice_input = qq/\n",
    "Register A: 729\n",
    "Register B: 0\n",
    "Register C: 0\n",
    "\n",
    "Program: 0,1,5,4,3,0\n",
    "/;"
   ]
  },
  {
   "cell_type": "code",
   "execution_count": 213,
   "id": "32c260a2-0f6b-48b1-93c0-d3a0c6de7049",
   "metadata": {},
   "outputs": [
    {
     "name": "stdout",
     "output_type": "stream",
     "text": [
      "$VAR1 = '2';\n",
      "\n",
      "confirmed: 1\n",
      "confirmed: 0,1,2\n",
      "confirmed: 4,2,5,6,7,7,7,7,3,1,0\n",
      "confirmed: 2\n",
      "confirmed: 0,3,5,4,3,0\n",
      "confirmed: 4,6,3,5,6,3,5,2,1,0\n",
      "[time] 0 seconds\n"
     ]
    },
    {
     "data": {
      "text/plain": [
       "0"
      ]
     },
     "execution_count": 213,
     "metadata": {},
     "output_type": "execute_result"
    },
    {
     "ename": "Warning",
     "evalue": "Subroutine combo_getter redefined at reply input line 17.\n\nVariable \"%instruction_map\" will not stay shared at reply input line 62.\n\nVariable \"%handlers\" will not stay shared at reply input line 66.\n\nSubroutine step_state redefined at reply input line 59.\n\nSubroutine process_day17_part1 redefined at reply input line 1.\n",
     "output_type": "error",
     "traceback": [
      "Subroutine combo_getter redefined at reply input line 17.\n\nVariable \"%instruction_map\" will not stay shared at reply input line 62.\n\nVariable \"%handlers\" will not stay shared at reply input line 66.\n\nSubroutine step_state redefined at reply input line 59.\n\nSubroutine process_day17_part1 redefined at reply input line 1.\n"
     ]
    }
   ],
   "source": [
    "sub process_day17_part1 {\n",
    "    my ($input) = @_;\n",
    "    my ($registers, $program) = split \"\\n\\n\", $input;\n",
    "    die unless $registers =~ /Register A: (\\d+)\\nRegister B: (\\d+)\\nRegister C: (\\d+)/;\n",
    "    my ($rega, $regb, $regc) = (int $1, int $2, int $3);\n",
    "    my @instructions = map int, split ',', (map s/\\n//gr, split ': ', $program)[1];\n",
    "    my %instruction_map = (\n",
    "        0 => 'adv',\n",
    "        1 => 'bxl',\n",
    "        2 => 'bst',\n",
    "        3 => 'jnz',\n",
    "        4 => 'bxc',\n",
    "        5 => 'out',\n",
    "        6 => 'bdv',\n",
    "        7 => 'cdv',\n",
    "    );\n",
    "    sub combo_getter {\n",
    "        my ($state, $lit) = @_;\n",
    "        die \"invalid combo literal: $lit\" if $lit < 0 || $lit > 6;\n",
    "        return $lit if $lit < 4;\n",
    "        return $state->{(qw/a b c/)[$lit - 4]};\n",
    "    }\n",
    "    my %handlers = (\n",
    "        adv => sub {\n",
    "            my ($state, $lit) = @_;\n",
    "            $state->{a} = int ($state->{a} >> (combo_getter($state, $lit)));\n",
    "        },\n",
    "        bxl => sub {\n",
    "            my ($state, $lit) = @_;\n",
    "            $state->{b} ^= int $lit;\n",
    "        },\n",
    "        bst => sub {\n",
    "            my ($state, $lit) = @_;\n",
    "            $state->{b} = combo_getter($state, $lit) % 8;\n",
    "        },\n",
    "        jnz => sub {\n",
    "            my ($state, $lit) = @_;\n",
    "            if ($state->{a} != 0) {\n",
    "                $state->{ip} = $lit - 2;\n",
    "            }\n",
    "        },\n",
    "        bxc => sub {\n",
    "            my ($state, $lit) = @_;\n",
    "            $state->{b} ^= int $state->{c};\n",
    "        },\n",
    "        out => sub {\n",
    "            my ($state, $lit) = @_;\n",
    "            push @{$state->{output}}, combo_getter($state, $lit) % 8;\n",
    "        },\n",
    "        bdv => sub {\n",
    "            my ($state, $lit) = @_;\n",
    "            $state->{b} = int ($state->{a} >> (combo_getter($state, $lit)));\n",
    "        },\n",
    "        cdv => sub {\n",
    "            my ($state, $lit) = @_;\n",
    "            $state->{c} = int ($state->{a} >> (combo_getter($state, $lit)));\n",
    "        },\n",
    "    );\n",
    "    sub step_state {\n",
    "        my ($state) = @_;\n",
    "        # die \"invalid ip: $state->{ip}\" if $state->{ip} < 0 || $state->{ip} >= @{$state->{program}} - 1;\n",
    "        my $instruction = $instruction_map{$state->{program}[$state->{ip}]};\n",
    "        my $lit = $state->{program}[$state->{ip}+1];\n",
    "        # say \"debug: $instruction: $lit ($state->{a}, $state->{b}, $state->{c}, @ $state->{ip})\";\n",
    "        # say $handlers{$instruction};\n",
    "        $handlers{$instruction}->($state, $state->{program}[$state->{ip}+1]);\n",
    "        $state->{ip} += 2;\n",
    "    }\n",
    "    # my @parsed_instructions = map [ $instruction_map{$instructions[$_]}, $instructions[$_+1] ], grep $_ % 2 == 0, 0 .. $#instructions;\n",
    "\n",
    "    my $state = {\n",
    "        a => $rega,\n",
    "        b => $regb,\n",
    "        c => $regc,\n",
    "        ip => 0,\n",
    "        program => \\@instructions,\n",
    "        output => [],\n",
    "        step => 0,\n",
    "    };\n",
    "    while ($state->{ip} < @instructions) {\n",
    "        last if $state->{step}++ > 1000;\n",
    "        step_state($state);\n",
    "    }\n",
    "    return join ',', @{$state->{output}};\n",
    "}\n",
    "timer sub {\n",
    "    # say Dumper process_day17_part1($practice_input);\n",
    "    say Dumper process_day17_part1(qq/Register A: 0\n",
    "Register B: 2024\n",
    "Register C: 43690\n",
    "\n",
    "Program: 4,0,5,5/);\n",
    "    # say Dumper process_day17_part1($practice_input2);\n",
    "    confirm process_day17_part1(qq/Register A: 0\n",
    "Register B: 0\n",
    "Register C: 9\n",
    "\n",
    "Program: 2,6,5,5/), '1';\n",
    "    confirm process_day17_part1(qq/Register A: 10\n",
    "Register B: 0\n",
    "Register C: 0\n",
    "\n",
    "Program: 5,0,5,1,5,4/), '0,1,2';\n",
    "    confirm process_day17_part1(qq/Register A: 2024\n",
    "Register B: 0\n",
    "Register C: 0\n",
    "\n",
    "Program: 0,1,5,4,3,0/), '4,2,5,6,7,7,7,7,3,1,0';\n",
    "\n",
    "    confirm process_day17_part1(qq/Register A: 0\n",
    "Register B: 29\n",
    "Register C: 0\n",
    "\n",
    "Program: 1,7,5,5/), '2';\n",
    "\n",
    "    confirm process_day17_part1(qq/\n",
    "Register A: 117440\n",
    "Register B: 0\n",
    "Register C: 0\n",
    "\n",
    "Program: 0,3,5,4,3,0/), '0,3,5,4,3,0';\n",
    "\n",
    "    confirm process_day17_part1($practice_input), '4,6,3,5,6,3,5,2,1,0';\n",
    "    # confirm process_day17_part1($practice_input2), 11048;\n",
    "}"
   ]
  },
  {
   "cell_type": "code",
   "execution_count": 214,
   "id": "3cbd260d-f37a-428b-a28f-50123188f6a2",
   "metadata": {},
   "outputs": [
    {
     "name": "stdout",
     "output_type": "stream",
     "text": [
      "$VAR1 = '1,0,2,0,5,7,2,1,3';\n",
      "\n",
      "confirmed: 1,0,2,0,5,7,2,1,3\n",
      "[time] 0 seconds\n"
     ]
    },
    {
     "data": {
      "text/plain": [
       "0"
      ]
     },
     "execution_count": 214,
     "metadata": {},
     "output_type": "execute_result"
    }
   ],
   "source": [
    "my $res;\n",
    "timer sub {\n",
    "    my $input = get_challenge('2024/day/17/input');\n",
    "    $res = process_day17_part1($input);\n",
    "    say Dumper $res;\n",
    "    confirm $res, '1,0,2,0,5,7,2,1,3';\n",
    "};"
   ]
  },
  {
   "cell_type": "code",
   "execution_count": 73,
   "id": "ead13da2-6827-46d9-8708-ea861f2ed25d",
   "metadata": {},
   "outputs": [
    {
     "data": {
      "text/plain": [
       "1,0,2,0,5,7,2,1,3"
      ]
     },
     "execution_count": 73,
     "metadata": {},
     "output_type": "execute_result"
    }
   ],
   "source": [
    "$res"
   ]
  },
  {
   "cell_type": "code",
   "execution_count": 74,
   "id": "299b6c06-a775-46e6-9561-01e20478f324",
   "metadata": {},
   "outputs": [
    {
     "name": "stdout",
     "output_type": "stream",
     "text": [
      "<!DOCTYPE html>\n",
      "<html lang=\"en-us\">\n",
      "<head>\n",
      "<meta charset=\"utf-8\"/>\n",
      "<title>Day 17 - Advent of Code 2024</title>\n",
      "<link rel=\"stylesheet\" type=\"text/css\" href=\"/static/style.css?31\"/>\n",
      "<link rel=\"stylesheet alternate\" type=\"text/css\" href=\"/static/highcontrast.css?1\" title=\"High Contrast\"/>\n",
      "<link rel=\"shortcut icon\" href=\"/favicon.png\"/>\n",
      "<script>window.addEventListener('click', function(e,s,r){if(e.target.nodeName==='CODE'&&e.detail===3){s=window.getSelection();s.removeAllRanges();r=document.createRange();r.selectNodeContents(e.target);s.addRange(r);}});</script>\n",
      "</head><!--\n",
      "\n",
      "\n",
      "\n",
      "\n",
      "Oh, hello!  Funny seeing you here.\n",
      "\n",
      "I appreciate your enthusiasm, but you aren't going to find much down here.\n",
      "There certainly aren't clues to any of the puzzles.  The best surprises don't\n",
      "even appear in the source until you unlock them for real.\n",
      "\n",
      "Please be careful with automated requests; I'm not a massive company, and I can\n",
      "only take so much traffic.  Please be considerate so that everyone gets to play.\n",
      "\n",
      "If you're curious about how Advent of Code works, it's running on some custom\n",
      "Perl code. Other than a few integrations (auth, analytics, social media), I\n",
      "built the whole thing myself, including the design, animations, prose, and all\n",
      "of the puzzles.\n",
      "\n",
      "The puzzles are most of the work; preparing a new calendar and a new set of\n",
      "puzzles each year takes all of my free time for 4-5 months. A lot of effort\n",
      "went into building this thing - I hope you're enjoying playing it as much as I\n",
      "enjoyed making it for you!\n",
      "\n",
      "If you'd like to hang out, I'm @was.tl on Bluesky, @ericwastl@hachyderm.io on\n",
      "Mastodon, and @ericwastl on Twitter.\n",
      "\n",
      "- Eric Wastl\n",
      "\n",
      "\n",
      "\n",
      "\n",
      "\n",
      "\n",
      "\n",
      "\n",
      "\n",
      "\n",
      "\n",
      "\n",
      "\n",
      "\n",
      "\n",
      "\n",
      "\n",
      "\n",
      "\n",
      "\n",
      "\n",
      "\n",
      "\n",
      "\n",
      "\n",
      "\n",
      "\n",
      "\n",
      "\n",
      "\n",
      "\n",
      "\n",
      "\n",
      "\n",
      "\n",
      "\n",
      "\n",
      "\n",
      "\n",
      "\n",
      "\n",
      "\n",
      "\n",
      "\n",
      "\n",
      "\n",
      "\n",
      "\n",
      "\n",
      "\n",
      "-->\n",
      "<body>\n",
      "<header><div><h1 class=\"title-global\"><a href=\"/\">Advent of Code</a></h1><nav><ul><li><a href=\"/2024/about\">[About]</a></li><li><a href=\"/2024/events\">[Events]</a></li><li><a href=\"https://cottonbureau.com/people/advent-of-code\" target=\"_blank\">[Shop]</a></li><li><a href=\"/2024/settings\">[Settings]</a></li><li><a href=\"/2024/auth/logout\">[Log Out]</a></li></ul></nav><div class=\"user\">mirror12k <span class=\"star-count\">33*</span></div></div><div><h1 class=\"title-event\">&nbsp;&nbsp;<span class=\"title-event-wrap\">0.0.0.0:</span><a href=\"/2024\">2024</a><span class=\"title-event-wrap\"></span></h1><nav><ul><li><a href=\"/2024\">[Calendar]</a></li><li><a href=\"/2024/support\">[AoC++]</a></li><li><a href=\"/2024/sponsors\">[Sponsors]</a></li><li><a href=\"/2024/leaderboard\">[Leaderboard]</a></li><li><a href=\"/2024/stats\">[Stats]</a></li></ul></nav></div></header>\n",
      "\n",
      "<div id=\"sidebar\">\n",
      "<div id=\"sponsor\"><div class=\"quiet\">Our <a href=\"/2024/sponsors\">sponsors</a> help make Advent of Code possible:</div><div class=\"sponsor\"><a href=\"/2024/sponsors/redirect?url=https%3A%2F%2Fwww%2Ehoneycomb%2Eio%2Fproduct%2Doverview\" target=\"_blank\" onclick=\"if(ga)ga('send','event','sponsor','sidebar',this.href);\" rel=\"noopener\">Honeycomb.io</a> - Honeycomb offers unlimited dimensionality when storing, querying, and correlating data, helping developers find problems quickly.</div></div>\n",
      "</div><!--/sidebar-->\n",
      "\n",
      "<main>\n",
      "<article><p>That's the right answer!  You are <span class=\"day-success\">one gold star</span> closer to finding the Chief Historian. <a href=\"/2024/day/17#part2\">[Continue to Part Two]</a></p></article>\n",
      "</main>\n",
      "\n",
      "<!-- ga -->\n",
      "<script>\n",
      "(function(i,s,o,g,r,a,m){i['GoogleAnalyticsObject']=r;i[r]=i[r]||function(){\n",
      "(i[r].q=i[r].q||[]).push(arguments)},i[r].l=1*new Date();a=s.createElement(o),\n",
      "m=s.getElementsByTagName(o)[0];a.async=1;a.src=g;m.parentNode.insertBefore(a,m)\n",
      "})(window,document,'script','//www.google-analytics.com/analytics.js','ga');\n",
      "ga('create', 'UA-69522494-1', 'auto');\n",
      "ga('set', 'anonymizeIp', true);\n",
      "ga('send', 'pageview');\n",
      "</script>\n",
      "<!-- /ga -->\n",
      "</body>\n",
      "</html>\n"
     ]
    },
    {
     "data": {
      "text/plain": [
       "1"
      ]
     },
     "execution_count": 74,
     "metadata": {},
     "output_type": "execute_result"
    }
   ],
   "source": [
    "say post_answer('2024/day/17/answer', 1, $res);"
   ]
  },
  {
   "cell_type": "code",
   "execution_count": 232,
   "id": "868e7048-551a-4520-8d6d-7493dcaac0fe",
   "metadata": {},
   "outputs": [
    {
     "name": "stdout",
     "output_type": "stream",
     "text": [
      "confirmed: 117440\n",
      "[time] 0 seconds\n"
     ]
    },
    {
     "data": {
      "text/plain": [
       "0"
      ]
     },
     "execution_count": 232,
     "metadata": {},
     "output_type": "execute_result"
    },
    {
     "ename": "Warning",
     "evalue": "Subroutine search_chain2 redefined at reply input line 6.\n\nSubroutine process_day17_part2 redefined at reply input line 1.\n",
     "output_type": "error",
     "traceback": [
      "Subroutine search_chain2 redefined at reply input line 6.\n\nSubroutine process_day17_part2 redefined at reply input line 1.\n"
     ]
    }
   ],
   "source": [
    "sub process_day17_part2 {\n",
    "    my ($input) = @_;\n",
    "    my ($registers, $program) = split \"\\n\\n\", $input;\n",
    "    my $program_code = (map s/\\n//gr, split ': ', $program)[1];\n",
    "\n",
    "    sub search_chain2 {\n",
    "        my ($program, $target) = @_;\n",
    "        my @target_nums = split ',', $target;\n",
    "        shift @target_nums;\n",
    "        if (@target_nums == 0) {\n",
    "            return grep process_day17_part1(qq/Register A: $_\n",
    "Register B: 0\n",
    "Register C: 0\n",
    "\n",
    "Program: $program/) eq $target, 0 .. 7;\n",
    "        } else {\n",
    "            return\n",
    "                grep process_day17_part1(qq/Register A: $_\n",
    "Register B: 0\n",
    "Register C: 0\n",
    "\n",
    "Program: $program/) eq $target,\n",
    "                map { my $acc = $_; map { ($acc << 3)+$_ } 0 .. 7 }\n",
    "                search_chain2($program, join ',', @target_nums);\n",
    "        }\n",
    "    }\n",
    "    my @answers = map int, search_chain2($program_code, $program_code);\n",
    "    my $smallest = (sort @answers)[0];\n",
    "    # say Dumper @answers;\n",
    "    # say Dumper $smallest;\n",
    "    \n",
    "    return $smallest;\n",
    "}\n",
    "timer sub {\n",
    "    confirm process_day17_part2(qq/Register A: 2024\n",
    "Register B: 0\n",
    "Register C: 0\n",
    "\n",
    "Program: 0,3,5,4,3,0/), 117440;\n",
    "}"
   ]
  },
  {
   "cell_type": "code",
   "execution_count": 233,
   "id": "a0e77d26-bfd0-4df1-a578-f726a2672952",
   "metadata": {},
   "outputs": [
    {
     "name": "stdout",
     "output_type": "stream",
     "text": [
      "$VAR1 = '265652340990875';\n",
      "\n",
      "confirmed: 265652340990875\n",
      "[time] 1 seconds\n"
     ]
    },
    {
     "data": {
      "text/plain": [
       "1"
      ]
     },
     "execution_count": 233,
     "metadata": {},
     "output_type": "execute_result"
    }
   ],
   "source": [
    "my $res;\n",
    "timer sub {\n",
    "    # 200000 in 2s\n",
    "    # 1000000 in 7s\n",
    "    my $input = get_challenge('2024/day/17/input');\n",
    "    $res = process_day17_part2($input);\n",
    "    say Dumper $res;\n",
    "    confirm $res, 265652340990875;\n",
    "};"
   ]
  },
  {
   "cell_type": "code",
   "execution_count": 57,
   "id": "0b18e717-e427-4d5d-b607-6f0c378cec76",
   "metadata": {},
   "outputs": [
    {
     "name": "stdout",
     "output_type": "stream",
     "text": [
      "confirmed: 1,0,2,0,5,7,2,1,3\n",
      "confirmed: 1,0,2,0,5,7,2,1,3\n",
      "$VAR1 = 63203070;\n",
      "\n",
      "[time] 15 seconds\n"
     ]
    },
    {
     "data": {
      "text/plain": [
       "15"
      ]
     },
     "execution_count": 57,
     "metadata": {},
     "output_type": "execute_result"
    },
    {
     "ename": "Warning",
     "evalue": "Subroutine day17_prog redefined at reply input line 1.\n\nSubroutine day17_prog_searcher redefined at reply input line 31.\n",
     "output_type": "error",
     "traceback": [
      "Subroutine day17_prog redefined at reply input line 1.\n\nSubroutine day17_prog_searcher redefined at reply input line 31.\n"
     ]
    }
   ],
   "source": [
    "sub day17_prog {\n",
    "    my @output;\n",
    "    my ($a) = @_;\n",
    "    while ($a > 0) {\n",
    "        my $b = 0;\n",
    "        my $c = 0;\n",
    "    \t# debug: bst: 4 (64012472, 0, 0, @ 0)\n",
    "    \t$b = ($a & 0x7) ^ 0x7;\n",
    "    \t# # debug: bxl: 7 (64012472, 0, 0, @ 2)\n",
    "    \t# $b ^= 7;\n",
    "    \t# # debug: cdv: 5 (64012472, 7, 0, @ 4)\n",
    "    \t# $c = $a >> $b;\n",
    "    \t# # debug: adv: 3 (64012472, 7, 500097, @ 6)\n",
    "    \t# $a = $a >> 3;\n",
    "    \t# # debug: bxl: 7 (8001559, 7, 500097, @ 8)\n",
    "    \t# $b ^= 7;\n",
    "    \t# # debug: bxc: 1 (8001559, 0, 500097, @ 10)\n",
    "    \t# $b ^= $c;\n",
    "    \t# debug: out: 5 (8001559, 500097, 500097, @ 12)\n",
    "    \tpush @output, ($b ^ 7 ^ ($a >> $b)) & 0x7;\n",
    "    \t# debug: jnz: 0 (8001559, 500097, 500097, @ 14)\n",
    "    \t$a = $a >> 3;\n",
    "    }\n",
    "    return join ',', @output;\n",
    "}\n",
    "\n",
    "# say Dumper day17_prog(64012472);\n",
    "confirm day17_prog(64012472), '1,0,2,0,5,7,2,1,3';\n",
    "confirm day17_prog(63203070), '1,0,2,0,5,7,2,1,3';\n",
    "\n",
    "sub day17_prog_searcher {\n",
    "    my ($search, $start, $end) = @_;\n",
    "    my @instructions = map $_ ^ 7, map int, split ',', $search;\n",
    "    foreach my $i ($start .. $end) {\n",
    "        # my @output;\n",
    "        my $a = $i;\n",
    "        my $d = 0;\n",
    "        my $bad = 0;\n",
    "        while ($a > 0) {\n",
    "        \t# debug: bst: 4 (64012472, 0, 0, @ 0)\n",
    "        \tmy $b = ($a & 0x7) ^ 0x7;\n",
    "        \t# # debug: bxl: 7 (64012472, 0, 0, @ 2)\n",
    "        \t# $b ^= 7;\n",
    "        \t# # debug: cdv: 5 (64012472, 7, 0, @ 4)\n",
    "        \t# $c = $a >> $b;\n",
    "        \t# # debug: adv: 3 (64012472, 7, 500097, @ 6)\n",
    "        \t# $a = $a >> 3;\n",
    "        \t# # debug: bxl: 7 (8001559, 7, 500097, @ 8)\n",
    "        \t# $b ^= 7;\n",
    "        \t# # debug: bxc: 1 (8001559, 0, 500097, @ 10)\n",
    "        \t# $b ^= $c;\n",
    "        \t# debug: out: 5 (8001559, 500097, 500097, @ 12)\n",
    "        \t# push @output, ($b ^ ($a >> $b)) & 0x7;\n",
    "            if ($instructions[$d++] != (($b ^ ($a >> $b)) & 0x7)) {\n",
    "                $bad = 1;\n",
    "                last;\n",
    "            }\n",
    "        \t# debug: jnz: 0 (8001559, 500097, 500097, @ 14)\n",
    "        \t$a = $a >> 3;\n",
    "        }\n",
    "        # if (@output == @instructions) {\n",
    "        #     my $res = join ',', @output;\n",
    "        #     if ($res eq join ',', @instructions) {\n",
    "        #         return $i;\n",
    "        #     }\n",
    "        # }\n",
    "        if ($d == @instructions and not $bad) {\n",
    "            # my $res = join ',', @output;\n",
    "            # if ($res eq join ',', @instructions) {\n",
    "                return $i;\n",
    "            # }\n",
    "        }\n",
    "    }\n",
    "}\n",
    "\n",
    "timer sub {\n",
    "    say Dumper day17_prog_searcher('1,0,2,0,5,7,2,1,3', 0, 100000000);\n",
    "}"
   ]
  },
  {
   "cell_type": "code",
   "execution_count": 204,
   "id": "16324d5a-a844-4a55-956f-ab1f3adb6dfb",
   "metadata": {},
   "outputs": [
    {
     "name": "stdout",
     "output_type": "stream",
     "text": [
      "$VAR1 = '2,4,1,7,7,5,0,3,1,7,4,1,5,5,3,0';\n",
      "\n"
     ]
    },
    {
     "data": {
      "text/plain": [
       "1"
      ]
     },
     "execution_count": 204,
     "metadata": {},
     "output_type": "execute_result"
    }
   ],
   "source": [
    "say Dumper day17_prog(265652340990875);\n"
   ]
  },
  {
   "cell_type": "code",
   "execution_count": 181,
   "id": "f195eb8e-ce28-4c18-b0ec-724fb1604a70",
   "metadata": {},
   "outputs": [
    {
     "name": "stdout",
     "output_type": "stream",
     "text": [
      "4\n",
      "5\n",
      "0\n",
      "3\n",
      "1\n",
      "7\n",
      "4\n",
      "1\n",
      "5\n",
      "5\n",
      "3\n",
      "0\n"
     ]
    }
   ],
   "source": [
    "# 2,4,1,7,7,5,0,3,1,7,4,1,5,5,3,0\n",
    "my $a = 0;\n",
    "my @l = (0x7, 0x4, 0x6, 0x1, 0x6, 0x3, 0x0, 0x0, 0x3, 0x0, 0x6);\n",
    "foreach my $i (0 .. $#l) {\n",
    "    $a <<= 3;\n",
    "    $a |= $l[$i];\n",
    "}\n",
    "# my $a = 0x3c;\n",
    "my $b;\n",
    "while ($a > 0) {\n",
    "    $b = ($a & 0x7) ^ 0x7;\n",
    "    say (($b ^ 7 ^ ($a >> $b)) & 0x7);\n",
    "    $a >>= 3;\n",
    "}"
   ]
  },
  {
   "cell_type": "code",
   "execution_count": null,
   "id": "78247743-a6b3-46bc-a430-79b76ede06f3",
   "metadata": {},
   "outputs": [],
   "source": []
  },
  {
   "cell_type": "code",
   "execution_count": 222,
   "id": "e85e1bbb-254b-4250-b81e-d57c186dd9a2",
   "metadata": {},
   "outputs": [
    {
     "name": "stdout",
     "output_type": "stream",
     "text": [
      "$VAR1 = '265652340990875';\n",
      "\n",
      "[time] 0 seconds\n"
     ]
    },
    {
     "data": {
      "text/plain": [
       "0"
      ]
     },
     "execution_count": 222,
     "metadata": {},
     "output_type": "execute_result"
    },
    {
     "ename": "Warning",
     "evalue": "Subroutine search_chain2 redefined at reply input line 3.\n",
     "output_type": "error",
     "traceback": [
      "Subroutine search_chain2 redefined at reply input line 3.\n"
     ]
    }
   ],
   "source": [
    "# 2,4,1,7,7,5,0,3,1,7,4,1,5,5,3,0\n",
    "\n",
    "sub search_chain2 {\n",
    "    my ($program, $target) = @_;\n",
    "    my @target_nums = split ',', $target;\n",
    "    shift @target_nums;\n",
    "    if (@target_nums == 0) {\n",
    "        return grep process_day17_part1(qq/Register A: $_\n",
    "Register B: 0\n",
    "Register C: 0\n",
    "\n",
    "Program: $program/) eq $target, 0 .. 7;\n",
    "    } else {\n",
    "        return\n",
    "            grep process_day17_part1(qq/Register A: $_\n",
    "Register B: 0\n",
    "Register C: 0\n",
    "\n",
    "Program: $program/) eq $target,\n",
    "            map { my $acc = $_; map { ($acc << 3)+$_ } 0 .. 7 }\n",
    "            search_chain2($program, join ',', @target_nums);\n",
    "    }\n",
    "}\n",
    "timer sub {\n",
    "    my @answers = map int, search_chain2('2,4,1,7,7,5,0,3,1,7,4,1,5,5,3,0', '2,4,1,7,7,5,0,3,1,7,4,1,5,5,3,0');\n",
    "    my $smallest = (sort @answers)[0];\n",
    "    # say Dumper @answers;\n",
    "    say Dumper $smallest;\n",
    "}"
   ]
  },
  {
   "cell_type": "code",
   "execution_count": 211,
   "id": "2a8d92a4-cfbd-4100-a49a-55b7e6d623ef",
   "metadata": {},
   "outputs": [
    {
     "name": "stdout",
     "output_type": "stream",
     "text": [
      "$VAR1 = '265652340990875';\n",
      "$VAR2 = '265652340990877';\n",
      "\n"
     ]
    },
    {
     "data": {
      "text/plain": [
       "1"
      ]
     },
     "execution_count": 211,
     "metadata": {},
     "output_type": "execute_result"
    },
    {
     "ename": "Warning",
     "evalue": "Subroutine search_chain redefined at reply input line 3.\n",
     "output_type": "error",
     "traceback": [
      "Subroutine search_chain redefined at reply input line 3.\n"
     ]
    }
   ],
   "source": [
    "# 2,4,1,7,7,5,0,3,1,7,4,1,5,5,3,0\n",
    "\n",
    "sub search_chain {\n",
    "    my ($target) = @_;\n",
    "    my @target_nums = split ',', $target;\n",
    "    shift @target_nums;\n",
    "    if (@target_nums == 0) {\n",
    "        return grep day17_prog($_) eq $target, 0 .. 7;\n",
    "    } else {\n",
    "        return grep day17_prog($_) eq $target, map { my $acc = $_; map { ($acc << 3)+$_ } 0 .. 7 } search_chain(join ',', @target_nums);\n",
    "    }\n",
    "}\n",
    "say Dumper search_chain('2,4,1,7,7,5,0,3,1,7,4,1,5,5,3,0');\n"
   ]
  },
  {
   "cell_type": "code",
   "execution_count": null,
   "id": "91d036d5-0dac-493b-a51b-efb8e4c2da14",
   "metadata": {},
   "outputs": [],
   "source": []
  }
 ],
 "metadata": {
  "kernelspec": {
   "display_name": "IPerl 0.012",
   "language": "perl",
   "name": "iperl"
  },
  "language_info": {
   "file_extension": ".pl",
   "mimetype": "text/x-perl",
   "name": "perl",
   "version": "5.34.0"
  }
 },
 "nbformat": 4,
 "nbformat_minor": 5
}
